{
  "metadata": {
    "kernelspec": {
      "name": "python",
      "display_name": "Python (Pyodide)",
      "language": "python"
    },
    "language_info": {
      "codemirror_mode": {
        "name": "ipython",
        "version": 3
      },
      "file_extension": ".py",
      "mimetype": "text/x-python",
      "name": "python",
      "nbconvert_exporter": "python",
      "pygments_lexer": "ipython3",
      "version": "3.9.5"
    },
    "ExecuteTimeLog": [
      {
        "duration": 459,
        "start_time": "2024-01-26T07:32:19.121Z"
      },
      {
        "duration": 61,
        "start_time": "2024-01-26T07:33:21.175Z"
      },
      {
        "duration": 66,
        "start_time": "2024-01-26T07:33:51.449Z"
      },
      {
        "duration": 15,
        "start_time": "2024-01-26T07:33:56.615Z"
      },
      {
        "duration": 4,
        "start_time": "2024-01-26T07:35:03.849Z"
      },
      {
        "duration": 10,
        "start_time": "2024-01-26T07:37:27.329Z"
      },
      {
        "duration": 13,
        "start_time": "2024-01-26T08:15:43.196Z"
      },
      {
        "duration": 4,
        "start_time": "2024-01-26T08:16:09.003Z"
      },
      {
        "duration": 5,
        "start_time": "2024-01-26T08:18:21.892Z"
      },
      {
        "duration": 4,
        "start_time": "2024-01-26T08:18:39.075Z"
      },
      {
        "duration": 13,
        "start_time": "2024-01-26T08:30:19.110Z"
      },
      {
        "duration": 12,
        "start_time": "2024-01-26T08:30:46.072Z"
      },
      {
        "duration": 14,
        "start_time": "2024-01-26T08:34:39.640Z"
      },
      {
        "duration": 14,
        "start_time": "2024-01-26T11:57:06.121Z"
      },
      {
        "duration": 9,
        "start_time": "2024-01-26T12:01:13.915Z"
      },
      {
        "duration": 5,
        "start_time": "2024-01-26T12:02:33.611Z"
      },
      {
        "duration": 6,
        "start_time": "2024-01-26T12:04:09.756Z"
      },
      {
        "duration": 5,
        "start_time": "2024-01-26T12:07:53.278Z"
      },
      {
        "duration": 5,
        "start_time": "2024-01-26T12:08:18.891Z"
      },
      {
        "duration": 5,
        "start_time": "2024-01-26T12:08:26.730Z"
      },
      {
        "duration": 3,
        "start_time": "2024-01-26T12:08:40.598Z"
      },
      {
        "duration": 28,
        "start_time": "2024-01-26T12:08:40.603Z"
      },
      {
        "duration": 9,
        "start_time": "2024-01-26T12:08:40.633Z"
      },
      {
        "duration": 17,
        "start_time": "2024-01-26T12:08:40.643Z"
      },
      {
        "duration": 4,
        "start_time": "2024-01-26T12:08:40.663Z"
      },
      {
        "duration": 17,
        "start_time": "2024-01-26T12:08:40.668Z"
      },
      {
        "duration": 6,
        "start_time": "2024-01-26T12:08:40.687Z"
      },
      {
        "duration": 6,
        "start_time": "2024-01-26T12:08:40.695Z"
      },
      {
        "duration": 9,
        "start_time": "2024-01-26T12:08:40.703Z"
      },
      {
        "duration": 13,
        "start_time": "2024-01-26T12:08:40.713Z"
      },
      {
        "duration": 35,
        "start_time": "2024-01-26T12:08:40.728Z"
      },
      {
        "duration": 21,
        "start_time": "2024-01-26T12:08:40.764Z"
      },
      {
        "duration": 430,
        "start_time": "2024-01-26T12:08:46.257Z"
      },
      {
        "duration": 26,
        "start_time": "2024-01-26T12:08:46.689Z"
      },
      {
        "duration": 63,
        "start_time": "2024-01-26T12:08:46.717Z"
      },
      {
        "duration": 84,
        "start_time": "2024-01-26T12:08:46.781Z"
      },
      {
        "duration": 30,
        "start_time": "2024-01-26T12:08:46.867Z"
      },
      {
        "duration": 55,
        "start_time": "2024-01-26T12:08:46.898Z"
      },
      {
        "duration": 32,
        "start_time": "2024-01-26T12:08:46.955Z"
      },
      {
        "duration": 28,
        "start_time": "2024-01-26T12:08:46.990Z"
      },
      {
        "duration": 20,
        "start_time": "2024-01-26T12:08:47.020Z"
      },
      {
        "duration": 20,
        "start_time": "2024-01-26T12:08:47.042Z"
      },
      {
        "duration": 14,
        "start_time": "2024-01-26T12:08:47.064Z"
      },
      {
        "duration": 16,
        "start_time": "2024-01-26T12:08:47.079Z"
      },
      {
        "duration": 3,
        "start_time": "2024-01-26T12:10:54.149Z"
      },
      {
        "duration": 5,
        "start_time": "2024-01-26T12:10:54.813Z"
      },
      {
        "duration": 3,
        "start_time": "2024-01-26T12:11:21.313Z"
      },
      {
        "duration": 4,
        "start_time": "2024-01-26T12:11:24.057Z"
      },
      {
        "duration": 452,
        "start_time": "2024-01-26T12:11:29.380Z"
      },
      {
        "duration": 28,
        "start_time": "2024-01-26T12:11:29.843Z"
      },
      {
        "duration": 19,
        "start_time": "2024-01-26T12:11:29.873Z"
      },
      {
        "duration": 13,
        "start_time": "2024-01-26T12:11:29.894Z"
      },
      {
        "duration": 5,
        "start_time": "2024-01-26T12:11:29.909Z"
      },
      {
        "duration": 20,
        "start_time": "2024-01-26T12:11:29.916Z"
      },
      {
        "duration": 6,
        "start_time": "2024-01-26T12:11:29.938Z"
      },
      {
        "duration": 24,
        "start_time": "2024-01-26T12:11:29.946Z"
      },
      {
        "duration": 7,
        "start_time": "2024-01-26T12:11:29.972Z"
      },
      {
        "duration": 19,
        "start_time": "2024-01-26T12:11:29.981Z"
      },
      {
        "duration": 13,
        "start_time": "2024-01-26T12:11:30.002Z"
      },
      {
        "duration": 35,
        "start_time": "2024-01-26T12:11:30.017Z"
      },
      {
        "duration": 294,
        "start_time": "2024-01-26T12:11:43.837Z"
      },
      {
        "duration": 80,
        "start_time": "2024-01-26T12:11:51.838Z"
      },
      {
        "duration": 79,
        "start_time": "2024-01-26T12:11:55.273Z"
      },
      {
        "duration": 82,
        "start_time": "2024-01-26T12:17:58.408Z"
      },
      {
        "duration": 4,
        "start_time": "2024-01-26T12:18:08.791Z"
      },
      {
        "duration": 5,
        "start_time": "2024-01-26T12:18:11.051Z"
      },
      {
        "duration": 4,
        "start_time": "2024-01-26T12:18:33.747Z"
      },
      {
        "duration": 4,
        "start_time": "2024-01-26T12:18:34.636Z"
      },
      {
        "duration": 12,
        "start_time": "2024-01-26T12:18:38.941Z"
      },
      {
        "duration": 413,
        "start_time": "2024-01-26T12:18:46.680Z"
      },
      {
        "duration": 27,
        "start_time": "2024-01-26T12:18:47.095Z"
      },
      {
        "duration": 19,
        "start_time": "2024-01-26T12:18:47.124Z"
      },
      {
        "duration": 14,
        "start_time": "2024-01-26T12:18:47.145Z"
      },
      {
        "duration": 5,
        "start_time": "2024-01-26T12:18:47.161Z"
      },
      {
        "duration": 5,
        "start_time": "2024-01-26T12:18:47.168Z"
      },
      {
        "duration": 5,
        "start_time": "2024-01-26T12:18:47.175Z"
      },
      {
        "duration": 4,
        "start_time": "2024-01-26T12:18:47.182Z"
      },
      {
        "duration": 6,
        "start_time": "2024-01-26T12:18:47.187Z"
      },
      {
        "duration": 15,
        "start_time": "2024-01-26T12:18:47.195Z"
      },
      {
        "duration": 48,
        "start_time": "2024-01-26T12:18:47.212Z"
      },
      {
        "duration": 10,
        "start_time": "2024-01-26T12:18:47.262Z"
      },
      {
        "duration": 3,
        "start_time": "2024-01-26T12:19:54.660Z"
      },
      {
        "duration": 5,
        "start_time": "2024-01-26T12:19:55.420Z"
      },
      {
        "duration": 412,
        "start_time": "2024-01-26T12:20:02.320Z"
      },
      {
        "duration": 27,
        "start_time": "2024-01-26T12:20:02.734Z"
      },
      {
        "duration": 84,
        "start_time": "2024-01-26T12:20:02.763Z"
      },
      {
        "duration": 12,
        "start_time": "2024-01-26T12:20:02.848Z"
      },
      {
        "duration": 7,
        "start_time": "2024-01-26T12:20:02.862Z"
      },
      {
        "duration": 16,
        "start_time": "2024-01-26T12:20:02.870Z"
      },
      {
        "duration": 19,
        "start_time": "2024-01-26T12:20:02.888Z"
      },
      {
        "duration": 12,
        "start_time": "2024-01-26T12:20:02.909Z"
      },
      {
        "duration": 27,
        "start_time": "2024-01-26T12:20:02.922Z"
      },
      {
        "duration": 27,
        "start_time": "2024-01-26T12:20:02.950Z"
      },
      {
        "duration": 35,
        "start_time": "2024-01-26T12:20:02.978Z"
      },
      {
        "duration": 24,
        "start_time": "2024-01-26T12:20:03.015Z"
      },
      {
        "duration": 67,
        "start_time": "2024-01-26T12:21:11.542Z"
      },
      {
        "duration": 4,
        "start_time": "2024-01-26T12:21:14.377Z"
      },
      {
        "duration": 87,
        "start_time": "2024-01-26T12:21:41.269Z"
      },
      {
        "duration": 73,
        "start_time": "2024-01-26T12:21:51.437Z"
      },
      {
        "duration": 403,
        "start_time": "2024-01-26T12:22:04.200Z"
      },
      {
        "duration": 28,
        "start_time": "2024-01-26T12:22:04.605Z"
      },
      {
        "duration": 16,
        "start_time": "2024-01-26T12:22:04.635Z"
      },
      {
        "duration": 21,
        "start_time": "2024-01-26T12:22:04.653Z"
      },
      {
        "duration": 7,
        "start_time": "2024-01-26T12:22:04.677Z"
      },
      {
        "duration": 14,
        "start_time": "2024-01-26T12:22:04.686Z"
      },
      {
        "duration": 7,
        "start_time": "2024-01-26T12:22:04.702Z"
      },
      {
        "duration": 69,
        "start_time": "2024-01-26T12:22:04.711Z"
      },
      {
        "duration": 0,
        "start_time": "2024-01-26T12:22:04.782Z"
      },
      {
        "duration": 0,
        "start_time": "2024-01-26T12:22:04.784Z"
      },
      {
        "duration": 0,
        "start_time": "2024-01-26T12:22:04.786Z"
      },
      {
        "duration": 0,
        "start_time": "2024-01-26T12:22:04.787Z"
      },
      {
        "duration": 385,
        "start_time": "2024-01-26T12:22:17.899Z"
      },
      {
        "duration": 28,
        "start_time": "2024-01-26T12:22:18.286Z"
      },
      {
        "duration": 16,
        "start_time": "2024-01-26T12:22:18.315Z"
      },
      {
        "duration": 15,
        "start_time": "2024-01-26T12:22:18.333Z"
      },
      {
        "duration": 36,
        "start_time": "2024-01-26T12:22:18.350Z"
      },
      {
        "duration": 45,
        "start_time": "2024-01-26T12:22:18.388Z"
      },
      {
        "duration": 6,
        "start_time": "2024-01-26T12:22:18.435Z"
      },
      {
        "duration": 4,
        "start_time": "2024-01-26T12:22:18.443Z"
      },
      {
        "duration": 12,
        "start_time": "2024-01-26T12:22:18.449Z"
      },
      {
        "duration": 23,
        "start_time": "2024-01-26T12:22:18.464Z"
      },
      {
        "duration": 25,
        "start_time": "2024-01-26T12:22:18.488Z"
      },
      {
        "duration": 19,
        "start_time": "2024-01-26T12:22:18.515Z"
      },
      {
        "duration": 415,
        "start_time": "2024-01-26T12:23:12.084Z"
      },
      {
        "duration": 27,
        "start_time": "2024-01-26T12:23:12.501Z"
      },
      {
        "duration": 14,
        "start_time": "2024-01-26T12:23:12.530Z"
      },
      {
        "duration": 15,
        "start_time": "2024-01-26T12:23:12.546Z"
      },
      {
        "duration": 6,
        "start_time": "2024-01-26T12:23:12.563Z"
      },
      {
        "duration": 8,
        "start_time": "2024-01-26T12:23:12.570Z"
      },
      {
        "duration": 13,
        "start_time": "2024-01-26T12:23:12.580Z"
      },
      {
        "duration": 76,
        "start_time": "2024-01-26T12:23:12.597Z"
      },
      {
        "duration": 0,
        "start_time": "2024-01-26T12:23:12.674Z"
      },
      {
        "duration": 0,
        "start_time": "2024-01-26T12:23:12.676Z"
      },
      {
        "duration": 0,
        "start_time": "2024-01-26T12:23:12.677Z"
      },
      {
        "duration": 0,
        "start_time": "2024-01-26T12:23:12.678Z"
      },
      {
        "duration": 419,
        "start_time": "2024-01-26T12:23:30.466Z"
      },
      {
        "duration": 27,
        "start_time": "2024-01-26T12:23:30.887Z"
      },
      {
        "duration": 25,
        "start_time": "2024-01-26T12:23:30.916Z"
      },
      {
        "duration": 35,
        "start_time": "2024-01-26T12:23:30.942Z"
      },
      {
        "duration": 30,
        "start_time": "2024-01-26T12:23:30.979Z"
      },
      {
        "duration": 39,
        "start_time": "2024-01-26T12:23:31.011Z"
      },
      {
        "duration": 23,
        "start_time": "2024-01-26T12:23:31.052Z"
      },
      {
        "duration": 24,
        "start_time": "2024-01-26T12:23:31.077Z"
      },
      {
        "duration": 39,
        "start_time": "2024-01-26T12:23:31.103Z"
      },
      {
        "duration": 50,
        "start_time": "2024-01-26T12:23:31.143Z"
      },
      {
        "duration": 23,
        "start_time": "2024-01-26T12:23:31.194Z"
      },
      {
        "duration": 67,
        "start_time": "2024-01-26T12:23:31.218Z"
      },
      {
        "duration": 4,
        "start_time": "2024-01-26T12:57:39.069Z"
      },
      {
        "duration": 4,
        "start_time": "2024-01-26T12:57:40.022Z"
      },
      {
        "duration": 449,
        "start_time": "2024-01-26T12:57:56.846Z"
      },
      {
        "duration": 27,
        "start_time": "2024-01-26T12:57:57.297Z"
      },
      {
        "duration": 17,
        "start_time": "2024-01-26T12:57:57.326Z"
      },
      {
        "duration": 12,
        "start_time": "2024-01-26T12:57:57.345Z"
      },
      {
        "duration": 17,
        "start_time": "2024-01-26T12:57:57.360Z"
      },
      {
        "duration": 14,
        "start_time": "2024-01-26T12:57:57.379Z"
      },
      {
        "duration": 8,
        "start_time": "2024-01-26T12:57:57.394Z"
      },
      {
        "duration": 7,
        "start_time": "2024-01-26T12:57:57.404Z"
      },
      {
        "duration": 16,
        "start_time": "2024-01-26T12:57:57.412Z"
      },
      {
        "duration": 26,
        "start_time": "2024-01-26T12:57:57.430Z"
      },
      {
        "duration": 33,
        "start_time": "2024-01-26T12:57:57.458Z"
      },
      {
        "duration": 27,
        "start_time": "2024-01-26T12:57:57.493Z"
      },
      {
        "duration": 14,
        "start_time": "2024-01-26T13:04:14.984Z"
      },
      {
        "duration": 13,
        "start_time": "2024-01-26T13:05:52.326Z"
      },
      {
        "duration": 9,
        "start_time": "2024-01-26T13:05:55.058Z"
      },
      {
        "duration": 4,
        "start_time": "2024-01-26T13:06:11.330Z"
      },
      {
        "duration": 12,
        "start_time": "2024-01-26T13:06:23.449Z"
      },
      {
        "duration": 12,
        "start_time": "2024-01-26T13:06:31.990Z"
      },
      {
        "duration": 12,
        "start_time": "2024-01-26T13:06:33.117Z"
      },
      {
        "duration": 67,
        "start_time": "2024-01-26T13:28:45.747Z"
      },
      {
        "duration": 155,
        "start_time": "2024-01-26T13:42:58.579Z"
      },
      {
        "duration": 10,
        "start_time": "2024-01-26T13:43:40.954Z"
      },
      {
        "duration": 94,
        "start_time": "2024-01-26T13:46:02.222Z"
      },
      {
        "duration": 11,
        "start_time": "2024-01-26T13:46:17.868Z"
      },
      {
        "duration": 11,
        "start_time": "2024-01-26T13:46:38.252Z"
      },
      {
        "duration": 7,
        "start_time": "2024-01-26T13:55:51.850Z"
      },
      {
        "duration": 11,
        "start_time": "2024-01-26T13:55:52.210Z"
      },
      {
        "duration": 6,
        "start_time": "2024-01-26T14:04:02.868Z"
      },
      {
        "duration": 7,
        "start_time": "2024-01-26T14:04:23.572Z"
      },
      {
        "duration": 4,
        "start_time": "2024-01-26T14:06:41.637Z"
      },
      {
        "duration": 6,
        "start_time": "2024-01-26T14:07:18.016Z"
      },
      {
        "duration": 76,
        "start_time": "2024-01-26T14:07:27.525Z"
      },
      {
        "duration": 7,
        "start_time": "2024-01-26T14:07:44.662Z"
      },
      {
        "duration": 7,
        "start_time": "2024-01-26T14:08:07.735Z"
      },
      {
        "duration": 429,
        "start_time": "2024-01-26T14:09:54.075Z"
      },
      {
        "duration": 75,
        "start_time": "2024-01-26T14:09:54.506Z"
      },
      {
        "duration": 16,
        "start_time": "2024-01-26T14:09:54.582Z"
      },
      {
        "duration": 30,
        "start_time": "2024-01-26T14:09:54.600Z"
      },
      {
        "duration": 27,
        "start_time": "2024-01-26T14:09:54.632Z"
      },
      {
        "duration": 29,
        "start_time": "2024-01-26T14:09:54.661Z"
      },
      {
        "duration": 33,
        "start_time": "2024-01-26T14:09:54.691Z"
      },
      {
        "duration": 22,
        "start_time": "2024-01-26T14:09:54.725Z"
      },
      {
        "duration": 33,
        "start_time": "2024-01-26T14:09:54.749Z"
      },
      {
        "duration": 23,
        "start_time": "2024-01-26T14:09:54.784Z"
      },
      {
        "duration": 18,
        "start_time": "2024-01-26T14:09:54.809Z"
      },
      {
        "duration": 17,
        "start_time": "2024-01-26T14:09:54.829Z"
      },
      {
        "duration": 12,
        "start_time": "2024-01-26T14:09:54.847Z"
      },
      {
        "duration": 33,
        "start_time": "2024-01-26T14:09:54.861Z"
      },
      {
        "duration": 22,
        "start_time": "2024-01-26T14:09:54.896Z"
      },
      {
        "duration": 15,
        "start_time": "2024-01-26T14:09:54.919Z"
      },
      {
        "duration": 23,
        "start_time": "2024-01-26T14:09:54.936Z"
      },
      {
        "duration": 20,
        "start_time": "2024-01-26T14:09:54.961Z"
      },
      {
        "duration": 11,
        "start_time": "2024-01-26T14:09:54.982Z"
      },
      {
        "duration": 5,
        "start_time": "2024-01-26T14:10:56.005Z"
      },
      {
        "duration": 432,
        "start_time": "2024-01-26T15:35:51.962Z"
      },
      {
        "duration": 75,
        "start_time": "2024-01-26T15:35:52.396Z"
      },
      {
        "duration": 15,
        "start_time": "2024-01-26T15:35:52.473Z"
      },
      {
        "duration": 11,
        "start_time": "2024-01-26T15:35:52.490Z"
      },
      {
        "duration": 8,
        "start_time": "2024-01-26T15:35:52.503Z"
      },
      {
        "duration": 11,
        "start_time": "2024-01-26T15:35:52.513Z"
      },
      {
        "duration": 16,
        "start_time": "2024-01-26T15:35:52.525Z"
      },
      {
        "duration": 22,
        "start_time": "2024-01-26T15:35:52.543Z"
      },
      {
        "duration": 4,
        "start_time": "2024-01-26T15:35:52.567Z"
      },
      {
        "duration": 15,
        "start_time": "2024-01-26T15:35:52.572Z"
      },
      {
        "duration": 10,
        "start_time": "2024-01-26T15:35:52.589Z"
      },
      {
        "duration": 9,
        "start_time": "2024-01-26T15:35:52.601Z"
      },
      {
        "duration": 13,
        "start_time": "2024-01-26T15:35:52.612Z"
      },
      {
        "duration": 4,
        "start_time": "2024-01-26T15:35:52.627Z"
      },
      {
        "duration": 7,
        "start_time": "2024-01-26T15:35:52.632Z"
      },
      {
        "duration": 18,
        "start_time": "2024-01-26T15:35:52.641Z"
      },
      {
        "duration": 5,
        "start_time": "2024-01-26T15:35:52.661Z"
      },
      {
        "duration": 12,
        "start_time": "2024-01-26T15:35:52.668Z"
      },
      {
        "duration": 85,
        "start_time": "2024-01-26T15:35:52.682Z"
      },
      {
        "duration": 0,
        "start_time": "2024-01-26T15:35:52.768Z"
      },
      {
        "duration": 0,
        "start_time": "2024-01-26T15:35:52.769Z"
      },
      {
        "duration": 0,
        "start_time": "2024-01-26T15:35:52.771Z"
      },
      {
        "duration": 11,
        "start_time": "2024-01-26T15:35:59.918Z"
      },
      {
        "duration": 14,
        "start_time": "2024-01-26T15:36:12.297Z"
      },
      {
        "duration": 13,
        "start_time": "2024-01-26T15:36:12.697Z"
      },
      {
        "duration": 10,
        "start_time": "2024-01-26T15:36:13.235Z"
      },
      {
        "duration": 6,
        "start_time": "2024-01-26T15:47:50.490Z"
      },
      {
        "duration": 31,
        "start_time": "2024-01-26T16:19:46.578Z"
      },
      {
        "duration": 864,
        "start_time": "2024-01-26T16:20:45.104Z"
      },
      {
        "duration": 76,
        "start_time": "2024-01-26T16:20:45.970Z"
      },
      {
        "duration": 12,
        "start_time": "2024-01-26T16:20:46.048Z"
      },
      {
        "duration": 16,
        "start_time": "2024-01-26T16:20:46.061Z"
      },
      {
        "duration": 19,
        "start_time": "2024-01-26T16:20:46.080Z"
      },
      {
        "duration": 18,
        "start_time": "2024-01-26T16:20:46.101Z"
      },
      {
        "duration": 8,
        "start_time": "2024-01-26T16:20:46.121Z"
      },
      {
        "duration": 13,
        "start_time": "2024-01-26T16:20:46.131Z"
      },
      {
        "duration": 3,
        "start_time": "2024-01-26T16:20:46.158Z"
      },
      {
        "duration": 6,
        "start_time": "2024-01-26T16:20:46.163Z"
      },
      {
        "duration": 5,
        "start_time": "2024-01-26T16:20:46.170Z"
      },
      {
        "duration": 9,
        "start_time": "2024-01-26T16:20:46.177Z"
      },
      {
        "duration": 11,
        "start_time": "2024-01-26T16:20:46.188Z"
      },
      {
        "duration": 12,
        "start_time": "2024-01-26T16:20:46.201Z"
      },
      {
        "duration": 28,
        "start_time": "2024-01-26T16:20:46.214Z"
      },
      {
        "duration": 5,
        "start_time": "2024-01-26T16:20:46.244Z"
      },
      {
        "duration": 9,
        "start_time": "2024-01-26T16:20:46.251Z"
      },
      {
        "duration": 14,
        "start_time": "2024-01-26T16:20:46.262Z"
      },
      {
        "duration": 12,
        "start_time": "2024-01-26T16:20:46.278Z"
      },
      {
        "duration": 12,
        "start_time": "2024-01-26T16:20:46.292Z"
      },
      {
        "duration": 8,
        "start_time": "2024-01-26T16:20:46.306Z"
      },
      {
        "duration": 113,
        "start_time": "2024-01-26T16:20:46.315Z"
      },
      {
        "duration": 23,
        "start_time": "2024-01-26T16:21:06.445Z"
      },
      {
        "duration": 22,
        "start_time": "2024-01-26T16:21:18.529Z"
      },
      {
        "duration": 180,
        "start_time": "2024-01-26T16:22:05.342Z"
      },
      {
        "duration": 129,
        "start_time": "2024-01-26T16:25:29.646Z"
      },
      {
        "duration": 7,
        "start_time": "2024-01-26T16:31:00.989Z"
      },
      {
        "duration": 3,
        "start_time": "2024-01-26T16:31:57.263Z"
      },
      {
        "duration": 8,
        "start_time": "2024-01-26T16:35:36.672Z"
      },
      {
        "duration": 269,
        "start_time": "2024-01-26T16:36:54.834Z"
      },
      {
        "duration": 211,
        "start_time": "2024-01-26T16:39:18.648Z"
      },
      {
        "duration": 202,
        "start_time": "2024-01-26T16:40:24.819Z"
      },
      {
        "duration": 76,
        "start_time": "2024-01-26T16:41:22.245Z"
      },
      {
        "duration": 83,
        "start_time": "2024-01-26T16:41:32.595Z"
      },
      {
        "duration": 376,
        "start_time": "2024-01-26T16:41:43.844Z"
      },
      {
        "duration": 309,
        "start_time": "2024-01-26T16:41:53.043Z"
      },
      {
        "duration": 204,
        "start_time": "2024-01-26T16:42:04.163Z"
      },
      {
        "duration": 186,
        "start_time": "2024-01-26T16:42:07.987Z"
      },
      {
        "duration": 187,
        "start_time": "2024-01-26T16:42:15.571Z"
      },
      {
        "duration": 183,
        "start_time": "2024-01-26T16:42:19.636Z"
      },
      {
        "duration": 196,
        "start_time": "2024-01-26T16:42:25.012Z"
      },
      {
        "duration": 203,
        "start_time": "2024-01-26T16:42:40.787Z"
      },
      {
        "duration": 213,
        "start_time": "2024-01-26T16:43:14.564Z"
      },
      {
        "duration": 206,
        "start_time": "2024-01-26T16:43:21.828Z"
      },
      {
        "duration": 209,
        "start_time": "2024-01-26T16:43:26.099Z"
      },
      {
        "duration": 212,
        "start_time": "2024-01-26T16:43:35.557Z"
      },
      {
        "duration": 212,
        "start_time": "2024-01-26T16:43:38.884Z"
      },
      {
        "duration": 1282,
        "start_time": "2024-01-26T16:48:42.390Z"
      },
      {
        "duration": 203,
        "start_time": "2024-01-26T16:49:01.943Z"
      },
      {
        "duration": 366,
        "start_time": "2024-01-26T16:49:05.575Z"
      },
      {
        "duration": 309,
        "start_time": "2024-01-26T16:49:18.455Z"
      },
      {
        "duration": 370,
        "start_time": "2024-01-26T16:49:32.647Z"
      },
      {
        "duration": 277,
        "start_time": "2024-01-26T16:49:42.822Z"
      },
      {
        "duration": 298,
        "start_time": "2024-01-26T16:50:01.031Z"
      },
      {
        "duration": 180,
        "start_time": "2024-01-26T16:50:25.351Z"
      },
      {
        "duration": 182,
        "start_time": "2024-01-26T16:50:38.887Z"
      },
      {
        "duration": 215,
        "start_time": "2024-01-26T16:50:47.590Z"
      },
      {
        "duration": 251,
        "start_time": "2024-01-26T16:50:57.256Z"
      },
      {
        "duration": 228,
        "start_time": "2024-01-26T16:51:04.743Z"
      },
      {
        "duration": 237,
        "start_time": "2024-01-26T16:51:30.663Z"
      },
      {
        "duration": 321,
        "start_time": "2024-01-26T16:51:38.103Z"
      },
      {
        "duration": 135,
        "start_time": "2024-01-26T16:54:59.449Z"
      },
      {
        "duration": 130,
        "start_time": "2024-01-26T16:55:52.283Z"
      },
      {
        "duration": 141,
        "start_time": "2024-01-26T16:56:25.466Z"
      },
      {
        "duration": 132,
        "start_time": "2024-01-26T16:56:48.313Z"
      },
      {
        "duration": 196,
        "start_time": "2024-01-26T17:11:33.344Z"
      },
      {
        "duration": 231,
        "start_time": "2024-01-26T17:13:14.049Z"
      },
      {
        "duration": 69,
        "start_time": "2024-01-26T17:29:45.880Z"
      },
      {
        "duration": 6,
        "start_time": "2024-01-26T17:30:48.662Z"
      },
      {
        "duration": 72,
        "start_time": "2024-01-26T17:32:07.512Z"
      },
      {
        "duration": 298,
        "start_time": "2024-01-26T17:32:56.292Z"
      },
      {
        "duration": 259,
        "start_time": "2024-01-26T19:24:00.606Z"
      },
      {
        "duration": 266,
        "start_time": "2024-01-26T19:24:51.714Z"
      },
      {
        "duration": 355,
        "start_time": "2024-01-26T19:26:58.343Z"
      },
      {
        "duration": 5,
        "start_time": "2024-01-26T19:27:05.603Z"
      },
      {
        "duration": 338,
        "start_time": "2024-01-26T19:27:10.131Z"
      },
      {
        "duration": 324,
        "start_time": "2024-01-26T19:27:20.477Z"
      },
      {
        "duration": 7,
        "start_time": "2024-01-26T19:33:01.085Z"
      },
      {
        "duration": 321,
        "start_time": "2024-01-26T19:35:03.458Z"
      },
      {
        "duration": 209,
        "start_time": "2024-01-26T19:35:19.810Z"
      },
      {
        "duration": 6,
        "start_time": "2024-01-26T19:36:03.119Z"
      },
      {
        "duration": 5,
        "start_time": "2024-01-26T19:36:10.896Z"
      },
      {
        "duration": 231,
        "start_time": "2024-01-26T19:36:19.971Z"
      },
      {
        "duration": 706,
        "start_time": "2024-01-26T19:37:09.428Z"
      },
      {
        "duration": 76,
        "start_time": "2024-01-26T19:37:10.136Z"
      },
      {
        "duration": 11,
        "start_time": "2024-01-26T19:37:10.214Z"
      },
      {
        "duration": 14,
        "start_time": "2024-01-26T19:37:10.227Z"
      },
      {
        "duration": 10,
        "start_time": "2024-01-26T19:37:10.243Z"
      },
      {
        "duration": 21,
        "start_time": "2024-01-26T19:37:10.254Z"
      },
      {
        "duration": 8,
        "start_time": "2024-01-26T19:37:10.276Z"
      },
      {
        "duration": 22,
        "start_time": "2024-01-26T19:37:10.285Z"
      },
      {
        "duration": 6,
        "start_time": "2024-01-26T19:37:10.309Z"
      },
      {
        "duration": 10,
        "start_time": "2024-01-26T19:37:10.317Z"
      },
      {
        "duration": 5,
        "start_time": "2024-01-26T19:37:10.329Z"
      },
      {
        "duration": 23,
        "start_time": "2024-01-26T19:37:10.336Z"
      },
      {
        "duration": 15,
        "start_time": "2024-01-26T19:37:10.361Z"
      },
      {
        "duration": 4,
        "start_time": "2024-01-26T19:37:10.378Z"
      },
      {
        "duration": 10,
        "start_time": "2024-01-26T19:37:10.383Z"
      },
      {
        "duration": 10,
        "start_time": "2024-01-26T19:37:10.395Z"
      },
      {
        "duration": 15,
        "start_time": "2024-01-26T19:37:10.407Z"
      },
      {
        "duration": 15,
        "start_time": "2024-01-26T19:37:10.423Z"
      },
      {
        "duration": 24,
        "start_time": "2024-01-26T19:37:10.440Z"
      },
      {
        "duration": 16,
        "start_time": "2024-01-26T19:37:10.466Z"
      },
      {
        "duration": 7,
        "start_time": "2024-01-26T19:37:10.484Z"
      },
      {
        "duration": 181,
        "start_time": "2024-01-26T19:37:10.493Z"
      },
      {
        "duration": 124,
        "start_time": "2024-01-26T19:37:10.676Z"
      },
      {
        "duration": 15,
        "start_time": "2024-01-26T19:37:10.802Z"
      },
      {
        "duration": 4,
        "start_time": "2024-01-26T19:37:10.819Z"
      },
      {
        "duration": 7,
        "start_time": "2024-01-26T19:37:10.825Z"
      },
      {
        "duration": 350,
        "start_time": "2024-01-26T19:37:10.834Z"
      },
      {
        "duration": 323,
        "start_time": "2024-01-26T19:37:11.188Z"
      },
      {
        "duration": 7,
        "start_time": "2024-01-26T19:37:11.512Z"
      },
      {
        "duration": 442,
        "start_time": "2024-01-26T19:37:11.521Z"
      },
      {
        "duration": 5,
        "start_time": "2024-01-26T19:37:11.965Z"
      },
      {
        "duration": 8,
        "start_time": "2024-01-26T19:37:11.971Z"
      },
      {
        "duration": 296,
        "start_time": "2024-01-26T19:37:11.981Z"
      },
      {
        "duration": 340,
        "start_time": "2024-01-26T19:37:41.795Z"
      },
      {
        "duration": 301,
        "start_time": "2024-01-26T19:38:33.384Z"
      },
      {
        "duration": 312,
        "start_time": "2024-01-26T19:40:22.597Z"
      },
      {
        "duration": 10,
        "start_time": "2024-01-26T20:06:12.743Z"
      },
      {
        "duration": 9,
        "start_time": "2024-01-26T20:07:06.941Z"
      },
      {
        "duration": 471,
        "start_time": "2024-01-26T20:09:02.063Z"
      },
      {
        "duration": 449,
        "start_time": "2024-01-26T20:09:20.335Z"
      },
      {
        "duration": 421,
        "start_time": "2024-01-26T20:09:37.063Z"
      },
      {
        "duration": 428,
        "start_time": "2024-01-26T20:11:57.932Z"
      },
      {
        "duration": 383,
        "start_time": "2024-01-26T20:14:44.898Z"
      },
      {
        "duration": 431,
        "start_time": "2024-01-26T20:15:07.435Z"
      },
      {
        "duration": 435,
        "start_time": "2024-01-26T20:15:21.338Z"
      },
      {
        "duration": 415,
        "start_time": "2024-01-26T20:15:30.473Z"
      },
      {
        "duration": 50,
        "start_time": "2024-01-27T07:07:29.018Z"
      },
      {
        "duration": 912,
        "start_time": "2024-01-27T07:07:35.492Z"
      },
      {
        "duration": 188,
        "start_time": "2024-01-27T07:07:36.406Z"
      },
      {
        "duration": 13,
        "start_time": "2024-01-27T07:07:36.597Z"
      },
      {
        "duration": 14,
        "start_time": "2024-01-27T07:07:36.612Z"
      },
      {
        "duration": 16,
        "start_time": "2024-01-27T07:07:36.628Z"
      },
      {
        "duration": 24,
        "start_time": "2024-01-27T07:07:36.646Z"
      },
      {
        "duration": 20,
        "start_time": "2024-01-27T07:07:36.672Z"
      },
      {
        "duration": 19,
        "start_time": "2024-01-27T07:07:36.694Z"
      },
      {
        "duration": 22,
        "start_time": "2024-01-27T07:07:36.714Z"
      },
      {
        "duration": 12,
        "start_time": "2024-01-27T07:07:36.740Z"
      },
      {
        "duration": 9,
        "start_time": "2024-01-27T07:07:36.754Z"
      },
      {
        "duration": 4,
        "start_time": "2024-01-27T07:07:36.765Z"
      },
      {
        "duration": 7,
        "start_time": "2024-01-27T07:07:36.771Z"
      },
      {
        "duration": 9,
        "start_time": "2024-01-27T07:07:36.780Z"
      },
      {
        "duration": 13,
        "start_time": "2024-01-27T07:07:36.791Z"
      },
      {
        "duration": 6,
        "start_time": "2024-01-27T07:07:36.806Z"
      },
      {
        "duration": 12,
        "start_time": "2024-01-27T07:07:36.814Z"
      },
      {
        "duration": 27,
        "start_time": "2024-01-27T07:07:36.828Z"
      },
      {
        "duration": 12,
        "start_time": "2024-01-27T07:07:36.857Z"
      },
      {
        "duration": 15,
        "start_time": "2024-01-27T07:07:36.871Z"
      },
      {
        "duration": 15,
        "start_time": "2024-01-27T07:07:36.888Z"
      },
      {
        "duration": 167,
        "start_time": "2024-01-27T07:07:36.905Z"
      },
      {
        "duration": 133,
        "start_time": "2024-01-27T07:07:37.073Z"
      },
      {
        "duration": 7,
        "start_time": "2024-01-27T07:07:37.207Z"
      },
      {
        "duration": 20,
        "start_time": "2024-01-27T07:07:37.215Z"
      },
      {
        "duration": 13,
        "start_time": "2024-01-27T07:07:37.236Z"
      },
      {
        "duration": 326,
        "start_time": "2024-01-27T07:07:37.251Z"
      },
      {
        "duration": 345,
        "start_time": "2024-01-27T07:07:37.580Z"
      },
      {
        "duration": 6,
        "start_time": "2024-01-27T07:07:37.927Z"
      },
      {
        "duration": 504,
        "start_time": "2024-01-27T07:07:37.935Z"
      },
      {
        "duration": 6,
        "start_time": "2024-01-27T07:07:38.441Z"
      },
      {
        "duration": 423,
        "start_time": "2024-01-27T07:07:38.448Z"
      },
      {
        "duration": 9,
        "start_time": "2024-01-27T07:07:38.873Z"
      },
      {
        "duration": 512,
        "start_time": "2024-01-27T07:07:38.892Z"
      },
      {
        "duration": 76,
        "start_time": "2024-01-27T07:07:39.406Z"
      },
      {
        "duration": 8,
        "start_time": "2024-01-27T07:15:17.420Z"
      },
      {
        "duration": 16,
        "start_time": "2024-01-27T07:18:26.811Z"
      },
      {
        "duration": 6,
        "start_time": "2024-01-27T07:18:31.740Z"
      },
      {
        "duration": 6,
        "start_time": "2024-01-27T07:18:40.588Z"
      },
      {
        "duration": 309,
        "start_time": "2024-01-27T07:19:08.924Z"
      },
      {
        "duration": 120,
        "start_time": "2024-01-27T07:19:17.932Z"
      },
      {
        "duration": 104,
        "start_time": "2024-01-27T07:23:18.421Z"
      },
      {
        "duration": 116,
        "start_time": "2024-01-27T07:23:27.152Z"
      },
      {
        "duration": 134,
        "start_time": "2024-01-27T07:24:52.658Z"
      },
      {
        "duration": 165,
        "start_time": "2024-01-27T07:27:04.489Z"
      },
      {
        "duration": 170,
        "start_time": "2024-01-27T07:27:09.474Z"
      },
      {
        "duration": 152,
        "start_time": "2024-01-27T07:27:20.706Z"
      },
      {
        "duration": 6,
        "start_time": "2024-01-27T07:34:35.864Z"
      },
      {
        "duration": 392,
        "start_time": "2024-01-27T07:41:59.025Z"
      },
      {
        "duration": 409,
        "start_time": "2024-01-27T07:42:55.188Z"
      },
      {
        "duration": 413,
        "start_time": "2024-01-27T07:43:52.508Z"
      },
      {
        "duration": 10,
        "start_time": "2024-01-27T07:46:43.563Z"
      },
      {
        "duration": 10,
        "start_time": "2024-01-27T07:47:10.005Z"
      },
      {
        "duration": 246,
        "start_time": "2024-01-27T07:48:26.030Z"
      },
      {
        "duration": 168,
        "start_time": "2024-01-27T07:53:43.441Z"
      },
      {
        "duration": 5,
        "start_time": "2024-01-27T08:19:27.708Z"
      },
      {
        "duration": 22,
        "start_time": "2024-01-27T09:50:02.735Z"
      },
      {
        "duration": 20,
        "start_time": "2024-01-27T09:50:52.344Z"
      },
      {
        "duration": 81,
        "start_time": "2024-01-27T09:51:22.116Z"
      },
      {
        "duration": 82,
        "start_time": "2024-01-27T09:51:42.017Z"
      },
      {
        "duration": 182,
        "start_time": "2024-01-27T09:51:53.120Z"
      },
      {
        "duration": 684,
        "start_time": "2024-01-27T09:58:25.979Z"
      },
      {
        "duration": 74,
        "start_time": "2024-01-27T09:58:26.665Z"
      },
      {
        "duration": 13,
        "start_time": "2024-01-27T09:58:26.741Z"
      },
      {
        "duration": 34,
        "start_time": "2024-01-27T09:58:26.756Z"
      },
      {
        "duration": 25,
        "start_time": "2024-01-27T09:58:26.791Z"
      },
      {
        "duration": 25,
        "start_time": "2024-01-27T09:58:26.817Z"
      },
      {
        "duration": 20,
        "start_time": "2024-01-27T09:58:26.843Z"
      },
      {
        "duration": 18,
        "start_time": "2024-01-27T09:58:26.865Z"
      },
      {
        "duration": 7,
        "start_time": "2024-01-27T09:58:26.885Z"
      },
      {
        "duration": 5,
        "start_time": "2024-01-27T09:58:26.895Z"
      },
      {
        "duration": 31,
        "start_time": "2024-01-27T09:58:26.902Z"
      },
      {
        "duration": 7,
        "start_time": "2024-01-27T09:58:26.934Z"
      },
      {
        "duration": 16,
        "start_time": "2024-01-27T09:58:26.943Z"
      },
      {
        "duration": 12,
        "start_time": "2024-01-27T09:58:26.961Z"
      },
      {
        "duration": 9,
        "start_time": "2024-01-27T09:58:26.975Z"
      },
      {
        "duration": 10,
        "start_time": "2024-01-27T09:58:26.986Z"
      },
      {
        "duration": 9,
        "start_time": "2024-01-27T09:58:26.997Z"
      },
      {
        "duration": 18,
        "start_time": "2024-01-27T09:58:27.007Z"
      },
      {
        "duration": 14,
        "start_time": "2024-01-27T09:58:27.027Z"
      },
      {
        "duration": 13,
        "start_time": "2024-01-27T09:58:27.043Z"
      },
      {
        "duration": 27,
        "start_time": "2024-01-27T09:58:27.057Z"
      },
      {
        "duration": 181,
        "start_time": "2024-01-27T09:58:27.086Z"
      },
      {
        "duration": 144,
        "start_time": "2024-01-27T09:58:27.269Z"
      },
      {
        "duration": 8,
        "start_time": "2024-01-27T09:58:27.416Z"
      },
      {
        "duration": 5,
        "start_time": "2024-01-27T09:58:27.426Z"
      },
      {
        "duration": 12,
        "start_time": "2024-01-27T09:58:27.433Z"
      },
      {
        "duration": 347,
        "start_time": "2024-01-27T09:58:27.446Z"
      },
      {
        "duration": 257,
        "start_time": "2024-01-27T09:58:27.797Z"
      },
      {
        "duration": 6,
        "start_time": "2024-01-27T09:58:28.056Z"
      },
      {
        "duration": 361,
        "start_time": "2024-01-27T09:58:28.064Z"
      },
      {
        "duration": 6,
        "start_time": "2024-01-27T09:58:28.427Z"
      },
      {
        "duration": 355,
        "start_time": "2024-01-27T09:58:28.435Z"
      },
      {
        "duration": 8,
        "start_time": "2024-01-27T09:58:28.792Z"
      },
      {
        "duration": 345,
        "start_time": "2024-01-27T09:58:28.801Z"
      },
      {
        "duration": 168,
        "start_time": "2024-01-27T09:58:29.147Z"
      },
      {
        "duration": 5,
        "start_time": "2024-01-27T09:58:29.317Z"
      },
      {
        "duration": 189,
        "start_time": "2024-01-27T09:58:29.324Z"
      },
      {
        "duration": 5,
        "start_time": "2024-01-27T09:58:29.514Z"
      },
      {
        "duration": 230,
        "start_time": "2024-01-27T09:58:29.521Z"
      },
      {
        "duration": 213,
        "start_time": "2024-01-27T09:58:29.753Z"
      },
      {
        "duration": 83,
        "start_time": "2024-01-27T10:45:38.416Z"
      },
      {
        "duration": 1654,
        "start_time": "2024-01-27T10:47:04.277Z"
      },
      {
        "duration": 7,
        "start_time": "2024-01-27T10:47:55.715Z"
      },
      {
        "duration": 8,
        "start_time": "2024-01-27T10:48:29.543Z"
      },
      {
        "duration": 1175,
        "start_time": "2024-01-27T10:48:54.199Z"
      },
      {
        "duration": 75,
        "start_time": "2024-01-27T10:48:55.376Z"
      },
      {
        "duration": 13,
        "start_time": "2024-01-27T10:48:55.453Z"
      },
      {
        "duration": 13,
        "start_time": "2024-01-27T10:48:55.468Z"
      },
      {
        "duration": 29,
        "start_time": "2024-01-27T10:48:55.482Z"
      },
      {
        "duration": 29,
        "start_time": "2024-01-27T10:48:55.513Z"
      },
      {
        "duration": 9,
        "start_time": "2024-01-27T10:48:55.544Z"
      },
      {
        "duration": 23,
        "start_time": "2024-01-27T10:48:55.555Z"
      },
      {
        "duration": 7,
        "start_time": "2024-01-27T10:48:55.580Z"
      },
      {
        "duration": 10,
        "start_time": "2024-01-27T10:48:55.589Z"
      },
      {
        "duration": 9,
        "start_time": "2024-01-27T10:48:55.601Z"
      },
      {
        "duration": 16,
        "start_time": "2024-01-27T10:48:55.612Z"
      },
      {
        "duration": 19,
        "start_time": "2024-01-27T10:48:55.630Z"
      },
      {
        "duration": 19,
        "start_time": "2024-01-27T10:48:55.650Z"
      },
      {
        "duration": 11,
        "start_time": "2024-01-27T10:48:55.671Z"
      },
      {
        "duration": 38,
        "start_time": "2024-01-27T10:48:55.683Z"
      },
      {
        "duration": 31,
        "start_time": "2024-01-27T10:48:55.722Z"
      },
      {
        "duration": 32,
        "start_time": "2024-01-27T10:48:55.754Z"
      },
      {
        "duration": 21,
        "start_time": "2024-01-27T10:48:55.788Z"
      },
      {
        "duration": 25,
        "start_time": "2024-01-27T10:48:55.811Z"
      },
      {
        "duration": 10,
        "start_time": "2024-01-27T10:48:55.838Z"
      },
      {
        "duration": 178,
        "start_time": "2024-01-27T10:48:55.850Z"
      },
      {
        "duration": 130,
        "start_time": "2024-01-27T10:48:56.030Z"
      },
      {
        "duration": 6,
        "start_time": "2024-01-27T10:48:56.161Z"
      },
      {
        "duration": 9,
        "start_time": "2024-01-27T10:48:56.169Z"
      },
      {
        "duration": 18,
        "start_time": "2024-01-27T10:48:56.180Z"
      },
      {
        "duration": 334,
        "start_time": "2024-01-27T10:48:56.200Z"
      },
      {
        "duration": 242,
        "start_time": "2024-01-27T10:48:56.537Z"
      },
      {
        "duration": 13,
        "start_time": "2024-01-27T10:48:56.781Z"
      },
      {
        "duration": 328,
        "start_time": "2024-01-27T10:48:56.796Z"
      },
      {
        "duration": 7,
        "start_time": "2024-01-27T10:48:57.125Z"
      },
      {
        "duration": 269,
        "start_time": "2024-01-27T10:48:57.133Z"
      },
      {
        "duration": 9,
        "start_time": "2024-01-27T10:48:57.404Z"
      },
      {
        "duration": 337,
        "start_time": "2024-01-27T10:48:57.414Z"
      },
      {
        "duration": 163,
        "start_time": "2024-01-27T10:48:57.752Z"
      },
      {
        "duration": 5,
        "start_time": "2024-01-27T10:48:57.917Z"
      },
      {
        "duration": 199,
        "start_time": "2024-01-27T10:48:57.924Z"
      },
      {
        "duration": 4,
        "start_time": "2024-01-27T10:48:58.125Z"
      },
      {
        "duration": 220,
        "start_time": "2024-01-27T10:48:58.131Z"
      },
      {
        "duration": 143,
        "start_time": "2024-01-27T10:48:58.353Z"
      },
      {
        "duration": 6,
        "start_time": "2024-01-27T10:48:58.498Z"
      },
      {
        "duration": 47,
        "start_time": "2024-01-27T10:48:58.506Z"
      },
      {
        "duration": 26,
        "start_time": "2024-01-27T10:52:40.535Z"
      },
      {
        "duration": 27,
        "start_time": "2024-01-27T10:54:11.665Z"
      },
      {
        "duration": 27,
        "start_time": "2024-01-27T10:54:39.025Z"
      },
      {
        "duration": 26,
        "start_time": "2024-01-27T10:55:02.785Z"
      },
      {
        "duration": 31,
        "start_time": "2024-01-27T10:55:15.073Z"
      },
      {
        "duration": 28,
        "start_time": "2024-01-27T13:08:06.920Z"
      },
      {
        "duration": 12,
        "start_time": "2024-01-27T13:08:55.885Z"
      },
      {
        "duration": 6,
        "start_time": "2024-01-27T13:26:12.935Z"
      },
      {
        "duration": 6,
        "start_time": "2024-01-27T13:26:40.545Z"
      },
      {
        "duration": 124,
        "start_time": "2024-01-27T13:26:59.553Z"
      },
      {
        "duration": 4,
        "start_time": "2024-01-27T13:28:43.869Z"
      },
      {
        "duration": 13,
        "start_time": "2024-01-27T13:30:29.914Z"
      },
      {
        "duration": 15,
        "start_time": "2024-01-27T13:31:04.815Z"
      },
      {
        "duration": 11,
        "start_time": "2024-01-27T13:31:13.844Z"
      },
      {
        "duration": 12,
        "start_time": "2024-01-27T13:35:18.743Z"
      },
      {
        "duration": 27,
        "start_time": "2024-01-27T13:35:36.333Z"
      },
      {
        "duration": 28,
        "start_time": "2024-01-27T13:37:24.456Z"
      },
      {
        "duration": 57,
        "start_time": "2024-01-27T13:46:16.689Z"
      },
      {
        "duration": 17,
        "start_time": "2024-01-27T15:17:58.008Z"
      },
      {
        "duration": 1194,
        "start_time": "2024-01-27T15:18:41.585Z"
      },
      {
        "duration": 74,
        "start_time": "2024-01-27T15:18:42.782Z"
      },
      {
        "duration": 15,
        "start_time": "2024-01-27T15:18:42.858Z"
      },
      {
        "duration": 15,
        "start_time": "2024-01-27T15:18:42.875Z"
      },
      {
        "duration": 11,
        "start_time": "2024-01-27T15:18:42.892Z"
      },
      {
        "duration": 12,
        "start_time": "2024-01-27T15:18:42.905Z"
      },
      {
        "duration": 15,
        "start_time": "2024-01-27T15:18:42.919Z"
      },
      {
        "duration": 12,
        "start_time": "2024-01-27T15:18:42.936Z"
      },
      {
        "duration": 6,
        "start_time": "2024-01-27T15:18:42.950Z"
      },
      {
        "duration": 10,
        "start_time": "2024-01-27T15:18:42.959Z"
      },
      {
        "duration": 43,
        "start_time": "2024-01-27T15:18:42.970Z"
      },
      {
        "duration": 32,
        "start_time": "2024-01-27T15:18:43.015Z"
      },
      {
        "duration": 15,
        "start_time": "2024-01-27T15:18:43.049Z"
      },
      {
        "duration": 10,
        "start_time": "2024-01-27T15:18:43.066Z"
      },
      {
        "duration": 32,
        "start_time": "2024-01-27T15:18:43.077Z"
      },
      {
        "duration": 12,
        "start_time": "2024-01-27T15:18:43.110Z"
      },
      {
        "duration": 12,
        "start_time": "2024-01-27T15:18:43.123Z"
      },
      {
        "duration": 26,
        "start_time": "2024-01-27T15:18:43.137Z"
      },
      {
        "duration": 23,
        "start_time": "2024-01-27T15:18:43.165Z"
      },
      {
        "duration": 27,
        "start_time": "2024-01-27T15:18:43.190Z"
      },
      {
        "duration": 6,
        "start_time": "2024-01-27T15:18:43.219Z"
      },
      {
        "duration": 171,
        "start_time": "2024-01-27T15:18:43.227Z"
      },
      {
        "duration": 135,
        "start_time": "2024-01-27T15:18:43.400Z"
      },
      {
        "duration": 6,
        "start_time": "2024-01-27T15:18:43.537Z"
      },
      {
        "duration": 9,
        "start_time": "2024-01-27T15:18:43.544Z"
      },
      {
        "duration": 10,
        "start_time": "2024-01-27T15:18:43.555Z"
      },
      {
        "duration": 325,
        "start_time": "2024-01-27T15:18:43.566Z"
      },
      {
        "duration": 257,
        "start_time": "2024-01-27T15:18:43.894Z"
      },
      {
        "duration": 7,
        "start_time": "2024-01-27T15:18:44.152Z"
      },
      {
        "duration": 354,
        "start_time": "2024-01-27T15:18:44.161Z"
      },
      {
        "duration": 6,
        "start_time": "2024-01-27T15:18:44.516Z"
      },
      {
        "duration": 265,
        "start_time": "2024-01-27T15:18:44.523Z"
      },
      {
        "duration": 8,
        "start_time": "2024-01-27T15:18:44.790Z"
      },
      {
        "duration": 349,
        "start_time": "2024-01-27T15:18:44.800Z"
      },
      {
        "duration": 165,
        "start_time": "2024-01-27T15:18:45.151Z"
      },
      {
        "duration": 6,
        "start_time": "2024-01-27T15:18:45.318Z"
      },
      {
        "duration": 202,
        "start_time": "2024-01-27T15:18:45.325Z"
      },
      {
        "duration": 5,
        "start_time": "2024-01-27T15:18:45.529Z"
      },
      {
        "duration": 212,
        "start_time": "2024-01-27T15:18:45.536Z"
      },
      {
        "duration": 137,
        "start_time": "2024-01-27T15:18:45.749Z"
      },
      {
        "duration": 7,
        "start_time": "2024-01-27T15:18:45.888Z"
      },
      {
        "duration": 53,
        "start_time": "2024-01-27T15:18:45.896Z"
      },
      {
        "duration": 11,
        "start_time": "2024-01-27T15:18:45.951Z"
      },
      {
        "duration": 10,
        "start_time": "2024-01-27T15:18:45.964Z"
      },
      {
        "duration": 45,
        "start_time": "2024-01-27T15:18:45.976Z"
      },
      {
        "duration": 39,
        "start_time": "2024-01-27T15:18:46.023Z"
      },
      {
        "duration": 15,
        "start_time": "2024-01-27T15:18:46.064Z"
      },
      {
        "duration": 5,
        "start_time": "2024-01-27T15:20:30.245Z"
      },
      {
        "duration": 4,
        "start_time": "2024-01-27T15:20:44.639Z"
      },
      {
        "duration": 5,
        "start_time": "2024-01-27T15:20:58.432Z"
      },
      {
        "duration": 42,
        "start_time": "2024-01-27T15:21:13.849Z"
      },
      {
        "duration": 4,
        "start_time": "2024-01-27T15:21:14.541Z"
      },
      {
        "duration": 40,
        "start_time": "2024-01-27T15:21:21.056Z"
      },
      {
        "duration": 4,
        "start_time": "2024-01-27T15:21:23.749Z"
      },
      {
        "duration": 41,
        "start_time": "2024-01-27T15:22:07.058Z"
      },
      {
        "duration": 5,
        "start_time": "2024-01-27T15:22:15.231Z"
      },
      {
        "duration": 38,
        "start_time": "2024-01-27T15:23:05.115Z"
      },
      {
        "duration": 14,
        "start_time": "2024-01-27T15:23:06.494Z"
      },
      {
        "duration": 49,
        "start_time": "2024-01-27T15:23:11.999Z"
      },
      {
        "duration": 14,
        "start_time": "2024-01-27T15:23:12.789Z"
      },
      {
        "duration": 145,
        "start_time": "2024-01-27T15:24:47.543Z"
      },
      {
        "duration": 138,
        "start_time": "2024-01-27T15:24:52.611Z"
      },
      {
        "duration": 27,
        "start_time": "2024-01-27T15:26:25.148Z"
      },
      {
        "duration": 4,
        "start_time": "2024-01-27T15:27:15.904Z"
      },
      {
        "duration": 13,
        "start_time": "2024-01-27T15:27:32.653Z"
      },
      {
        "duration": 1212,
        "start_time": "2024-01-27T15:27:39.871Z"
      },
      {
        "duration": 76,
        "start_time": "2024-01-27T15:27:41.085Z"
      },
      {
        "duration": 14,
        "start_time": "2024-01-27T15:27:41.163Z"
      },
      {
        "duration": 19,
        "start_time": "2024-01-27T15:27:41.179Z"
      },
      {
        "duration": 11,
        "start_time": "2024-01-27T15:27:41.199Z"
      },
      {
        "duration": 12,
        "start_time": "2024-01-27T15:27:41.211Z"
      },
      {
        "duration": 10,
        "start_time": "2024-01-27T15:27:41.225Z"
      },
      {
        "duration": 17,
        "start_time": "2024-01-27T15:27:41.237Z"
      },
      {
        "duration": 12,
        "start_time": "2024-01-27T15:27:41.256Z"
      },
      {
        "duration": 5,
        "start_time": "2024-01-27T15:27:41.292Z"
      },
      {
        "duration": 6,
        "start_time": "2024-01-27T15:27:41.298Z"
      },
      {
        "duration": 4,
        "start_time": "2024-01-27T15:27:41.306Z"
      },
      {
        "duration": 16,
        "start_time": "2024-01-27T15:27:41.312Z"
      },
      {
        "duration": 5,
        "start_time": "2024-01-27T15:27:41.330Z"
      },
      {
        "duration": 9,
        "start_time": "2024-01-27T15:27:41.336Z"
      },
      {
        "duration": 3,
        "start_time": "2024-01-27T15:27:41.346Z"
      },
      {
        "duration": 7,
        "start_time": "2024-01-27T15:27:41.351Z"
      },
      {
        "duration": 38,
        "start_time": "2024-01-27T15:27:41.360Z"
      },
      {
        "duration": 12,
        "start_time": "2024-01-27T15:27:41.400Z"
      },
      {
        "duration": 10,
        "start_time": "2024-01-27T15:27:41.414Z"
      },
      {
        "duration": 18,
        "start_time": "2024-01-27T15:27:41.425Z"
      },
      {
        "duration": 182,
        "start_time": "2024-01-27T15:27:41.445Z"
      },
      {
        "duration": 140,
        "start_time": "2024-01-27T15:27:41.629Z"
      },
      {
        "duration": 6,
        "start_time": "2024-01-27T15:27:41.771Z"
      },
      {
        "duration": 10,
        "start_time": "2024-01-27T15:27:41.778Z"
      },
      {
        "duration": 7,
        "start_time": "2024-01-27T15:27:41.790Z"
      },
      {
        "duration": 421,
        "start_time": "2024-01-27T15:27:41.799Z"
      },
      {
        "duration": 254,
        "start_time": "2024-01-27T15:27:42.224Z"
      },
      {
        "duration": 11,
        "start_time": "2024-01-27T15:27:42.480Z"
      },
      {
        "duration": 331,
        "start_time": "2024-01-27T15:27:42.493Z"
      },
      {
        "duration": 6,
        "start_time": "2024-01-27T15:27:42.826Z"
      },
      {
        "duration": 261,
        "start_time": "2024-01-27T15:27:42.833Z"
      },
      {
        "duration": 9,
        "start_time": "2024-01-27T15:27:43.095Z"
      },
      {
        "duration": 343,
        "start_time": "2024-01-27T15:27:43.105Z"
      },
      {
        "duration": 172,
        "start_time": "2024-01-27T15:27:43.450Z"
      },
      {
        "duration": 6,
        "start_time": "2024-01-27T15:27:43.623Z"
      },
      {
        "duration": 185,
        "start_time": "2024-01-27T15:27:43.630Z"
      },
      {
        "duration": 4,
        "start_time": "2024-01-27T15:27:43.816Z"
      },
      {
        "duration": 228,
        "start_time": "2024-01-27T15:27:43.822Z"
      },
      {
        "duration": 146,
        "start_time": "2024-01-27T15:27:44.052Z"
      },
      {
        "duration": 6,
        "start_time": "2024-01-27T15:27:44.199Z"
      },
      {
        "duration": 34,
        "start_time": "2024-01-27T15:27:44.207Z"
      },
      {
        "duration": 12,
        "start_time": "2024-01-27T15:27:44.243Z"
      },
      {
        "duration": 12,
        "start_time": "2024-01-27T15:27:44.257Z"
      },
      {
        "duration": 55,
        "start_time": "2024-01-27T15:27:44.271Z"
      },
      {
        "duration": 5,
        "start_time": "2024-01-27T15:27:44.327Z"
      },
      {
        "duration": 18,
        "start_time": "2024-01-27T15:27:44.334Z"
      },
      {
        "duration": 15,
        "start_time": "2024-01-27T15:28:51.828Z"
      },
      {
        "duration": 16,
        "start_time": "2024-01-27T15:29:13.821Z"
      },
      {
        "duration": 16,
        "start_time": "2024-01-27T15:29:22.035Z"
      },
      {
        "duration": 1201,
        "start_time": "2024-01-28T08:36:32.499Z"
      },
      {
        "duration": 184,
        "start_time": "2024-01-28T08:36:33.702Z"
      },
      {
        "duration": 12,
        "start_time": "2024-01-28T08:36:33.887Z"
      },
      {
        "duration": 10,
        "start_time": "2024-01-28T08:36:33.901Z"
      },
      {
        "duration": 10,
        "start_time": "2024-01-28T08:36:33.913Z"
      },
      {
        "duration": 31,
        "start_time": "2024-01-28T08:36:33.924Z"
      },
      {
        "duration": 12,
        "start_time": "2024-01-28T08:36:33.956Z"
      },
      {
        "duration": 15,
        "start_time": "2024-01-28T08:36:33.970Z"
      },
      {
        "duration": 4,
        "start_time": "2024-01-28T08:36:33.987Z"
      },
      {
        "duration": 10,
        "start_time": "2024-01-28T08:36:33.994Z"
      },
      {
        "duration": 5,
        "start_time": "2024-01-28T08:36:34.005Z"
      },
      {
        "duration": 5,
        "start_time": "2024-01-28T08:36:34.011Z"
      },
      {
        "duration": 8,
        "start_time": "2024-01-28T08:36:34.018Z"
      },
      {
        "duration": 6,
        "start_time": "2024-01-28T08:36:34.027Z"
      },
      {
        "duration": 18,
        "start_time": "2024-01-28T08:36:34.034Z"
      },
      {
        "duration": 3,
        "start_time": "2024-01-28T08:36:34.054Z"
      },
      {
        "duration": 20,
        "start_time": "2024-01-28T08:36:34.058Z"
      },
      {
        "duration": 23,
        "start_time": "2024-01-28T08:36:34.080Z"
      },
      {
        "duration": 11,
        "start_time": "2024-01-28T08:36:34.104Z"
      },
      {
        "duration": 13,
        "start_time": "2024-01-28T08:36:34.116Z"
      },
      {
        "duration": 12,
        "start_time": "2024-01-28T08:36:34.130Z"
      },
      {
        "duration": 151,
        "start_time": "2024-01-28T08:36:34.143Z"
      },
      {
        "duration": 120,
        "start_time": "2024-01-28T08:36:34.295Z"
      },
      {
        "duration": 6,
        "start_time": "2024-01-28T08:36:34.417Z"
      },
      {
        "duration": 36,
        "start_time": "2024-01-28T08:36:34.424Z"
      },
      {
        "duration": 15,
        "start_time": "2024-01-28T08:36:34.461Z"
      },
      {
        "duration": 290,
        "start_time": "2024-01-28T08:36:34.477Z"
      },
      {
        "duration": 211,
        "start_time": "2024-01-28T08:36:34.772Z"
      },
      {
        "duration": 6,
        "start_time": "2024-01-28T08:36:34.984Z"
      },
      {
        "duration": 362,
        "start_time": "2024-01-28T08:36:34.992Z"
      },
      {
        "duration": 6,
        "start_time": "2024-01-28T08:36:35.355Z"
      },
      {
        "duration": 246,
        "start_time": "2024-01-28T08:36:35.362Z"
      },
      {
        "duration": 7,
        "start_time": "2024-01-28T08:36:35.610Z"
      },
      {
        "duration": 345,
        "start_time": "2024-01-28T08:36:35.618Z"
      },
      {
        "duration": 154,
        "start_time": "2024-01-28T08:36:35.964Z"
      },
      {
        "duration": 6,
        "start_time": "2024-01-28T08:36:36.119Z"
      },
      {
        "duration": 163,
        "start_time": "2024-01-28T08:36:36.126Z"
      },
      {
        "duration": 4,
        "start_time": "2024-01-28T08:36:36.290Z"
      },
      {
        "duration": 186,
        "start_time": "2024-01-28T08:36:36.296Z"
      },
      {
        "duration": 136,
        "start_time": "2024-01-28T08:36:36.483Z"
      },
      {
        "duration": 5,
        "start_time": "2024-01-28T08:36:36.621Z"
      },
      {
        "duration": 35,
        "start_time": "2024-01-28T08:36:36.628Z"
      },
      {
        "duration": 11,
        "start_time": "2024-01-28T08:36:36.664Z"
      },
      {
        "duration": 10,
        "start_time": "2024-01-28T08:36:36.676Z"
      },
      {
        "duration": 24,
        "start_time": "2024-01-28T08:36:36.688Z"
      },
      {
        "duration": 4,
        "start_time": "2024-01-28T08:36:36.713Z"
      },
      {
        "duration": 41,
        "start_time": "2024-01-28T08:36:36.718Z"
      },
      {
        "duration": 1089,
        "start_time": "2024-01-28T08:41:30.893Z"
      },
      {
        "duration": 72,
        "start_time": "2024-01-28T08:41:31.984Z"
      },
      {
        "duration": 11,
        "start_time": "2024-01-28T08:41:32.058Z"
      },
      {
        "duration": 9,
        "start_time": "2024-01-28T08:41:32.071Z"
      },
      {
        "duration": 22,
        "start_time": "2024-01-28T08:41:32.081Z"
      },
      {
        "duration": 11,
        "start_time": "2024-01-28T08:41:32.104Z"
      },
      {
        "duration": 17,
        "start_time": "2024-01-28T08:41:32.116Z"
      },
      {
        "duration": 22,
        "start_time": "2024-01-28T08:41:32.134Z"
      },
      {
        "duration": 28,
        "start_time": "2024-01-28T08:41:32.157Z"
      },
      {
        "duration": 7,
        "start_time": "2024-01-28T08:41:32.188Z"
      },
      {
        "duration": 9,
        "start_time": "2024-01-28T08:41:32.197Z"
      },
      {
        "duration": 8,
        "start_time": "2024-01-28T08:41:32.208Z"
      },
      {
        "duration": 9,
        "start_time": "2024-01-28T08:41:32.217Z"
      },
      {
        "duration": 10,
        "start_time": "2024-01-28T08:41:32.228Z"
      },
      {
        "duration": 13,
        "start_time": "2024-01-28T08:41:32.240Z"
      },
      {
        "duration": 16,
        "start_time": "2024-01-28T08:41:32.254Z"
      },
      {
        "duration": 7,
        "start_time": "2024-01-28T08:41:32.272Z"
      },
      {
        "duration": 20,
        "start_time": "2024-01-28T08:41:32.281Z"
      },
      {
        "duration": 12,
        "start_time": "2024-01-28T08:41:32.302Z"
      },
      {
        "duration": 9,
        "start_time": "2024-01-28T08:41:32.315Z"
      },
      {
        "duration": 6,
        "start_time": "2024-01-28T08:41:32.326Z"
      },
      {
        "duration": 160,
        "start_time": "2024-01-28T08:41:32.334Z"
      },
      {
        "duration": 117,
        "start_time": "2024-01-28T08:41:32.495Z"
      },
      {
        "duration": 6,
        "start_time": "2024-01-28T08:41:32.613Z"
      },
      {
        "duration": 22,
        "start_time": "2024-01-28T08:41:32.621Z"
      },
      {
        "duration": 10,
        "start_time": "2024-01-28T08:41:32.644Z"
      },
      {
        "duration": 298,
        "start_time": "2024-01-28T08:41:32.655Z"
      },
      {
        "duration": 213,
        "start_time": "2024-01-28T08:41:32.957Z"
      },
      {
        "duration": 6,
        "start_time": "2024-01-28T08:41:33.171Z"
      },
      {
        "duration": 308,
        "start_time": "2024-01-28T08:41:33.179Z"
      },
      {
        "duration": 5,
        "start_time": "2024-01-28T08:41:33.489Z"
      },
      {
        "duration": 220,
        "start_time": "2024-01-28T08:41:33.495Z"
      },
      {
        "duration": 7,
        "start_time": "2024-01-28T08:41:33.716Z"
      },
      {
        "duration": 346,
        "start_time": "2024-01-28T08:41:33.724Z"
      },
      {
        "duration": 152,
        "start_time": "2024-01-28T08:41:34.072Z"
      },
      {
        "duration": 4,
        "start_time": "2024-01-28T08:41:34.226Z"
      },
      {
        "duration": 161,
        "start_time": "2024-01-28T08:41:34.231Z"
      },
      {
        "duration": 3,
        "start_time": "2024-01-28T08:41:34.394Z"
      },
      {
        "duration": 183,
        "start_time": "2024-01-28T08:41:34.399Z"
      },
      {
        "duration": 135,
        "start_time": "2024-01-28T08:41:34.583Z"
      },
      {
        "duration": 5,
        "start_time": "2024-01-28T08:41:34.720Z"
      },
      {
        "duration": 31,
        "start_time": "2024-01-28T08:41:34.726Z"
      },
      {
        "duration": 10,
        "start_time": "2024-01-28T08:41:34.758Z"
      },
      {
        "duration": 9,
        "start_time": "2024-01-28T08:41:34.770Z"
      },
      {
        "duration": 33,
        "start_time": "2024-01-28T08:41:34.780Z"
      },
      {
        "duration": 4,
        "start_time": "2024-01-28T08:41:34.815Z"
      },
      {
        "duration": 35,
        "start_time": "2024-01-28T08:41:34.820Z"
      },
      {
        "duration": 989,
        "start_time": "2024-01-28T09:04:53.767Z"
      },
      {
        "duration": 192,
        "start_time": "2024-01-28T09:04:54.757Z"
      },
      {
        "duration": 10,
        "start_time": "2024-01-28T09:04:54.951Z"
      },
      {
        "duration": 39,
        "start_time": "2024-01-28T09:04:54.963Z"
      },
      {
        "duration": 30,
        "start_time": "2024-01-28T09:04:55.004Z"
      },
      {
        "duration": 25,
        "start_time": "2024-01-28T09:04:55.035Z"
      },
      {
        "duration": 32,
        "start_time": "2024-01-28T09:04:55.061Z"
      },
      {
        "duration": 22,
        "start_time": "2024-01-28T09:04:55.094Z"
      },
      {
        "duration": 23,
        "start_time": "2024-01-28T09:04:55.117Z"
      },
      {
        "duration": 74,
        "start_time": "2024-01-28T09:04:55.142Z"
      },
      {
        "duration": 37,
        "start_time": "2024-01-28T09:04:55.218Z"
      },
      {
        "duration": 45,
        "start_time": "2024-01-28T09:04:55.256Z"
      },
      {
        "duration": 41,
        "start_time": "2024-01-28T09:04:55.303Z"
      },
      {
        "duration": 51,
        "start_time": "2024-01-28T09:04:55.345Z"
      },
      {
        "duration": 36,
        "start_time": "2024-01-28T09:04:55.398Z"
      },
      {
        "duration": 10,
        "start_time": "2024-01-28T09:04:55.435Z"
      },
      {
        "duration": 16,
        "start_time": "2024-01-28T09:04:55.446Z"
      },
      {
        "duration": 23,
        "start_time": "2024-01-28T09:04:55.463Z"
      },
      {
        "duration": 14,
        "start_time": "2024-01-28T09:04:55.487Z"
      },
      {
        "duration": 36,
        "start_time": "2024-01-28T09:04:55.502Z"
      },
      {
        "duration": 38,
        "start_time": "2024-01-28T09:04:55.540Z"
      },
      {
        "duration": 173,
        "start_time": "2024-01-28T09:04:55.579Z"
      },
      {
        "duration": 118,
        "start_time": "2024-01-28T09:04:55.754Z"
      },
      {
        "duration": 5,
        "start_time": "2024-01-28T09:04:55.874Z"
      },
      {
        "duration": 14,
        "start_time": "2024-01-28T09:04:55.881Z"
      },
      {
        "duration": 9,
        "start_time": "2024-01-28T09:04:55.896Z"
      },
      {
        "duration": 262,
        "start_time": "2024-01-28T09:04:55.906Z"
      },
      {
        "duration": 207,
        "start_time": "2024-01-28T09:04:56.171Z"
      },
      {
        "duration": 5,
        "start_time": "2024-01-28T09:04:56.380Z"
      },
      {
        "duration": 274,
        "start_time": "2024-01-28T09:04:56.386Z"
      },
      {
        "duration": 5,
        "start_time": "2024-01-28T09:04:56.662Z"
      },
      {
        "duration": 211,
        "start_time": "2024-01-28T09:04:56.668Z"
      },
      {
        "duration": 7,
        "start_time": "2024-01-28T09:04:56.880Z"
      },
      {
        "duration": 363,
        "start_time": "2024-01-28T09:04:56.888Z"
      },
      {
        "duration": 149,
        "start_time": "2024-01-28T09:04:57.253Z"
      },
      {
        "duration": 5,
        "start_time": "2024-01-28T09:04:57.404Z"
      },
      {
        "duration": 172,
        "start_time": "2024-01-28T09:04:57.410Z"
      },
      {
        "duration": 3,
        "start_time": "2024-01-28T09:04:57.584Z"
      },
      {
        "duration": 196,
        "start_time": "2024-01-28T09:04:57.589Z"
      },
      {
        "duration": 126,
        "start_time": "2024-01-28T09:04:57.786Z"
      },
      {
        "duration": 5,
        "start_time": "2024-01-28T09:04:57.913Z"
      },
      {
        "duration": 77,
        "start_time": "2024-01-28T09:04:57.920Z"
      },
      {
        "duration": 9,
        "start_time": "2024-01-28T09:04:57.999Z"
      },
      {
        "duration": 34,
        "start_time": "2024-01-28T09:04:58.009Z"
      },
      {
        "duration": 30,
        "start_time": "2024-01-28T09:04:58.044Z"
      },
      {
        "duration": 3,
        "start_time": "2024-01-28T09:04:58.075Z"
      },
      {
        "duration": 32,
        "start_time": "2024-01-28T09:04:58.079Z"
      },
      {
        "duration": 71,
        "start_time": "2024-01-28T09:05:07.912Z"
      },
      {
        "duration": 111,
        "start_time": "2024-01-28T12:42:27.376Z"
      },
      {
        "duration": 127,
        "start_time": "2024-01-28T12:59:05.705Z"
      },
      {
        "duration": 48,
        "start_time": "2024-01-28T13:01:25.293Z"
      },
      {
        "duration": 1222,
        "start_time": "2024-01-28T13:01:30.541Z"
      },
      {
        "duration": 184,
        "start_time": "2024-01-28T13:01:31.765Z"
      },
      {
        "duration": 12,
        "start_time": "2024-01-28T13:01:31.951Z"
      },
      {
        "duration": 38,
        "start_time": "2024-01-28T13:01:31.964Z"
      },
      {
        "duration": 36,
        "start_time": "2024-01-28T13:01:32.003Z"
      },
      {
        "duration": 37,
        "start_time": "2024-01-28T13:01:32.041Z"
      },
      {
        "duration": 24,
        "start_time": "2024-01-28T13:01:32.079Z"
      },
      {
        "duration": 53,
        "start_time": "2024-01-28T13:01:32.104Z"
      },
      {
        "duration": 26,
        "start_time": "2024-01-28T13:01:32.159Z"
      },
      {
        "duration": 26,
        "start_time": "2024-01-28T13:01:32.187Z"
      },
      {
        "duration": 39,
        "start_time": "2024-01-28T13:01:32.215Z"
      },
      {
        "duration": 16,
        "start_time": "2024-01-28T13:01:32.256Z"
      },
      {
        "duration": 43,
        "start_time": "2024-01-28T13:01:32.273Z"
      },
      {
        "duration": 28,
        "start_time": "2024-01-28T13:01:32.317Z"
      },
      {
        "duration": 45,
        "start_time": "2024-01-28T13:01:32.346Z"
      },
      {
        "duration": 34,
        "start_time": "2024-01-28T13:01:32.393Z"
      },
      {
        "duration": 18,
        "start_time": "2024-01-28T13:01:32.429Z"
      },
      {
        "duration": 44,
        "start_time": "2024-01-28T13:01:32.449Z"
      },
      {
        "duration": 102,
        "start_time": "2024-01-28T13:01:32.494Z"
      },
      {
        "duration": 0,
        "start_time": "2024-01-28T13:01:32.598Z"
      },
      {
        "duration": 0,
        "start_time": "2024-01-28T13:01:32.599Z"
      },
      {
        "duration": 0,
        "start_time": "2024-01-28T13:01:32.600Z"
      },
      {
        "duration": 0,
        "start_time": "2024-01-28T13:01:32.601Z"
      },
      {
        "duration": 0,
        "start_time": "2024-01-28T13:01:32.602Z"
      },
      {
        "duration": 0,
        "start_time": "2024-01-28T13:01:32.603Z"
      },
      {
        "duration": 0,
        "start_time": "2024-01-28T13:01:32.604Z"
      },
      {
        "duration": 0,
        "start_time": "2024-01-28T13:01:32.605Z"
      },
      {
        "duration": 0,
        "start_time": "2024-01-28T13:01:32.606Z"
      },
      {
        "duration": 0,
        "start_time": "2024-01-28T13:01:32.607Z"
      },
      {
        "duration": 0,
        "start_time": "2024-01-28T13:01:32.609Z"
      },
      {
        "duration": 0,
        "start_time": "2024-01-28T13:01:32.610Z"
      },
      {
        "duration": 0,
        "start_time": "2024-01-28T13:01:32.611Z"
      },
      {
        "duration": 0,
        "start_time": "2024-01-28T13:01:32.612Z"
      },
      {
        "duration": 0,
        "start_time": "2024-01-28T13:01:32.613Z"
      },
      {
        "duration": 0,
        "start_time": "2024-01-28T13:01:32.614Z"
      },
      {
        "duration": 0,
        "start_time": "2024-01-28T13:01:32.615Z"
      },
      {
        "duration": 0,
        "start_time": "2024-01-28T13:01:32.616Z"
      },
      {
        "duration": 0,
        "start_time": "2024-01-28T13:01:32.617Z"
      },
      {
        "duration": 0,
        "start_time": "2024-01-28T13:01:32.618Z"
      },
      {
        "duration": 0,
        "start_time": "2024-01-28T13:01:32.619Z"
      },
      {
        "duration": 0,
        "start_time": "2024-01-28T13:01:32.619Z"
      },
      {
        "duration": 1,
        "start_time": "2024-01-28T13:01:32.620Z"
      },
      {
        "duration": 0,
        "start_time": "2024-01-28T13:01:32.621Z"
      },
      {
        "duration": 0,
        "start_time": "2024-01-28T13:01:32.622Z"
      },
      {
        "duration": 0,
        "start_time": "2024-01-28T13:01:32.623Z"
      },
      {
        "duration": 0,
        "start_time": "2024-01-28T13:01:32.624Z"
      },
      {
        "duration": 0,
        "start_time": "2024-01-28T13:01:32.625Z"
      },
      {
        "duration": 0,
        "start_time": "2024-01-28T13:01:32.626Z"
      },
      {
        "duration": 1058,
        "start_time": "2024-01-28T13:02:11.189Z"
      },
      {
        "duration": 72,
        "start_time": "2024-01-28T13:02:12.249Z"
      },
      {
        "duration": 11,
        "start_time": "2024-01-28T13:02:12.322Z"
      },
      {
        "duration": 38,
        "start_time": "2024-01-28T13:02:12.336Z"
      },
      {
        "duration": 27,
        "start_time": "2024-01-28T13:02:12.376Z"
      },
      {
        "duration": 36,
        "start_time": "2024-01-28T13:02:12.405Z"
      },
      {
        "duration": 16,
        "start_time": "2024-01-28T13:02:12.443Z"
      },
      {
        "duration": 38,
        "start_time": "2024-01-28T13:02:12.461Z"
      },
      {
        "duration": 25,
        "start_time": "2024-01-28T13:02:12.501Z"
      },
      {
        "duration": 14,
        "start_time": "2024-01-28T13:02:12.529Z"
      },
      {
        "duration": 39,
        "start_time": "2024-01-28T13:02:12.545Z"
      },
      {
        "duration": 15,
        "start_time": "2024-01-28T13:02:12.586Z"
      },
      {
        "duration": 22,
        "start_time": "2024-01-28T13:02:12.602Z"
      },
      {
        "duration": 8,
        "start_time": "2024-01-28T13:02:12.626Z"
      },
      {
        "duration": 29,
        "start_time": "2024-01-28T13:02:12.635Z"
      },
      {
        "duration": 22,
        "start_time": "2024-01-28T13:02:12.665Z"
      },
      {
        "duration": 30,
        "start_time": "2024-01-28T13:02:12.688Z"
      },
      {
        "duration": 32,
        "start_time": "2024-01-28T13:02:12.720Z"
      },
      {
        "duration": 14,
        "start_time": "2024-01-28T13:02:12.754Z"
      },
      {
        "duration": 22,
        "start_time": "2024-01-28T13:02:12.770Z"
      },
      {
        "duration": 25,
        "start_time": "2024-01-28T13:02:12.794Z"
      },
      {
        "duration": 182,
        "start_time": "2024-01-28T13:02:12.820Z"
      },
      {
        "duration": 118,
        "start_time": "2024-01-28T13:02:13.003Z"
      },
      {
        "duration": 5,
        "start_time": "2024-01-28T13:02:13.123Z"
      },
      {
        "duration": 26,
        "start_time": "2024-01-28T13:02:13.130Z"
      },
      {
        "duration": 16,
        "start_time": "2024-01-28T13:02:13.157Z"
      },
      {
        "duration": 298,
        "start_time": "2024-01-28T13:02:13.174Z"
      },
      {
        "duration": 216,
        "start_time": "2024-01-28T13:02:13.475Z"
      },
      {
        "duration": 6,
        "start_time": "2024-01-28T13:02:13.692Z"
      },
      {
        "duration": 321,
        "start_time": "2024-01-28T13:02:13.700Z"
      },
      {
        "duration": 5,
        "start_time": "2024-01-28T13:02:14.023Z"
      },
      {
        "duration": 253,
        "start_time": "2024-01-28T13:02:14.029Z"
      },
      {
        "duration": 11,
        "start_time": "2024-01-28T13:02:14.283Z"
      },
      {
        "duration": 324,
        "start_time": "2024-01-28T13:02:14.295Z"
      },
      {
        "duration": 149,
        "start_time": "2024-01-28T13:02:14.621Z"
      },
      {
        "duration": 4,
        "start_time": "2024-01-28T13:02:14.772Z"
      },
      {
        "duration": 169,
        "start_time": "2024-01-28T13:02:14.777Z"
      },
      {
        "duration": 4,
        "start_time": "2024-01-28T13:02:14.947Z"
      },
      {
        "duration": 210,
        "start_time": "2024-01-28T13:02:14.953Z"
      },
      {
        "duration": 131,
        "start_time": "2024-01-28T13:02:15.164Z"
      },
      {
        "duration": 6,
        "start_time": "2024-01-28T13:02:15.297Z"
      },
      {
        "duration": 51,
        "start_time": "2024-01-28T13:02:15.304Z"
      },
      {
        "duration": 10,
        "start_time": "2024-01-28T13:02:15.356Z"
      },
      {
        "duration": 37,
        "start_time": "2024-01-28T13:02:15.368Z"
      },
      {
        "duration": 54,
        "start_time": "2024-01-28T13:02:15.406Z"
      },
      {
        "duration": 4,
        "start_time": "2024-01-28T13:02:15.462Z"
      },
      {
        "duration": 18,
        "start_time": "2024-01-28T13:02:15.467Z"
      },
      {
        "duration": 253,
        "start_time": "2024-01-28T13:02:33.612Z"
      },
      {
        "duration": 299,
        "start_time": "2024-01-28T13:02:38.302Z"
      },
      {
        "duration": 223,
        "start_time": "2024-01-28T13:02:43.771Z"
      },
      {
        "duration": 279,
        "start_time": "2024-01-28T13:02:49.628Z"
      },
      {
        "duration": 135,
        "start_time": "2024-01-28T13:02:53.613Z"
      },
      {
        "duration": 151,
        "start_time": "2024-01-28T13:02:59.451Z"
      },
      {
        "duration": 1425,
        "start_time": "2024-01-29T06:05:33.935Z"
      },
      {
        "duration": 199,
        "start_time": "2024-01-29T06:05:35.362Z"
      },
      {
        "duration": 14,
        "start_time": "2024-01-29T06:05:35.562Z"
      },
      {
        "duration": 29,
        "start_time": "2024-01-29T06:05:35.578Z"
      },
      {
        "duration": 12,
        "start_time": "2024-01-29T06:05:35.609Z"
      },
      {
        "duration": 17,
        "start_time": "2024-01-29T06:05:35.623Z"
      },
      {
        "duration": 10,
        "start_time": "2024-01-29T06:05:35.642Z"
      },
      {
        "duration": 23,
        "start_time": "2024-01-29T06:05:35.654Z"
      },
      {
        "duration": 15,
        "start_time": "2024-01-29T06:05:35.679Z"
      },
      {
        "duration": 18,
        "start_time": "2024-01-29T06:05:35.698Z"
      },
      {
        "duration": 6,
        "start_time": "2024-01-29T06:05:35.718Z"
      },
      {
        "duration": 5,
        "start_time": "2024-01-29T06:05:35.726Z"
      },
      {
        "duration": 23,
        "start_time": "2024-01-29T06:05:35.733Z"
      },
      {
        "duration": 16,
        "start_time": "2024-01-29T06:05:35.758Z"
      },
      {
        "duration": 16,
        "start_time": "2024-01-29T06:05:35.776Z"
      },
      {
        "duration": 5,
        "start_time": "2024-01-29T06:05:35.794Z"
      },
      {
        "duration": 7,
        "start_time": "2024-01-29T06:05:35.801Z"
      },
      {
        "duration": 18,
        "start_time": "2024-01-29T06:05:35.810Z"
      },
      {
        "duration": 26,
        "start_time": "2024-01-29T06:05:35.830Z"
      },
      {
        "duration": 18,
        "start_time": "2024-01-29T06:05:35.858Z"
      },
      {
        "duration": 10,
        "start_time": "2024-01-29T06:05:35.877Z"
      },
      {
        "duration": 189,
        "start_time": "2024-01-29T06:05:35.888Z"
      },
      {
        "duration": 125,
        "start_time": "2024-01-29T06:05:36.079Z"
      },
      {
        "duration": 6,
        "start_time": "2024-01-29T06:05:36.206Z"
      },
      {
        "duration": 4,
        "start_time": "2024-01-29T06:05:36.214Z"
      },
      {
        "duration": 9,
        "start_time": "2024-01-29T06:05:36.219Z"
      },
      {
        "duration": 350,
        "start_time": "2024-01-29T06:05:36.230Z"
      },
      {
        "duration": 226,
        "start_time": "2024-01-29T06:05:36.584Z"
      },
      {
        "duration": 6,
        "start_time": "2024-01-29T06:05:36.812Z"
      },
      {
        "duration": 414,
        "start_time": "2024-01-29T06:05:36.819Z"
      },
      {
        "duration": 5,
        "start_time": "2024-01-29T06:05:37.235Z"
      },
      {
        "duration": 249,
        "start_time": "2024-01-29T06:05:37.242Z"
      },
      {
        "duration": 8,
        "start_time": "2024-01-29T06:05:37.493Z"
      },
      {
        "duration": 325,
        "start_time": "2024-01-29T06:05:37.503Z"
      },
      {
        "duration": 154,
        "start_time": "2024-01-29T06:05:37.830Z"
      },
      {
        "duration": 5,
        "start_time": "2024-01-29T06:05:37.986Z"
      },
      {
        "duration": 177,
        "start_time": "2024-01-29T06:05:37.993Z"
      },
      {
        "duration": 3,
        "start_time": "2024-01-29T06:05:38.172Z"
      },
      {
        "duration": 203,
        "start_time": "2024-01-29T06:05:38.177Z"
      },
      {
        "duration": 150,
        "start_time": "2024-01-29T06:05:38.381Z"
      },
      {
        "duration": 6,
        "start_time": "2024-01-29T06:05:38.533Z"
      },
      {
        "duration": 40,
        "start_time": "2024-01-29T06:05:38.541Z"
      },
      {
        "duration": 11,
        "start_time": "2024-01-29T06:05:38.583Z"
      },
      {
        "duration": 11,
        "start_time": "2024-01-29T06:05:38.596Z"
      },
      {
        "duration": 53,
        "start_time": "2024-01-29T06:05:38.609Z"
      },
      {
        "duration": 4,
        "start_time": "2024-01-29T06:05:38.663Z"
      },
      {
        "duration": 16,
        "start_time": "2024-01-29T06:05:38.669Z"
      },
      {
        "duration": 3,
        "start_time": "2024-01-29T06:06:58.163Z"
      },
      {
        "duration": 13,
        "start_time": "2024-01-29T06:07:06.524Z"
      },
      {
        "duration": 3,
        "start_time": "2024-01-29T06:07:12.222Z"
      },
      {
        "duration": 3,
        "start_time": "2024-01-29T06:07:12.676Z"
      },
      {
        "duration": 12,
        "start_time": "2024-01-29T06:07:14.836Z"
      },
      {
        "duration": 2,
        "start_time": "2024-01-29T06:07:20.757Z"
      },
      {
        "duration": 13,
        "start_time": "2024-01-29T06:07:21.271Z"
      },
      {
        "duration": 3,
        "start_time": "2024-01-29T06:07:24.045Z"
      },
      {
        "duration": 138,
        "start_time": "2024-01-29T06:07:24.050Z"
      },
      {
        "duration": 8,
        "start_time": "2024-01-29T06:07:24.190Z"
      },
      {
        "duration": 17,
        "start_time": "2024-01-29T06:07:24.200Z"
      },
      {
        "duration": 14,
        "start_time": "2024-01-29T06:07:24.218Z"
      },
      {
        "duration": 25,
        "start_time": "2024-01-29T06:07:24.233Z"
      },
      {
        "duration": 22,
        "start_time": "2024-01-29T06:07:24.260Z"
      },
      {
        "duration": 21,
        "start_time": "2024-01-29T06:07:24.283Z"
      },
      {
        "duration": 5,
        "start_time": "2024-01-29T06:07:24.307Z"
      },
      {
        "duration": 8,
        "start_time": "2024-01-29T06:07:24.314Z"
      },
      {
        "duration": 13,
        "start_time": "2024-01-29T06:07:24.323Z"
      },
      {
        "duration": 11,
        "start_time": "2024-01-29T06:07:24.337Z"
      },
      {
        "duration": 24,
        "start_time": "2024-01-29T06:07:24.350Z"
      },
      {
        "duration": 11,
        "start_time": "2024-01-29T06:07:24.376Z"
      },
      {
        "duration": 9,
        "start_time": "2024-01-29T06:07:24.389Z"
      },
      {
        "duration": 10,
        "start_time": "2024-01-29T06:07:24.400Z"
      },
      {
        "duration": 9,
        "start_time": "2024-01-29T06:07:24.411Z"
      },
      {
        "duration": 17,
        "start_time": "2024-01-29T06:07:24.422Z"
      },
      {
        "duration": 13,
        "start_time": "2024-01-29T06:07:24.441Z"
      },
      {
        "duration": 17,
        "start_time": "2024-01-29T06:07:24.456Z"
      },
      {
        "duration": 16,
        "start_time": "2024-01-29T06:07:24.475Z"
      },
      {
        "duration": 14,
        "start_time": "2024-01-29T06:07:24.492Z"
      },
      {
        "duration": 7,
        "start_time": "2024-01-29T06:07:24.508Z"
      },
      {
        "duration": 182,
        "start_time": "2024-01-29T06:07:24.519Z"
      },
      {
        "duration": 204,
        "start_time": "2024-01-29T06:07:24.703Z"
      },
      {
        "duration": 7,
        "start_time": "2024-01-29T06:07:24.908Z"
      },
      {
        "duration": 4,
        "start_time": "2024-01-29T06:07:24.916Z"
      },
      {
        "duration": 13,
        "start_time": "2024-01-29T06:07:24.922Z"
      },
      {
        "duration": 232,
        "start_time": "2024-01-29T06:07:24.937Z"
      },
      {
        "duration": 229,
        "start_time": "2024-01-29T06:07:25.170Z"
      },
      {
        "duration": 7,
        "start_time": "2024-01-29T06:07:25.400Z"
      },
      {
        "duration": 351,
        "start_time": "2024-01-29T06:07:25.408Z"
      },
      {
        "duration": 6,
        "start_time": "2024-01-29T06:07:25.761Z"
      },
      {
        "duration": 253,
        "start_time": "2024-01-29T06:07:25.769Z"
      },
      {
        "duration": 9,
        "start_time": "2024-01-29T06:07:26.024Z"
      },
      {
        "duration": 356,
        "start_time": "2024-01-29T06:07:26.035Z"
      },
      {
        "duration": 163,
        "start_time": "2024-01-29T06:07:26.393Z"
      },
      {
        "duration": 5,
        "start_time": "2024-01-29T06:07:26.559Z"
      },
      {
        "duration": 196,
        "start_time": "2024-01-29T06:07:26.566Z"
      },
      {
        "duration": 5,
        "start_time": "2024-01-29T06:07:26.764Z"
      },
      {
        "duration": 216,
        "start_time": "2024-01-29T06:07:26.770Z"
      },
      {
        "duration": 157,
        "start_time": "2024-01-29T06:07:26.989Z"
      },
      {
        "duration": 13,
        "start_time": "2024-01-29T06:07:27.148Z"
      },
      {
        "duration": 26,
        "start_time": "2024-01-29T06:07:27.163Z"
      },
      {
        "duration": 10,
        "start_time": "2024-01-29T06:07:27.191Z"
      },
      {
        "duration": 10,
        "start_time": "2024-01-29T06:07:27.203Z"
      },
      {
        "duration": 50,
        "start_time": "2024-01-29T06:07:27.215Z"
      },
      {
        "duration": 4,
        "start_time": "2024-01-29T06:07:27.266Z"
      },
      {
        "duration": 17,
        "start_time": "2024-01-29T06:07:27.271Z"
      },
      {
        "duration": 3,
        "start_time": "2024-01-29T06:07:55.708Z"
      },
      {
        "duration": 1215,
        "start_time": "2024-01-29T06:08:02.043Z"
      },
      {
        "duration": 76,
        "start_time": "2024-01-29T06:08:03.260Z"
      },
      {
        "duration": 11,
        "start_time": "2024-01-29T06:08:03.342Z"
      },
      {
        "duration": 39,
        "start_time": "2024-01-29T06:08:03.355Z"
      },
      {
        "duration": 25,
        "start_time": "2024-01-29T06:08:03.396Z"
      },
      {
        "duration": 24,
        "start_time": "2024-01-29T06:08:03.423Z"
      },
      {
        "duration": 40,
        "start_time": "2024-01-29T06:08:03.448Z"
      },
      {
        "duration": 22,
        "start_time": "2024-01-29T06:08:03.490Z"
      },
      {
        "duration": 15,
        "start_time": "2024-01-29T06:08:03.516Z"
      },
      {
        "duration": 19,
        "start_time": "2024-01-29T06:08:03.533Z"
      },
      {
        "duration": 20,
        "start_time": "2024-01-29T06:08:03.554Z"
      },
      {
        "duration": 38,
        "start_time": "2024-01-29T06:08:03.575Z"
      },
      {
        "duration": 38,
        "start_time": "2024-01-29T06:08:03.615Z"
      },
      {
        "duration": 20,
        "start_time": "2024-01-29T06:08:03.655Z"
      },
      {
        "duration": 44,
        "start_time": "2024-01-29T06:08:03.677Z"
      },
      {
        "duration": 32,
        "start_time": "2024-01-29T06:08:03.723Z"
      },
      {
        "duration": 19,
        "start_time": "2024-01-29T06:08:03.757Z"
      },
      {
        "duration": 30,
        "start_time": "2024-01-29T06:08:03.778Z"
      },
      {
        "duration": 5,
        "start_time": "2024-01-29T06:08:03.810Z"
      },
      {
        "duration": 40,
        "start_time": "2024-01-29T06:08:03.817Z"
      },
      {
        "duration": 23,
        "start_time": "2024-01-29T06:08:03.859Z"
      },
      {
        "duration": 34,
        "start_time": "2024-01-29T06:08:03.884Z"
      },
      {
        "duration": 32,
        "start_time": "2024-01-29T06:08:03.919Z"
      },
      {
        "duration": 207,
        "start_time": "2024-01-29T06:08:03.953Z"
      },
      {
        "duration": 152,
        "start_time": "2024-01-29T06:08:04.163Z"
      },
      {
        "duration": 7,
        "start_time": "2024-01-29T06:08:04.316Z"
      },
      {
        "duration": 3,
        "start_time": "2024-01-29T06:08:04.326Z"
      },
      {
        "duration": 8,
        "start_time": "2024-01-29T06:08:04.331Z"
      },
      {
        "duration": 336,
        "start_time": "2024-01-29T06:08:04.340Z"
      },
      {
        "duration": 223,
        "start_time": "2024-01-29T06:08:04.677Z"
      },
      {
        "duration": 6,
        "start_time": "2024-01-29T06:08:04.901Z"
      },
      {
        "duration": 320,
        "start_time": "2024-01-29T06:08:04.909Z"
      },
      {
        "duration": 6,
        "start_time": "2024-01-29T06:08:05.230Z"
      },
      {
        "duration": 261,
        "start_time": "2024-01-29T06:08:05.237Z"
      },
      {
        "duration": 7,
        "start_time": "2024-01-29T06:08:05.500Z"
      },
      {
        "duration": 335,
        "start_time": "2024-01-29T06:08:05.508Z"
      },
      {
        "duration": 153,
        "start_time": "2024-01-29T06:08:05.845Z"
      },
      {
        "duration": 5,
        "start_time": "2024-01-29T06:08:06.000Z"
      },
      {
        "duration": 192,
        "start_time": "2024-01-29T06:08:06.007Z"
      },
      {
        "duration": 5,
        "start_time": "2024-01-29T06:08:06.200Z"
      },
      {
        "duration": 239,
        "start_time": "2024-01-29T06:08:06.206Z"
      },
      {
        "duration": 158,
        "start_time": "2024-01-29T06:08:06.447Z"
      },
      {
        "duration": 6,
        "start_time": "2024-01-29T06:08:06.607Z"
      },
      {
        "duration": 98,
        "start_time": "2024-01-29T06:08:06.615Z"
      },
      {
        "duration": 13,
        "start_time": "2024-01-29T06:08:06.714Z"
      },
      {
        "duration": 29,
        "start_time": "2024-01-29T06:08:06.728Z"
      },
      {
        "duration": 33,
        "start_time": "2024-01-29T06:08:06.759Z"
      },
      {
        "duration": 4,
        "start_time": "2024-01-29T06:08:06.794Z"
      },
      {
        "duration": 18,
        "start_time": "2024-01-29T06:08:06.799Z"
      },
      {
        "duration": 114,
        "start_time": "2024-01-30T06:07:13.483Z"
      },
      {
        "duration": 40,
        "start_time": "2024-01-30T06:07:18.377Z"
      },
      {
        "duration": 1263,
        "start_time": "2024-01-30T06:07:32.150Z"
      },
      {
        "duration": 186,
        "start_time": "2024-01-30T06:07:33.415Z"
      },
      {
        "duration": 12,
        "start_time": "2024-01-30T06:07:33.602Z"
      },
      {
        "duration": 11,
        "start_time": "2024-01-30T06:07:33.616Z"
      },
      {
        "duration": 12,
        "start_time": "2024-01-30T06:07:33.629Z"
      },
      {
        "duration": 10,
        "start_time": "2024-01-30T06:07:33.643Z"
      },
      {
        "duration": 7,
        "start_time": "2024-01-30T06:07:33.654Z"
      },
      {
        "duration": 11,
        "start_time": "2024-01-30T06:07:33.663Z"
      },
      {
        "duration": 4,
        "start_time": "2024-01-30T06:07:33.676Z"
      },
      {
        "duration": 4,
        "start_time": "2024-01-30T06:07:33.683Z"
      },
      {
        "duration": 5,
        "start_time": "2024-01-30T06:07:33.688Z"
      },
      {
        "duration": 7,
        "start_time": "2024-01-30T06:07:33.694Z"
      },
      {
        "duration": 6,
        "start_time": "2024-01-30T06:07:33.702Z"
      },
      {
        "duration": 4,
        "start_time": "2024-01-30T06:07:33.710Z"
      },
      {
        "duration": 5,
        "start_time": "2024-01-30T06:07:33.715Z"
      },
      {
        "duration": 39,
        "start_time": "2024-01-30T06:07:33.721Z"
      },
      {
        "duration": 11,
        "start_time": "2024-01-30T06:07:33.762Z"
      },
      {
        "duration": 12,
        "start_time": "2024-01-30T06:07:33.774Z"
      },
      {
        "duration": 10,
        "start_time": "2024-01-30T06:07:33.787Z"
      },
      {
        "duration": 3,
        "start_time": "2024-01-30T06:07:33.798Z"
      },
      {
        "duration": 11,
        "start_time": "2024-01-30T06:07:33.802Z"
      },
      {
        "duration": 10,
        "start_time": "2024-01-30T06:07:33.814Z"
      },
      {
        "duration": 121,
        "start_time": "2024-01-30T06:07:33.825Z"
      },
      {
        "duration": 0,
        "start_time": "2024-01-30T06:07:33.949Z"
      },
      {
        "duration": 0,
        "start_time": "2024-01-30T06:07:33.950Z"
      },
      {
        "duration": 0,
        "start_time": "2024-01-30T06:07:33.951Z"
      },
      {
        "duration": 0,
        "start_time": "2024-01-30T06:07:33.953Z"
      },
      {
        "duration": 0,
        "start_time": "2024-01-30T06:07:33.961Z"
      },
      {
        "duration": 0,
        "start_time": "2024-01-30T06:07:33.962Z"
      },
      {
        "duration": 0,
        "start_time": "2024-01-30T06:07:33.963Z"
      },
      {
        "duration": 0,
        "start_time": "2024-01-30T06:07:33.964Z"
      },
      {
        "duration": 0,
        "start_time": "2024-01-30T06:07:33.965Z"
      },
      {
        "duration": 0,
        "start_time": "2024-01-30T06:07:33.966Z"
      },
      {
        "duration": 0,
        "start_time": "2024-01-30T06:07:33.967Z"
      },
      {
        "duration": 0,
        "start_time": "2024-01-30T06:07:33.968Z"
      },
      {
        "duration": 0,
        "start_time": "2024-01-30T06:07:33.969Z"
      },
      {
        "duration": 0,
        "start_time": "2024-01-30T06:07:33.971Z"
      },
      {
        "duration": 0,
        "start_time": "2024-01-30T06:07:33.972Z"
      },
      {
        "duration": 0,
        "start_time": "2024-01-30T06:07:33.973Z"
      },
      {
        "duration": 0,
        "start_time": "2024-01-30T06:07:33.974Z"
      },
      {
        "duration": 0,
        "start_time": "2024-01-30T06:07:33.975Z"
      },
      {
        "duration": 0,
        "start_time": "2024-01-30T06:07:33.976Z"
      },
      {
        "duration": 0,
        "start_time": "2024-01-30T06:07:33.977Z"
      },
      {
        "duration": 0,
        "start_time": "2024-01-30T06:07:33.978Z"
      },
      {
        "duration": 0,
        "start_time": "2024-01-30T06:07:33.979Z"
      },
      {
        "duration": 0,
        "start_time": "2024-01-30T06:07:33.980Z"
      },
      {
        "duration": 0,
        "start_time": "2024-01-30T06:07:33.981Z"
      },
      {
        "duration": 0,
        "start_time": "2024-01-30T06:07:33.982Z"
      },
      {
        "duration": 0,
        "start_time": "2024-01-30T06:07:33.983Z"
      },
      {
        "duration": 0,
        "start_time": "2024-01-30T06:07:33.984Z"
      },
      {
        "duration": 13,
        "start_time": "2024-01-30T06:09:21.805Z"
      },
      {
        "duration": 409,
        "start_time": "2024-01-30T06:09:34.414Z"
      },
      {
        "duration": 15,
        "start_time": "2024-01-30T06:12:55.206Z"
      },
      {
        "duration": 19,
        "start_time": "2024-01-30T06:13:03.727Z"
      },
      {
        "duration": 13,
        "start_time": "2024-01-30T06:14:49.958Z"
      },
      {
        "duration": 17,
        "start_time": "2024-01-30T06:14:55.072Z"
      },
      {
        "duration": 14,
        "start_time": "2024-01-30T06:17:21.549Z"
      },
      {
        "duration": 16,
        "start_time": "2024-01-30T06:17:33.392Z"
      },
      {
        "duration": 19,
        "start_time": "2024-01-30T06:17:46.337Z"
      },
      {
        "duration": 25,
        "start_time": "2024-01-30T06:18:49.354Z"
      },
      {
        "duration": 16,
        "start_time": "2024-01-30T06:20:06.908Z"
      },
      {
        "duration": 10,
        "start_time": "2024-01-30T06:21:57.501Z"
      },
      {
        "duration": 5,
        "start_time": "2024-01-30T06:22:04.340Z"
      },
      {
        "duration": 5,
        "start_time": "2024-01-30T06:22:13.844Z"
      },
      {
        "duration": 9,
        "start_time": "2024-01-30T06:22:45.357Z"
      },
      {
        "duration": 3,
        "start_time": "2024-01-30T06:22:54.687Z"
      },
      {
        "duration": 18,
        "start_time": "2024-01-30T06:28:29.480Z"
      },
      {
        "duration": 10,
        "start_time": "2024-01-30T06:41:46.371Z"
      },
      {
        "duration": 4,
        "start_time": "2024-01-30T06:42:25.235Z"
      },
      {
        "duration": 4,
        "start_time": "2024-01-30T06:42:45.449Z"
      },
      {
        "duration": 13,
        "start_time": "2024-01-30T06:42:57.682Z"
      },
      {
        "duration": 11,
        "start_time": "2024-01-30T06:43:11.690Z"
      },
      {
        "duration": 11,
        "start_time": "2024-01-30T06:43:34.546Z"
      },
      {
        "duration": 10,
        "start_time": "2024-01-30T06:43:41.610Z"
      },
      {
        "duration": 11,
        "start_time": "2024-01-30T06:45:17.766Z"
      },
      {
        "duration": 11,
        "start_time": "2024-01-30T06:46:31.531Z"
      },
      {
        "duration": 16,
        "start_time": "2024-01-30T06:46:56.844Z"
      },
      {
        "duration": 15,
        "start_time": "2024-01-30T06:47:52.882Z"
      },
      {
        "duration": 4,
        "start_time": "2024-01-30T06:49:12.973Z"
      },
      {
        "duration": 15,
        "start_time": "2024-01-30T06:49:21.507Z"
      },
      {
        "duration": 10,
        "start_time": "2024-01-30T06:52:01.679Z"
      },
      {
        "duration": 11,
        "start_time": "2024-01-30T06:52:22.431Z"
      },
      {
        "duration": 2,
        "start_time": "2024-01-30T06:52:32.375Z"
      },
      {
        "duration": 106,
        "start_time": "2024-01-30T06:52:32.379Z"
      },
      {
        "duration": 7,
        "start_time": "2024-01-30T06:52:32.487Z"
      },
      {
        "duration": 23,
        "start_time": "2024-01-30T06:52:32.496Z"
      },
      {
        "duration": 29,
        "start_time": "2024-01-30T06:52:32.520Z"
      },
      {
        "duration": 16,
        "start_time": "2024-01-30T06:52:32.551Z"
      },
      {
        "duration": 9,
        "start_time": "2024-01-30T06:52:32.569Z"
      },
      {
        "duration": 14,
        "start_time": "2024-01-30T06:52:32.579Z"
      },
      {
        "duration": 7,
        "start_time": "2024-01-30T06:52:32.596Z"
      },
      {
        "duration": 7,
        "start_time": "2024-01-30T06:52:32.604Z"
      },
      {
        "duration": 6,
        "start_time": "2024-01-30T06:52:32.612Z"
      },
      {
        "duration": 5,
        "start_time": "2024-01-30T06:52:32.620Z"
      },
      {
        "duration": 5,
        "start_time": "2024-01-30T06:52:32.658Z"
      },
      {
        "duration": 12,
        "start_time": "2024-01-30T06:52:32.665Z"
      },
      {
        "duration": 11,
        "start_time": "2024-01-30T06:52:32.678Z"
      },
      {
        "duration": 11,
        "start_time": "2024-01-30T06:52:32.691Z"
      },
      {
        "duration": 7,
        "start_time": "2024-01-30T06:52:32.704Z"
      },
      {
        "duration": 14,
        "start_time": "2024-01-30T06:52:32.712Z"
      },
      {
        "duration": 13,
        "start_time": "2024-01-30T06:52:32.728Z"
      },
      {
        "duration": 6,
        "start_time": "2024-01-30T06:52:32.759Z"
      },
      {
        "duration": 13,
        "start_time": "2024-01-30T06:52:32.766Z"
      },
      {
        "duration": 19,
        "start_time": "2024-01-30T06:52:32.780Z"
      },
      {
        "duration": 20,
        "start_time": "2024-01-30T06:52:32.801Z"
      },
      {
        "duration": 13,
        "start_time": "2024-01-30T06:52:32.824Z"
      },
      {
        "duration": 24,
        "start_time": "2024-01-30T06:52:32.838Z"
      },
      {
        "duration": 10,
        "start_time": "2024-01-30T06:52:32.864Z"
      },
      {
        "duration": 196,
        "start_time": "2024-01-30T06:52:32.876Z"
      },
      {
        "duration": 126,
        "start_time": "2024-01-30T06:52:33.074Z"
      },
      {
        "duration": 6,
        "start_time": "2024-01-30T06:52:33.201Z"
      },
      {
        "duration": 14,
        "start_time": "2024-01-30T06:52:33.208Z"
      },
      {
        "duration": 24,
        "start_time": "2024-01-30T06:52:33.224Z"
      },
      {
        "duration": 288,
        "start_time": "2024-01-30T06:52:33.249Z"
      },
      {
        "duration": 200,
        "start_time": "2024-01-30T06:52:33.539Z"
      },
      {
        "duration": 5,
        "start_time": "2024-01-30T06:52:33.740Z"
      },
      {
        "duration": 368,
        "start_time": "2024-01-30T06:52:33.747Z"
      },
      {
        "duration": 5,
        "start_time": "2024-01-30T06:52:34.117Z"
      },
      {
        "duration": 238,
        "start_time": "2024-01-30T06:52:34.123Z"
      },
      {
        "duration": 7,
        "start_time": "2024-01-30T06:52:34.362Z"
      },
      {
        "duration": 317,
        "start_time": "2024-01-30T06:52:34.371Z"
      },
      {
        "duration": 143,
        "start_time": "2024-01-30T06:52:34.689Z"
      },
      {
        "duration": 5,
        "start_time": "2024-01-30T06:52:34.834Z"
      },
      {
        "duration": 169,
        "start_time": "2024-01-30T06:52:34.840Z"
      },
      {
        "duration": 4,
        "start_time": "2024-01-30T06:52:35.011Z"
      },
      {
        "duration": 272,
        "start_time": "2024-01-30T06:52:35.017Z"
      },
      {
        "duration": 149,
        "start_time": "2024-01-30T06:52:35.291Z"
      },
      {
        "duration": 5,
        "start_time": "2024-01-30T06:52:35.442Z"
      },
      {
        "duration": 39,
        "start_time": "2024-01-30T06:52:35.448Z"
      },
      {
        "duration": 11,
        "start_time": "2024-01-30T06:52:35.489Z"
      },
      {
        "duration": 11,
        "start_time": "2024-01-30T06:52:35.501Z"
      },
      {
        "duration": 56,
        "start_time": "2024-01-30T06:52:35.514Z"
      },
      {
        "duration": 4,
        "start_time": "2024-01-30T06:52:35.571Z"
      },
      {
        "duration": 20,
        "start_time": "2024-01-30T06:52:35.577Z"
      },
      {
        "duration": 3,
        "start_time": "2024-01-30T06:52:43.694Z"
      },
      {
        "duration": 73,
        "start_time": "2024-01-30T06:52:43.699Z"
      },
      {
        "duration": 9,
        "start_time": "2024-01-30T06:52:43.773Z"
      },
      {
        "duration": 19,
        "start_time": "2024-01-30T06:52:43.785Z"
      },
      {
        "duration": 13,
        "start_time": "2024-01-30T06:52:43.807Z"
      },
      {
        "duration": 37,
        "start_time": "2024-01-30T06:52:43.822Z"
      },
      {
        "duration": 8,
        "start_time": "2024-01-30T06:52:43.861Z"
      },
      {
        "duration": 11,
        "start_time": "2024-01-30T06:52:43.870Z"
      },
      {
        "duration": 10,
        "start_time": "2024-01-30T06:52:43.884Z"
      },
      {
        "duration": 11,
        "start_time": "2024-01-30T06:52:43.896Z"
      },
      {
        "duration": 7,
        "start_time": "2024-01-30T06:52:43.909Z"
      },
      {
        "duration": 5,
        "start_time": "2024-01-30T06:52:43.917Z"
      },
      {
        "duration": 38,
        "start_time": "2024-01-30T06:52:43.923Z"
      },
      {
        "duration": 27,
        "start_time": "2024-01-30T06:52:43.963Z"
      },
      {
        "duration": 8,
        "start_time": "2024-01-30T06:52:43.993Z"
      },
      {
        "duration": 4,
        "start_time": "2024-01-30T06:52:44.003Z"
      },
      {
        "duration": 19,
        "start_time": "2024-01-30T06:52:44.009Z"
      },
      {
        "duration": 23,
        "start_time": "2024-01-30T06:52:44.029Z"
      },
      {
        "duration": 9,
        "start_time": "2024-01-30T06:52:44.054Z"
      },
      {
        "duration": 14,
        "start_time": "2024-01-30T06:52:44.065Z"
      },
      {
        "duration": 11,
        "start_time": "2024-01-30T06:52:44.081Z"
      },
      {
        "duration": 22,
        "start_time": "2024-01-30T06:52:44.094Z"
      },
      {
        "duration": 6,
        "start_time": "2024-01-30T06:52:44.117Z"
      },
      {
        "duration": 14,
        "start_time": "2024-01-30T06:52:44.127Z"
      },
      {
        "duration": 10,
        "start_time": "2024-01-30T06:52:44.159Z"
      },
      {
        "duration": 21,
        "start_time": "2024-01-30T06:52:44.170Z"
      },
      {
        "duration": 169,
        "start_time": "2024-01-30T06:52:44.193Z"
      },
      {
        "duration": 129,
        "start_time": "2024-01-30T06:52:44.364Z"
      },
      {
        "duration": 7,
        "start_time": "2024-01-30T06:52:44.494Z"
      },
      {
        "duration": 34,
        "start_time": "2024-01-30T06:52:44.503Z"
      },
      {
        "duration": 36,
        "start_time": "2024-01-30T06:52:44.538Z"
      },
      {
        "duration": 273,
        "start_time": "2024-01-30T06:52:44.576Z"
      },
      {
        "duration": 219,
        "start_time": "2024-01-30T06:52:44.851Z"
      },
      {
        "duration": 8,
        "start_time": "2024-01-30T06:52:45.072Z"
      },
      {
        "duration": 314,
        "start_time": "2024-01-30T06:52:45.081Z"
      },
      {
        "duration": 5,
        "start_time": "2024-01-30T06:52:45.397Z"
      },
      {
        "duration": 268,
        "start_time": "2024-01-30T06:52:45.404Z"
      },
      {
        "duration": 8,
        "start_time": "2024-01-30T06:52:45.674Z"
      },
      {
        "duration": 327,
        "start_time": "2024-01-30T06:52:45.683Z"
      },
      {
        "duration": 188,
        "start_time": "2024-01-30T06:52:46.012Z"
      },
      {
        "duration": 5,
        "start_time": "2024-01-30T06:52:46.201Z"
      },
      {
        "duration": 182,
        "start_time": "2024-01-30T06:52:46.208Z"
      },
      {
        "duration": 4,
        "start_time": "2024-01-30T06:52:46.391Z"
      },
      {
        "duration": 403,
        "start_time": "2024-01-30T06:52:46.396Z"
      },
      {
        "duration": 392,
        "start_time": "2024-01-30T06:52:46.800Z"
      },
      {
        "duration": 65,
        "start_time": "2024-01-30T06:52:47.194Z"
      },
      {
        "duration": 44,
        "start_time": "2024-01-30T06:52:47.261Z"
      },
      {
        "duration": 67,
        "start_time": "2024-01-30T06:52:47.307Z"
      },
      {
        "duration": 28,
        "start_time": "2024-01-30T06:52:47.376Z"
      },
      {
        "duration": 96,
        "start_time": "2024-01-30T06:52:47.406Z"
      },
      {
        "duration": 56,
        "start_time": "2024-01-30T06:52:47.504Z"
      },
      {
        "duration": 30,
        "start_time": "2024-01-30T06:52:47.563Z"
      },
      {
        "duration": 4,
        "start_time": "2024-01-30T06:52:57.362Z"
      },
      {
        "duration": 4,
        "start_time": "2024-01-30T06:53:15.670Z"
      },
      {
        "duration": 83,
        "start_time": "2024-01-30T06:53:15.676Z"
      },
      {
        "duration": 12,
        "start_time": "2024-01-30T06:53:15.762Z"
      },
      {
        "duration": 10,
        "start_time": "2024-01-30T06:53:15.776Z"
      },
      {
        "duration": 18,
        "start_time": "2024-01-30T06:53:15.788Z"
      },
      {
        "duration": 25,
        "start_time": "2024-01-30T06:53:15.808Z"
      },
      {
        "duration": 27,
        "start_time": "2024-01-30T06:53:15.835Z"
      },
      {
        "duration": 16,
        "start_time": "2024-01-30T06:53:15.864Z"
      },
      {
        "duration": 4,
        "start_time": "2024-01-30T06:53:15.883Z"
      },
      {
        "duration": 7,
        "start_time": "2024-01-30T06:53:15.888Z"
      },
      {
        "duration": 6,
        "start_time": "2024-01-30T06:53:15.896Z"
      },
      {
        "duration": 8,
        "start_time": "2024-01-30T06:53:15.903Z"
      },
      {
        "duration": 48,
        "start_time": "2024-01-30T06:53:15.912Z"
      },
      {
        "duration": 10,
        "start_time": "2024-01-30T06:53:15.962Z"
      },
      {
        "duration": 16,
        "start_time": "2024-01-30T06:53:15.974Z"
      },
      {
        "duration": 13,
        "start_time": "2024-01-30T06:53:15.992Z"
      },
      {
        "duration": 13,
        "start_time": "2024-01-30T06:53:16.007Z"
      },
      {
        "duration": 18,
        "start_time": "2024-01-30T06:53:16.022Z"
      },
      {
        "duration": 18,
        "start_time": "2024-01-30T06:53:16.041Z"
      },
      {
        "duration": 5,
        "start_time": "2024-01-30T06:53:16.062Z"
      },
      {
        "duration": 10,
        "start_time": "2024-01-30T06:53:16.069Z"
      },
      {
        "duration": 6,
        "start_time": "2024-01-30T06:53:16.081Z"
      },
      {
        "duration": 14,
        "start_time": "2024-01-30T06:53:16.088Z"
      },
      {
        "duration": 55,
        "start_time": "2024-01-30T06:53:16.105Z"
      },
      {
        "duration": 4,
        "start_time": "2024-01-30T06:53:16.161Z"
      },
      {
        "duration": 21,
        "start_time": "2024-01-30T06:53:16.166Z"
      },
      {
        "duration": 13,
        "start_time": "2024-01-30T06:53:16.189Z"
      },
      {
        "duration": 9,
        "start_time": "2024-01-30T06:53:16.204Z"
      },
      {
        "duration": 214,
        "start_time": "2024-01-30T06:53:16.214Z"
      },
      {
        "duration": 129,
        "start_time": "2024-01-30T06:53:16.430Z"
      },
      {
        "duration": 8,
        "start_time": "2024-01-30T06:53:16.561Z"
      },
      {
        "duration": 15,
        "start_time": "2024-01-30T06:53:16.571Z"
      },
      {
        "duration": 11,
        "start_time": "2024-01-30T06:53:16.588Z"
      },
      {
        "duration": 220,
        "start_time": "2024-01-30T06:53:16.600Z"
      },
      {
        "duration": 228,
        "start_time": "2024-01-30T06:53:16.822Z"
      },
      {
        "duration": 15,
        "start_time": "2024-01-30T06:53:17.051Z"
      },
      {
        "duration": 432,
        "start_time": "2024-01-30T06:53:17.072Z"
      },
      {
        "duration": 5,
        "start_time": "2024-01-30T06:53:17.506Z"
      },
      {
        "duration": 283,
        "start_time": "2024-01-30T06:53:17.513Z"
      },
      {
        "duration": 7,
        "start_time": "2024-01-30T06:53:17.798Z"
      },
      {
        "duration": 470,
        "start_time": "2024-01-30T06:53:17.807Z"
      },
      {
        "duration": 326,
        "start_time": "2024-01-30T06:53:18.279Z"
      },
      {
        "duration": 7,
        "start_time": "2024-01-30T06:53:18.658Z"
      },
      {
        "duration": 338,
        "start_time": "2024-01-30T06:53:18.667Z"
      },
      {
        "duration": 59,
        "start_time": "2024-01-30T06:53:19.006Z"
      },
      {
        "duration": 433,
        "start_time": "2024-01-30T06:53:19.068Z"
      },
      {
        "duration": 69,
        "start_time": "2024-01-30T06:53:19.502Z"
      },
      {
        "duration": 8,
        "start_time": "2024-01-30T06:53:19.573Z"
      },
      {
        "duration": 97,
        "start_time": "2024-01-30T06:53:19.583Z"
      },
      {
        "duration": 15,
        "start_time": "2024-01-30T06:53:19.682Z"
      },
      {
        "duration": 67,
        "start_time": "2024-01-30T06:53:19.700Z"
      },
      {
        "duration": 30,
        "start_time": "2024-01-30T06:53:19.769Z"
      },
      {
        "duration": 4,
        "start_time": "2024-01-30T06:53:19.801Z"
      },
      {
        "duration": 25,
        "start_time": "2024-01-30T06:53:19.859Z"
      },
      {
        "duration": 5,
        "start_time": "2024-01-30T06:53:43.072Z"
      },
      {
        "duration": 12,
        "start_time": "2024-01-30T06:53:50.784Z"
      },
      {
        "duration": 5,
        "start_time": "2024-01-30T06:54:19.563Z"
      },
      {
        "duration": 13,
        "start_time": "2024-01-30T06:54:26.593Z"
      },
      {
        "duration": 5,
        "start_time": "2024-01-30T06:54:42.912Z"
      },
      {
        "duration": 18,
        "start_time": "2024-01-30T06:56:05.738Z"
      },
      {
        "duration": 1183,
        "start_time": "2024-01-30T06:56:21.047Z"
      },
      {
        "duration": 72,
        "start_time": "2024-01-30T06:56:22.232Z"
      },
      {
        "duration": 12,
        "start_time": "2024-01-30T06:56:22.305Z"
      },
      {
        "duration": 11,
        "start_time": "2024-01-30T06:56:22.319Z"
      },
      {
        "duration": 36,
        "start_time": "2024-01-30T06:56:22.331Z"
      },
      {
        "duration": 15,
        "start_time": "2024-01-30T06:56:22.368Z"
      },
      {
        "duration": 11,
        "start_time": "2024-01-30T06:56:22.385Z"
      },
      {
        "duration": 17,
        "start_time": "2024-01-30T06:56:22.397Z"
      },
      {
        "duration": 14,
        "start_time": "2024-01-30T06:56:22.415Z"
      },
      {
        "duration": 19,
        "start_time": "2024-01-30T06:56:22.431Z"
      },
      {
        "duration": 15,
        "start_time": "2024-01-30T06:56:22.451Z"
      },
      {
        "duration": 5,
        "start_time": "2024-01-30T06:56:22.468Z"
      },
      {
        "duration": 11,
        "start_time": "2024-01-30T06:56:22.475Z"
      },
      {
        "duration": 11,
        "start_time": "2024-01-30T06:56:22.487Z"
      },
      {
        "duration": 7,
        "start_time": "2024-01-30T06:56:22.500Z"
      },
      {
        "duration": 9,
        "start_time": "2024-01-30T06:56:22.508Z"
      },
      {
        "duration": 9,
        "start_time": "2024-01-30T06:56:22.518Z"
      },
      {
        "duration": 40,
        "start_time": "2024-01-30T06:56:22.528Z"
      },
      {
        "duration": 4,
        "start_time": "2024-01-30T06:56:22.570Z"
      },
      {
        "duration": 9,
        "start_time": "2024-01-30T06:56:22.575Z"
      },
      {
        "duration": 4,
        "start_time": "2024-01-30T06:56:22.586Z"
      },
      {
        "duration": 12,
        "start_time": "2024-01-30T06:56:22.591Z"
      },
      {
        "duration": 10,
        "start_time": "2024-01-30T06:56:22.605Z"
      },
      {
        "duration": 43,
        "start_time": "2024-01-30T06:56:22.616Z"
      },
      {
        "duration": 13,
        "start_time": "2024-01-30T06:56:22.660Z"
      },
      {
        "duration": 4,
        "start_time": "2024-01-30T06:56:22.674Z"
      },
      {
        "duration": 14,
        "start_time": "2024-01-30T06:56:22.679Z"
      },
      {
        "duration": 12,
        "start_time": "2024-01-30T06:56:22.696Z"
      },
      {
        "duration": 17,
        "start_time": "2024-01-30T06:56:22.710Z"
      },
      {
        "duration": 181,
        "start_time": "2024-01-30T06:56:22.729Z"
      },
      {
        "duration": 120,
        "start_time": "2024-01-30T06:56:22.912Z"
      },
      {
        "duration": 7,
        "start_time": "2024-01-30T06:56:23.034Z"
      },
      {
        "duration": 17,
        "start_time": "2024-01-30T06:56:23.043Z"
      },
      {
        "duration": 12,
        "start_time": "2024-01-30T06:56:23.063Z"
      },
      {
        "duration": 320,
        "start_time": "2024-01-30T06:56:23.077Z"
      },
      {
        "duration": 232,
        "start_time": "2024-01-30T06:56:23.398Z"
      },
      {
        "duration": 7,
        "start_time": "2024-01-30T06:56:23.632Z"
      },
      {
        "duration": 369,
        "start_time": "2024-01-30T06:56:23.641Z"
      },
      {
        "duration": 7,
        "start_time": "2024-01-30T06:56:24.012Z"
      },
      {
        "duration": 225,
        "start_time": "2024-01-30T06:56:24.021Z"
      },
      {
        "duration": 15,
        "start_time": "2024-01-30T06:56:24.248Z"
      },
      {
        "duration": 321,
        "start_time": "2024-01-30T06:56:24.265Z"
      },
      {
        "duration": 153,
        "start_time": "2024-01-30T06:56:24.588Z"
      },
      {
        "duration": 16,
        "start_time": "2024-01-30T06:56:24.743Z"
      },
      {
        "duration": 170,
        "start_time": "2024-01-30T06:56:24.761Z"
      },
      {
        "duration": 4,
        "start_time": "2024-01-30T06:56:24.933Z"
      },
      {
        "duration": 221,
        "start_time": "2024-01-30T06:56:24.939Z"
      },
      {
        "duration": 12,
        "start_time": "2024-01-30T06:56:25.162Z"
      },
      {
        "duration": 16,
        "start_time": "2024-01-30T06:56:25.175Z"
      },
      {
        "duration": 30,
        "start_time": "2024-01-30T06:56:25.192Z"
      },
      {
        "duration": 10,
        "start_time": "2024-01-30T06:56:25.223Z"
      },
      {
        "duration": 26,
        "start_time": "2024-01-30T06:56:25.235Z"
      },
      {
        "duration": 29,
        "start_time": "2024-01-30T06:56:25.263Z"
      },
      {
        "duration": 4,
        "start_time": "2024-01-30T06:56:25.293Z"
      },
      {
        "duration": 115,
        "start_time": "2024-01-30T06:56:25.298Z"
      },
      {
        "duration": 1215,
        "start_time": "2024-02-01T06:41:30.299Z"
      },
      {
        "duration": 187,
        "start_time": "2024-02-01T06:41:31.515Z"
      },
      {
        "duration": 12,
        "start_time": "2024-02-01T06:41:31.703Z"
      },
      {
        "duration": 80,
        "start_time": "2024-02-01T06:41:31.717Z"
      },
      {
        "duration": 31,
        "start_time": "2024-02-01T06:41:31.799Z"
      },
      {
        "duration": 32,
        "start_time": "2024-02-01T06:41:31.832Z"
      },
      {
        "duration": 19,
        "start_time": "2024-02-01T06:41:31.866Z"
      },
      {
        "duration": 46,
        "start_time": "2024-02-01T06:41:31.886Z"
      },
      {
        "duration": 25,
        "start_time": "2024-02-01T06:41:31.933Z"
      },
      {
        "duration": 25,
        "start_time": "2024-02-01T06:41:31.961Z"
      },
      {
        "duration": 32,
        "start_time": "2024-02-01T06:41:31.987Z"
      },
      {
        "duration": 16,
        "start_time": "2024-02-01T06:41:32.020Z"
      },
      {
        "duration": 42,
        "start_time": "2024-02-01T06:41:32.037Z"
      },
      {
        "duration": 27,
        "start_time": "2024-02-01T06:41:32.080Z"
      },
      {
        "duration": 38,
        "start_time": "2024-02-01T06:41:32.109Z"
      },
      {
        "duration": 55,
        "start_time": "2024-02-01T06:41:32.148Z"
      },
      {
        "duration": 51,
        "start_time": "2024-02-01T06:41:32.204Z"
      },
      {
        "duration": 59,
        "start_time": "2024-02-01T06:41:32.257Z"
      },
      {
        "duration": 6,
        "start_time": "2024-02-01T06:41:32.318Z"
      },
      {
        "duration": 17,
        "start_time": "2024-02-01T06:41:32.325Z"
      },
      {
        "duration": 20,
        "start_time": "2024-02-01T06:41:32.344Z"
      },
      {
        "duration": 10,
        "start_time": "2024-02-01T06:41:32.365Z"
      },
      {
        "duration": 21,
        "start_time": "2024-02-01T06:41:32.377Z"
      },
      {
        "duration": 15,
        "start_time": "2024-02-01T06:41:32.400Z"
      },
      {
        "duration": 25,
        "start_time": "2024-02-01T06:41:32.416Z"
      },
      {
        "duration": 36,
        "start_time": "2024-02-01T06:41:32.442Z"
      },
      {
        "duration": 29,
        "start_time": "2024-02-01T06:41:32.479Z"
      },
      {
        "duration": 26,
        "start_time": "2024-02-01T06:41:32.511Z"
      },
      {
        "duration": 34,
        "start_time": "2024-02-01T06:41:32.538Z"
      },
      {
        "duration": 166,
        "start_time": "2024-02-01T06:41:32.573Z"
      },
      {
        "duration": 120,
        "start_time": "2024-02-01T06:41:32.741Z"
      },
      {
        "duration": 7,
        "start_time": "2024-02-01T06:41:32.862Z"
      },
      {
        "duration": 54,
        "start_time": "2024-02-01T06:41:32.870Z"
      },
      {
        "duration": 14,
        "start_time": "2024-02-01T06:41:32.925Z"
      },
      {
        "duration": 283,
        "start_time": "2024-02-01T06:41:32.940Z"
      },
      {
        "duration": 195,
        "start_time": "2024-02-01T06:41:33.224Z"
      },
      {
        "duration": 5,
        "start_time": "2024-02-01T06:41:33.420Z"
      },
      {
        "duration": 370,
        "start_time": "2024-02-01T06:41:33.426Z"
      },
      {
        "duration": 6,
        "start_time": "2024-02-01T06:41:33.797Z"
      },
      {
        "duration": 218,
        "start_time": "2024-02-01T06:41:33.804Z"
      },
      {
        "duration": 7,
        "start_time": "2024-02-01T06:41:34.023Z"
      },
      {
        "duration": 334,
        "start_time": "2024-02-01T06:41:34.031Z"
      },
      {
        "duration": 141,
        "start_time": "2024-02-01T06:41:34.366Z"
      },
      {
        "duration": 5,
        "start_time": "2024-02-01T06:41:34.509Z"
      },
      {
        "duration": 167,
        "start_time": "2024-02-01T06:41:34.515Z"
      },
      {
        "duration": 4,
        "start_time": "2024-02-01T06:41:34.683Z"
      },
      {
        "duration": 188,
        "start_time": "2024-02-01T06:41:34.688Z"
      },
      {
        "duration": 138,
        "start_time": "2024-02-01T06:41:34.878Z"
      },
      {
        "duration": 6,
        "start_time": "2024-02-01T06:41:35.018Z"
      },
      {
        "duration": 35,
        "start_time": "2024-02-01T06:41:35.026Z"
      },
      {
        "duration": 13,
        "start_time": "2024-02-01T06:41:35.063Z"
      },
      {
        "duration": 43,
        "start_time": "2024-02-01T06:41:35.078Z"
      },
      {
        "duration": 28,
        "start_time": "2024-02-01T06:41:35.123Z"
      },
      {
        "duration": 4,
        "start_time": "2024-02-01T06:41:35.152Z"
      },
      {
        "duration": 24,
        "start_time": "2024-02-01T06:41:35.158Z"
      },
      {
        "duration": 8,
        "start_time": "2024-02-01T06:44:15.551Z"
      },
      {
        "duration": 2,
        "start_time": "2024-02-01T06:44:16.784Z"
      },
      {
        "duration": 4,
        "start_time": "2024-02-01T06:44:17.256Z"
      },
      {
        "duration": 4,
        "start_time": "2024-02-01T06:44:26.904Z"
      },
      {
        "duration": 9,
        "start_time": "2024-02-01T06:44:42.141Z"
      },
      {
        "duration": 2,
        "start_time": "2024-02-01T06:44:42.744Z"
      },
      {
        "duration": 3,
        "start_time": "2024-02-01T06:44:43.208Z"
      },
      {
        "duration": 995,
        "start_time": "2024-02-01T06:44:51.210Z"
      },
      {
        "duration": 73,
        "start_time": "2024-02-01T06:44:52.207Z"
      },
      {
        "duration": 16,
        "start_time": "2024-02-01T06:44:52.282Z"
      },
      {
        "duration": 16,
        "start_time": "2024-02-01T06:44:52.301Z"
      },
      {
        "duration": 20,
        "start_time": "2024-02-01T06:44:52.318Z"
      },
      {
        "duration": 57,
        "start_time": "2024-02-01T06:44:52.340Z"
      },
      {
        "duration": 20,
        "start_time": "2024-02-01T06:44:52.399Z"
      },
      {
        "duration": 15,
        "start_time": "2024-02-01T06:44:52.420Z"
      },
      {
        "duration": 12,
        "start_time": "2024-02-01T06:44:52.437Z"
      },
      {
        "duration": 20,
        "start_time": "2024-02-01T06:44:52.451Z"
      },
      {
        "duration": 25,
        "start_time": "2024-02-01T06:44:52.473Z"
      },
      {
        "duration": 10,
        "start_time": "2024-02-01T06:44:52.499Z"
      },
      {
        "duration": 23,
        "start_time": "2024-02-01T06:44:52.511Z"
      },
      {
        "duration": 22,
        "start_time": "2024-02-01T06:44:52.536Z"
      },
      {
        "duration": 16,
        "start_time": "2024-02-01T06:44:52.559Z"
      },
      {
        "duration": 11,
        "start_time": "2024-02-01T06:44:52.577Z"
      },
      {
        "duration": 15,
        "start_time": "2024-02-01T06:44:52.589Z"
      },
      {
        "duration": 24,
        "start_time": "2024-02-01T06:44:52.605Z"
      },
      {
        "duration": 3,
        "start_time": "2024-02-01T06:44:52.631Z"
      },
      {
        "duration": 17,
        "start_time": "2024-02-01T06:44:52.635Z"
      },
      {
        "duration": 39,
        "start_time": "2024-02-01T06:44:52.653Z"
      },
      {
        "duration": 14,
        "start_time": "2024-02-01T06:44:52.693Z"
      },
      {
        "duration": 9,
        "start_time": "2024-02-01T06:44:52.709Z"
      },
      {
        "duration": 24,
        "start_time": "2024-02-01T06:44:52.719Z"
      },
      {
        "duration": 16,
        "start_time": "2024-02-01T06:44:52.745Z"
      },
      {
        "duration": 7,
        "start_time": "2024-02-01T06:44:52.763Z"
      },
      {
        "duration": 19,
        "start_time": "2024-02-01T06:44:52.772Z"
      },
      {
        "duration": 8,
        "start_time": "2024-02-01T06:44:52.794Z"
      },
      {
        "duration": 5,
        "start_time": "2024-02-01T06:44:52.803Z"
      },
      {
        "duration": 156,
        "start_time": "2024-02-01T06:44:52.809Z"
      },
      {
        "duration": 114,
        "start_time": "2024-02-01T06:44:52.966Z"
      },
      {
        "duration": 6,
        "start_time": "2024-02-01T06:44:53.083Z"
      },
      {
        "duration": 13,
        "start_time": "2024-02-01T06:44:53.091Z"
      },
      {
        "duration": 23,
        "start_time": "2024-02-01T06:44:53.105Z"
      },
      {
        "duration": 270,
        "start_time": "2024-02-01T06:44:53.130Z"
      },
      {
        "duration": 210,
        "start_time": "2024-02-01T06:44:53.401Z"
      },
      {
        "duration": 5,
        "start_time": "2024-02-01T06:44:53.613Z"
      },
      {
        "duration": 282,
        "start_time": "2024-02-01T06:44:53.619Z"
      },
      {
        "duration": 5,
        "start_time": "2024-02-01T06:44:53.903Z"
      },
      {
        "duration": 185,
        "start_time": "2024-02-01T06:44:53.909Z"
      },
      {
        "duration": 7,
        "start_time": "2024-02-01T06:44:54.095Z"
      },
      {
        "duration": 345,
        "start_time": "2024-02-01T06:44:54.103Z"
      },
      {
        "duration": 128,
        "start_time": "2024-02-01T06:44:54.452Z"
      },
      {
        "duration": 4,
        "start_time": "2024-02-01T06:44:54.582Z"
      },
      {
        "duration": 146,
        "start_time": "2024-02-01T06:44:54.588Z"
      },
      {
        "duration": 4,
        "start_time": "2024-02-01T06:44:54.735Z"
      },
      {
        "duration": 198,
        "start_time": "2024-02-01T06:44:54.741Z"
      },
      {
        "duration": 161,
        "start_time": "2024-02-01T06:44:54.940Z"
      },
      {
        "duration": 5,
        "start_time": "2024-02-01T06:44:55.103Z"
      },
      {
        "duration": 43,
        "start_time": "2024-02-01T06:44:55.110Z"
      },
      {
        "duration": 13,
        "start_time": "2024-02-01T06:44:55.155Z"
      },
      {
        "duration": 13,
        "start_time": "2024-02-01T06:44:55.169Z"
      },
      {
        "duration": 28,
        "start_time": "2024-02-01T06:44:55.184Z"
      },
      {
        "duration": 3,
        "start_time": "2024-02-01T06:44:55.214Z"
      },
      {
        "duration": 36,
        "start_time": "2024-02-01T06:44:55.219Z"
      },
      {
        "duration": 11,
        "start_time": "2024-02-01T07:09:02.836Z"
      },
      {
        "duration": 11,
        "start_time": "2024-02-01T07:09:36.347Z"
      },
      {
        "duration": 3,
        "start_time": "2024-02-01T07:09:38.858Z"
      },
      {
        "duration": 80,
        "start_time": "2024-02-01T07:09:38.862Z"
      },
      {
        "duration": 7,
        "start_time": "2024-02-01T07:09:38.943Z"
      },
      {
        "duration": 29,
        "start_time": "2024-02-01T07:09:38.951Z"
      },
      {
        "duration": 42,
        "start_time": "2024-02-01T07:09:38.982Z"
      },
      {
        "duration": 31,
        "start_time": "2024-02-01T07:09:39.025Z"
      },
      {
        "duration": 31,
        "start_time": "2024-02-01T07:09:39.058Z"
      },
      {
        "duration": 36,
        "start_time": "2024-02-01T07:09:39.091Z"
      },
      {
        "duration": 56,
        "start_time": "2024-02-01T07:09:39.129Z"
      },
      {
        "duration": 16,
        "start_time": "2024-02-01T07:09:39.186Z"
      },
      {
        "duration": 22,
        "start_time": "2024-02-01T07:09:39.205Z"
      },
      {
        "duration": 21,
        "start_time": "2024-02-01T07:09:39.229Z"
      },
      {
        "duration": 15,
        "start_time": "2024-02-01T07:09:39.252Z"
      },
      {
        "duration": 21,
        "start_time": "2024-02-01T07:09:39.268Z"
      },
      {
        "duration": 18,
        "start_time": "2024-02-01T07:09:39.290Z"
      },
      {
        "duration": 29,
        "start_time": "2024-02-01T07:09:39.310Z"
      },
      {
        "duration": 11,
        "start_time": "2024-02-01T07:09:39.341Z"
      },
      {
        "duration": 20,
        "start_time": "2024-02-01T07:09:39.353Z"
      },
      {
        "duration": 13,
        "start_time": "2024-02-01T07:09:39.375Z"
      },
      {
        "duration": 19,
        "start_time": "2024-02-01T07:09:39.389Z"
      },
      {
        "duration": 31,
        "start_time": "2024-02-01T07:09:39.410Z"
      },
      {
        "duration": 18,
        "start_time": "2024-02-01T07:09:39.442Z"
      },
      {
        "duration": 20,
        "start_time": "2024-02-01T07:09:39.462Z"
      },
      {
        "duration": 16,
        "start_time": "2024-02-01T07:09:39.483Z"
      },
      {
        "duration": 16,
        "start_time": "2024-02-01T07:09:39.501Z"
      },
      {
        "duration": 30,
        "start_time": "2024-02-01T07:09:39.519Z"
      },
      {
        "duration": 66,
        "start_time": "2024-02-01T07:09:39.551Z"
      },
      {
        "duration": 21,
        "start_time": "2024-02-01T07:09:39.618Z"
      },
      {
        "duration": 18,
        "start_time": "2024-02-01T07:09:39.642Z"
      },
      {
        "duration": 10,
        "start_time": "2024-02-01T07:09:39.661Z"
      },
      {
        "duration": 151,
        "start_time": "2024-02-01T07:09:39.672Z"
      },
      {
        "duration": 168,
        "start_time": "2024-02-01T07:09:39.824Z"
      },
      {
        "duration": 5,
        "start_time": "2024-02-01T07:09:39.994Z"
      },
      {
        "duration": 13,
        "start_time": "2024-02-01T07:09:40.000Z"
      },
      {
        "duration": 23,
        "start_time": "2024-02-01T07:09:40.015Z"
      },
      {
        "duration": 195,
        "start_time": "2024-02-01T07:09:40.039Z"
      },
      {
        "duration": 216,
        "start_time": "2024-02-01T07:09:40.236Z"
      },
      {
        "duration": 6,
        "start_time": "2024-02-01T07:09:40.453Z"
      },
      {
        "duration": 280,
        "start_time": "2024-02-01T07:09:40.460Z"
      },
      {
        "duration": 5,
        "start_time": "2024-02-01T07:09:40.752Z"
      },
      {
        "duration": 202,
        "start_time": "2024-02-01T07:09:40.759Z"
      },
      {
        "duration": 8,
        "start_time": "2024-02-01T07:09:40.963Z"
      },
      {
        "duration": 480,
        "start_time": "2024-02-01T07:09:40.972Z"
      },
      {
        "duration": 237,
        "start_time": "2024-02-01T07:09:41.454Z"
      },
      {
        "duration": 5,
        "start_time": "2024-02-01T07:09:41.692Z"
      },
      {
        "duration": 230,
        "start_time": "2024-02-01T07:09:41.751Z"
      },
      {
        "duration": 4,
        "start_time": "2024-02-01T07:09:41.983Z"
      },
      {
        "duration": 390,
        "start_time": "2024-02-01T07:09:41.988Z"
      },
      {
        "duration": 187,
        "start_time": "2024-02-01T07:09:42.379Z"
      },
      {
        "duration": 6,
        "start_time": "2024-02-01T07:09:42.567Z"
      },
      {
        "duration": 29,
        "start_time": "2024-02-01T07:09:42.574Z"
      },
      {
        "duration": 10,
        "start_time": "2024-02-01T07:09:42.605Z"
      },
      {
        "duration": 14,
        "start_time": "2024-02-01T07:09:42.616Z"
      },
      {
        "duration": 39,
        "start_time": "2024-02-01T07:09:42.631Z"
      },
      {
        "duration": 4,
        "start_time": "2024-02-01T07:09:42.671Z"
      },
      {
        "duration": 13,
        "start_time": "2024-02-01T07:09:42.676Z"
      },
      {
        "duration": 10,
        "start_time": "2024-02-01T07:10:12.717Z"
      },
      {
        "duration": 3,
        "start_time": "2024-02-01T07:10:44.415Z"
      },
      {
        "duration": 74,
        "start_time": "2024-02-01T07:10:44.422Z"
      },
      {
        "duration": 7,
        "start_time": "2024-02-01T07:10:44.498Z"
      },
      {
        "duration": 13,
        "start_time": "2024-02-01T07:10:44.506Z"
      },
      {
        "duration": 11,
        "start_time": "2024-02-01T07:10:44.520Z"
      },
      {
        "duration": 15,
        "start_time": "2024-02-01T07:10:44.533Z"
      },
      {
        "duration": 10,
        "start_time": "2024-02-01T07:10:44.550Z"
      },
      {
        "duration": 11,
        "start_time": "2024-02-01T07:10:44.562Z"
      },
      {
        "duration": 7,
        "start_time": "2024-02-01T07:10:44.575Z"
      },
      {
        "duration": 10,
        "start_time": "2024-02-01T07:10:44.583Z"
      },
      {
        "duration": 4,
        "start_time": "2024-02-01T07:10:44.595Z"
      },
      {
        "duration": 3,
        "start_time": "2024-02-01T07:10:44.600Z"
      },
      {
        "duration": 9,
        "start_time": "2024-02-01T07:10:44.605Z"
      },
      {
        "duration": 15,
        "start_time": "2024-02-01T07:10:44.615Z"
      },
      {
        "duration": 8,
        "start_time": "2024-02-01T07:10:44.631Z"
      },
      {
        "duration": 13,
        "start_time": "2024-02-01T07:10:44.651Z"
      },
      {
        "duration": 8,
        "start_time": "2024-02-01T07:10:44.666Z"
      },
      {
        "duration": 24,
        "start_time": "2024-02-01T07:10:44.675Z"
      },
      {
        "duration": 3,
        "start_time": "2024-02-01T07:10:44.701Z"
      },
      {
        "duration": 9,
        "start_time": "2024-02-01T07:10:44.705Z"
      },
      {
        "duration": 17,
        "start_time": "2024-02-01T07:10:44.715Z"
      },
      {
        "duration": 11,
        "start_time": "2024-02-01T07:10:44.734Z"
      },
      {
        "duration": 6,
        "start_time": "2024-02-01T07:10:44.746Z"
      },
      {
        "duration": 19,
        "start_time": "2024-02-01T07:10:44.754Z"
      },
      {
        "duration": 12,
        "start_time": "2024-02-01T07:10:44.775Z"
      },
      {
        "duration": 14,
        "start_time": "2024-02-01T07:10:44.788Z"
      },
      {
        "duration": 8,
        "start_time": "2024-02-01T07:10:44.804Z"
      },
      {
        "duration": 15,
        "start_time": "2024-02-01T07:10:44.813Z"
      },
      {
        "duration": 22,
        "start_time": "2024-02-01T07:10:44.851Z"
      },
      {
        "duration": 22,
        "start_time": "2024-02-01T07:10:44.875Z"
      },
      {
        "duration": 161,
        "start_time": "2024-02-01T07:10:44.899Z"
      },
      {
        "duration": 117,
        "start_time": "2024-02-01T07:10:45.062Z"
      },
      {
        "duration": 6,
        "start_time": "2024-02-01T07:10:45.181Z"
      },
      {
        "duration": 13,
        "start_time": "2024-02-01T07:10:45.188Z"
      },
      {
        "duration": 21,
        "start_time": "2024-02-01T07:10:45.202Z"
      },
      {
        "duration": 200,
        "start_time": "2024-02-01T07:10:45.224Z"
      },
      {
        "duration": 193,
        "start_time": "2024-02-01T07:10:45.425Z"
      },
      {
        "duration": 6,
        "start_time": "2024-02-01T07:10:45.619Z"
      },
      {
        "duration": 336,
        "start_time": "2024-02-01T07:10:45.626Z"
      },
      {
        "duration": 7,
        "start_time": "2024-02-01T07:10:45.964Z"
      },
      {
        "duration": 303,
        "start_time": "2024-02-01T07:10:45.973Z"
      },
      {
        "duration": 7,
        "start_time": "2024-02-01T07:10:46.277Z"
      },
      {
        "duration": 302,
        "start_time": "2024-02-01T07:10:46.286Z"
      },
      {
        "duration": 135,
        "start_time": "2024-02-01T07:10:46.590Z"
      },
      {
        "duration": 5,
        "start_time": "2024-02-01T07:10:46.726Z"
      },
      {
        "duration": 227,
        "start_time": "2024-02-01T07:10:46.732Z"
      },
      {
        "duration": 4,
        "start_time": "2024-02-01T07:10:46.960Z"
      },
      {
        "duration": 402,
        "start_time": "2024-02-01T07:10:46.966Z"
      },
      {
        "duration": 316,
        "start_time": "2024-02-01T07:10:47.369Z"
      },
      {
        "duration": 5,
        "start_time": "2024-02-01T07:10:47.687Z"
      },
      {
        "duration": 79,
        "start_time": "2024-02-01T07:10:47.693Z"
      },
      {
        "duration": 26,
        "start_time": "2024-02-01T07:10:47.773Z"
      },
      {
        "duration": 55,
        "start_time": "2024-02-01T07:10:47.800Z"
      },
      {
        "duration": 52,
        "start_time": "2024-02-01T07:10:47.857Z"
      },
      {
        "duration": 44,
        "start_time": "2024-02-01T07:10:47.910Z"
      },
      {
        "duration": 26,
        "start_time": "2024-02-01T07:10:47.956Z"
      },
      {
        "duration": 3,
        "start_time": "2024-02-01T07:11:20.031Z"
      },
      {
        "duration": 138,
        "start_time": "2024-02-01T07:11:20.035Z"
      },
      {
        "duration": 7,
        "start_time": "2024-02-01T07:11:20.175Z"
      },
      {
        "duration": 22,
        "start_time": "2024-02-01T07:11:20.183Z"
      },
      {
        "duration": 22,
        "start_time": "2024-02-01T07:11:20.207Z"
      },
      {
        "duration": 26,
        "start_time": "2024-02-01T07:11:20.230Z"
      },
      {
        "duration": 27,
        "start_time": "2024-02-01T07:11:20.257Z"
      },
      {
        "duration": 18,
        "start_time": "2024-02-01T07:11:20.285Z"
      },
      {
        "duration": 15,
        "start_time": "2024-02-01T07:11:20.304Z"
      },
      {
        "duration": 24,
        "start_time": "2024-02-01T07:11:20.321Z"
      },
      {
        "duration": 26,
        "start_time": "2024-02-01T07:11:20.347Z"
      },
      {
        "duration": 35,
        "start_time": "2024-02-01T07:11:20.375Z"
      },
      {
        "duration": 49,
        "start_time": "2024-02-01T07:11:20.412Z"
      },
      {
        "duration": 29,
        "start_time": "2024-02-01T07:11:20.463Z"
      },
      {
        "duration": 13,
        "start_time": "2024-02-01T07:11:20.493Z"
      },
      {
        "duration": 17,
        "start_time": "2024-02-01T07:11:20.508Z"
      },
      {
        "duration": 6,
        "start_time": "2024-02-01T07:11:20.527Z"
      },
      {
        "duration": 13,
        "start_time": "2024-02-01T07:11:20.534Z"
      },
      {
        "duration": 3,
        "start_time": "2024-02-01T07:11:20.549Z"
      },
      {
        "duration": 9,
        "start_time": "2024-02-01T07:11:20.553Z"
      },
      {
        "duration": 16,
        "start_time": "2024-02-01T07:11:20.563Z"
      },
      {
        "duration": 10,
        "start_time": "2024-02-01T07:11:20.580Z"
      },
      {
        "duration": 4,
        "start_time": "2024-02-01T07:11:20.592Z"
      },
      {
        "duration": 35,
        "start_time": "2024-02-01T07:11:20.598Z"
      },
      {
        "duration": 15,
        "start_time": "2024-02-01T07:11:20.636Z"
      },
      {
        "duration": 16,
        "start_time": "2024-02-01T07:11:20.653Z"
      },
      {
        "duration": 7,
        "start_time": "2024-02-01T07:11:20.671Z"
      },
      {
        "duration": 36,
        "start_time": "2024-02-01T07:11:20.680Z"
      },
      {
        "duration": 20,
        "start_time": "2024-02-01T07:11:20.719Z"
      },
      {
        "duration": 10,
        "start_time": "2024-02-01T07:11:20.740Z"
      },
      {
        "duration": 164,
        "start_time": "2024-02-01T07:11:20.751Z"
      },
      {
        "duration": 117,
        "start_time": "2024-02-01T07:11:20.917Z"
      },
      {
        "duration": 5,
        "start_time": "2024-02-01T07:11:21.036Z"
      },
      {
        "duration": 16,
        "start_time": "2024-02-01T07:11:21.042Z"
      },
      {
        "duration": 14,
        "start_time": "2024-02-01T07:11:21.059Z"
      },
      {
        "duration": 217,
        "start_time": "2024-02-01T07:11:21.074Z"
      },
      {
        "duration": 303,
        "start_time": "2024-02-01T07:11:21.293Z"
      },
      {
        "duration": 58,
        "start_time": "2024-02-01T07:11:21.597Z"
      },
      {
        "duration": 442,
        "start_time": "2024-02-01T07:11:21.657Z"
      },
      {
        "duration": 57,
        "start_time": "2024-02-01T07:11:22.100Z"
      },
      {
        "duration": 427,
        "start_time": "2024-02-01T07:11:22.158Z"
      },
      {
        "duration": 7,
        "start_time": "2024-02-01T07:11:22.586Z"
      },
      {
        "duration": 426,
        "start_time": "2024-02-01T07:11:22.595Z"
      },
      {
        "duration": 139,
        "start_time": "2024-02-01T07:11:23.022Z"
      },
      {
        "duration": 5,
        "start_time": "2024-02-01T07:11:23.163Z"
      },
      {
        "duration": 234,
        "start_time": "2024-02-01T07:11:23.170Z"
      },
      {
        "duration": 4,
        "start_time": "2024-02-01T07:11:23.405Z"
      },
      {
        "duration": 188,
        "start_time": "2024-02-01T07:11:23.410Z"
      },
      {
        "duration": 11,
        "start_time": "2024-02-01T07:11:23.600Z"
      },
      {
        "duration": 15,
        "start_time": "2024-02-01T07:11:23.612Z"
      },
      {
        "duration": 27,
        "start_time": "2024-02-01T07:11:23.628Z"
      },
      {
        "duration": 10,
        "start_time": "2024-02-01T07:11:23.657Z"
      },
      {
        "duration": 9,
        "start_time": "2024-02-01T07:11:23.668Z"
      },
      {
        "duration": 27,
        "start_time": "2024-02-01T07:11:23.678Z"
      },
      {
        "duration": 4,
        "start_time": "2024-02-01T07:11:23.706Z"
      },
      {
        "duration": 115,
        "start_time": "2024-02-01T07:11:23.711Z"
      },
      {
        "duration": 3,
        "start_time": "2024-02-01T07:11:38.383Z"
      },
      {
        "duration": 95,
        "start_time": "2024-02-01T07:11:38.388Z"
      },
      {
        "duration": 9,
        "start_time": "2024-02-01T07:11:38.486Z"
      },
      {
        "duration": 15,
        "start_time": "2024-02-01T07:11:38.496Z"
      },
      {
        "duration": 26,
        "start_time": "2024-02-01T07:11:38.513Z"
      },
      {
        "duration": 30,
        "start_time": "2024-02-01T07:11:38.541Z"
      },
      {
        "duration": 16,
        "start_time": "2024-02-01T07:11:38.573Z"
      },
      {
        "duration": 13,
        "start_time": "2024-02-01T07:11:38.591Z"
      },
      {
        "duration": 18,
        "start_time": "2024-02-01T07:11:38.605Z"
      },
      {
        "duration": 6,
        "start_time": "2024-02-01T07:11:38.624Z"
      },
      {
        "duration": 4,
        "start_time": "2024-02-01T07:11:38.633Z"
      },
      {
        "duration": 4,
        "start_time": "2024-02-01T07:11:38.639Z"
      },
      {
        "duration": 10,
        "start_time": "2024-02-01T07:11:38.644Z"
      },
      {
        "duration": 5,
        "start_time": "2024-02-01T07:11:38.655Z"
      },
      {
        "duration": 9,
        "start_time": "2024-02-01T07:11:38.661Z"
      },
      {
        "duration": 28,
        "start_time": "2024-02-01T07:11:38.672Z"
      },
      {
        "duration": 7,
        "start_time": "2024-02-01T07:11:38.701Z"
      },
      {
        "duration": 14,
        "start_time": "2024-02-01T07:11:38.710Z"
      },
      {
        "duration": 4,
        "start_time": "2024-02-01T07:11:38.726Z"
      },
      {
        "duration": 8,
        "start_time": "2024-02-01T07:11:38.732Z"
      },
      {
        "duration": 17,
        "start_time": "2024-02-01T07:11:38.741Z"
      },
      {
        "duration": 2,
        "start_time": "2024-02-01T07:11:38.760Z"
      },
      {
        "duration": 16,
        "start_time": "2024-02-01T07:11:38.764Z"
      },
      {
        "duration": 0,
        "start_time": "2024-02-01T07:11:38.783Z"
      },
      {
        "duration": 0,
        "start_time": "2024-02-01T07:11:38.784Z"
      },
      {
        "duration": 0,
        "start_time": "2024-02-01T07:11:38.786Z"
      },
      {
        "duration": 0,
        "start_time": "2024-02-01T07:11:38.787Z"
      },
      {
        "duration": 0,
        "start_time": "2024-02-01T07:11:38.788Z"
      },
      {
        "duration": 0,
        "start_time": "2024-02-01T07:11:38.790Z"
      },
      {
        "duration": 0,
        "start_time": "2024-02-01T07:11:38.791Z"
      },
      {
        "duration": 0,
        "start_time": "2024-02-01T07:11:38.791Z"
      },
      {
        "duration": 0,
        "start_time": "2024-02-01T07:11:38.792Z"
      },
      {
        "duration": 0,
        "start_time": "2024-02-01T07:11:38.793Z"
      },
      {
        "duration": 0,
        "start_time": "2024-02-01T07:11:38.794Z"
      },
      {
        "duration": 0,
        "start_time": "2024-02-01T07:11:38.795Z"
      },
      {
        "duration": 0,
        "start_time": "2024-02-01T07:11:38.796Z"
      },
      {
        "duration": 0,
        "start_time": "2024-02-01T07:11:38.797Z"
      },
      {
        "duration": 0,
        "start_time": "2024-02-01T07:11:38.798Z"
      },
      {
        "duration": 0,
        "start_time": "2024-02-01T07:11:38.799Z"
      },
      {
        "duration": 0,
        "start_time": "2024-02-01T07:11:38.800Z"
      },
      {
        "duration": 0,
        "start_time": "2024-02-01T07:11:38.801Z"
      },
      {
        "duration": 0,
        "start_time": "2024-02-01T07:11:38.802Z"
      },
      {
        "duration": 0,
        "start_time": "2024-02-01T07:11:38.803Z"
      },
      {
        "duration": 0,
        "start_time": "2024-02-01T07:11:38.803Z"
      },
      {
        "duration": 0,
        "start_time": "2024-02-01T07:11:38.804Z"
      },
      {
        "duration": 0,
        "start_time": "2024-02-01T07:11:38.805Z"
      },
      {
        "duration": 0,
        "start_time": "2024-02-01T07:11:38.806Z"
      },
      {
        "duration": 0,
        "start_time": "2024-02-01T07:11:38.807Z"
      },
      {
        "duration": 0,
        "start_time": "2024-02-01T07:11:38.808Z"
      },
      {
        "duration": 0,
        "start_time": "2024-02-01T07:11:38.852Z"
      },
      {
        "duration": 0,
        "start_time": "2024-02-01T07:11:38.853Z"
      },
      {
        "duration": 0,
        "start_time": "2024-02-01T07:11:38.854Z"
      },
      {
        "duration": 0,
        "start_time": "2024-02-01T07:11:38.855Z"
      },
      {
        "duration": 0,
        "start_time": "2024-02-01T07:11:38.856Z"
      },
      {
        "duration": 0,
        "start_time": "2024-02-01T07:11:38.857Z"
      },
      {
        "duration": 0,
        "start_time": "2024-02-01T07:11:38.858Z"
      },
      {
        "duration": 15,
        "start_time": "2024-02-01T07:26:23.271Z"
      },
      {
        "duration": 10,
        "start_time": "2024-02-01T07:27:42.543Z"
      },
      {
        "duration": 4,
        "start_time": "2024-02-01T07:29:52.509Z"
      },
      {
        "duration": 4,
        "start_time": "2024-02-01T07:29:56.865Z"
      },
      {
        "duration": 74,
        "start_time": "2024-02-01T07:29:56.871Z"
      },
      {
        "duration": 6,
        "start_time": "2024-02-01T07:29:56.947Z"
      },
      {
        "duration": 20,
        "start_time": "2024-02-01T07:29:56.955Z"
      },
      {
        "duration": 15,
        "start_time": "2024-02-01T07:29:56.977Z"
      },
      {
        "duration": 25,
        "start_time": "2024-02-01T07:29:56.993Z"
      },
      {
        "duration": 10,
        "start_time": "2024-02-01T07:29:57.019Z"
      },
      {
        "duration": 19,
        "start_time": "2024-02-01T07:29:57.031Z"
      },
      {
        "duration": 9,
        "start_time": "2024-02-01T07:29:57.052Z"
      },
      {
        "duration": 15,
        "start_time": "2024-02-01T07:29:57.062Z"
      },
      {
        "duration": 8,
        "start_time": "2024-02-01T07:29:57.079Z"
      },
      {
        "duration": 14,
        "start_time": "2024-02-01T07:29:57.088Z"
      },
      {
        "duration": 16,
        "start_time": "2024-02-01T07:29:57.103Z"
      },
      {
        "duration": 17,
        "start_time": "2024-02-01T07:29:57.120Z"
      },
      {
        "duration": 12,
        "start_time": "2024-02-01T07:29:57.138Z"
      },
      {
        "duration": 13,
        "start_time": "2024-02-01T07:29:57.151Z"
      },
      {
        "duration": 16,
        "start_time": "2024-02-01T07:29:57.166Z"
      },
      {
        "duration": 20,
        "start_time": "2024-02-01T07:29:57.183Z"
      },
      {
        "duration": 10,
        "start_time": "2024-02-01T07:29:57.204Z"
      },
      {
        "duration": 11,
        "start_time": "2024-02-01T07:29:57.215Z"
      },
      {
        "duration": 10,
        "start_time": "2024-02-01T07:29:57.227Z"
      },
      {
        "duration": 8,
        "start_time": "2024-02-01T07:29:57.238Z"
      },
      {
        "duration": 32,
        "start_time": "2024-02-01T07:29:57.247Z"
      },
      {
        "duration": 60,
        "start_time": "2024-02-01T07:29:57.280Z"
      },
      {
        "duration": 14,
        "start_time": "2024-02-01T07:29:57.342Z"
      },
      {
        "duration": 21,
        "start_time": "2024-02-01T07:29:57.358Z"
      },
      {
        "duration": 9,
        "start_time": "2024-02-01T07:29:57.381Z"
      },
      {
        "duration": 30,
        "start_time": "2024-02-01T07:29:57.392Z"
      },
      {
        "duration": 15,
        "start_time": "2024-02-01T07:29:57.425Z"
      },
      {
        "duration": 15,
        "start_time": "2024-02-01T07:29:57.441Z"
      },
      {
        "duration": 160,
        "start_time": "2024-02-01T07:29:57.458Z"
      },
      {
        "duration": 114,
        "start_time": "2024-02-01T07:29:57.619Z"
      },
      {
        "duration": 33,
        "start_time": "2024-02-01T07:29:57.734Z"
      },
      {
        "duration": 55,
        "start_time": "2024-02-01T07:29:57.769Z"
      },
      {
        "duration": 17,
        "start_time": "2024-02-01T07:29:57.825Z"
      },
      {
        "duration": 191,
        "start_time": "2024-02-01T07:29:57.844Z"
      },
      {
        "duration": 204,
        "start_time": "2024-02-01T07:29:58.036Z"
      },
      {
        "duration": 11,
        "start_time": "2024-02-01T07:29:58.241Z"
      },
      {
        "duration": 310,
        "start_time": "2024-02-01T07:29:58.253Z"
      },
      {
        "duration": 5,
        "start_time": "2024-02-01T07:29:58.565Z"
      },
      {
        "duration": 248,
        "start_time": "2024-02-01T07:29:58.571Z"
      },
      {
        "duration": 7,
        "start_time": "2024-02-01T07:29:58.820Z"
      },
      {
        "duration": 317,
        "start_time": "2024-02-01T07:29:58.828Z"
      },
      {
        "duration": 240,
        "start_time": "2024-02-01T07:29:59.147Z"
      },
      {
        "duration": 5,
        "start_time": "2024-02-01T07:29:59.388Z"
      },
      {
        "duration": 290,
        "start_time": "2024-02-01T07:29:59.394Z"
      },
      {
        "duration": 4,
        "start_time": "2024-02-01T07:29:59.685Z"
      },
      {
        "duration": 375,
        "start_time": "2024-02-01T07:29:59.691Z"
      },
      {
        "duration": 222,
        "start_time": "2024-02-01T07:30:00.067Z"
      },
      {
        "duration": 63,
        "start_time": "2024-02-01T07:30:00.291Z"
      },
      {
        "duration": 210,
        "start_time": "2024-02-01T07:30:00.355Z"
      },
      {
        "duration": 52,
        "start_time": "2024-02-01T07:30:00.567Z"
      },
      {
        "duration": 104,
        "start_time": "2024-02-01T07:30:00.621Z"
      },
      {
        "duration": 113,
        "start_time": "2024-02-01T07:30:00.727Z"
      },
      {
        "duration": 99,
        "start_time": "2024-02-01T07:30:00.841Z"
      },
      {
        "duration": 130,
        "start_time": "2024-02-01T07:30:00.941Z"
      },
      {
        "duration": 1018,
        "start_time": "2024-02-01T07:33:39.074Z"
      },
      {
        "duration": 73,
        "start_time": "2024-02-01T07:33:40.094Z"
      },
      {
        "duration": 12,
        "start_time": "2024-02-01T07:33:40.168Z"
      },
      {
        "duration": 12,
        "start_time": "2024-02-01T07:33:40.182Z"
      },
      {
        "duration": 29,
        "start_time": "2024-02-01T07:33:40.195Z"
      },
      {
        "duration": 16,
        "start_time": "2024-02-01T07:33:40.225Z"
      },
      {
        "duration": 20,
        "start_time": "2024-02-01T07:33:40.242Z"
      },
      {
        "duration": 26,
        "start_time": "2024-02-01T07:33:40.263Z"
      },
      {
        "duration": 6,
        "start_time": "2024-02-01T07:33:40.290Z"
      },
      {
        "duration": 6,
        "start_time": "2024-02-01T07:33:40.298Z"
      },
      {
        "duration": 8,
        "start_time": "2024-02-01T07:33:40.306Z"
      },
      {
        "duration": 6,
        "start_time": "2024-02-01T07:33:40.315Z"
      },
      {
        "duration": 26,
        "start_time": "2024-02-01T07:33:40.322Z"
      },
      {
        "duration": 27,
        "start_time": "2024-02-01T07:33:40.349Z"
      },
      {
        "duration": 32,
        "start_time": "2024-02-01T07:33:40.377Z"
      },
      {
        "duration": 40,
        "start_time": "2024-02-01T07:33:40.411Z"
      },
      {
        "duration": 58,
        "start_time": "2024-02-01T07:33:40.453Z"
      },
      {
        "duration": 38,
        "start_time": "2024-02-01T07:33:40.513Z"
      },
      {
        "duration": 15,
        "start_time": "2024-02-01T07:33:40.553Z"
      },
      {
        "duration": 44,
        "start_time": "2024-02-01T07:33:40.569Z"
      },
      {
        "duration": 47,
        "start_time": "2024-02-01T07:33:40.614Z"
      },
      {
        "duration": 36,
        "start_time": "2024-02-01T07:33:40.662Z"
      },
      {
        "duration": 35,
        "start_time": "2024-02-01T07:33:40.699Z"
      },
      {
        "duration": 60,
        "start_time": "2024-02-01T07:33:40.735Z"
      },
      {
        "duration": 18,
        "start_time": "2024-02-01T07:33:40.796Z"
      },
      {
        "duration": 183,
        "start_time": "2024-02-01T07:33:40.815Z"
      },
      {
        "duration": 108,
        "start_time": "2024-02-01T07:33:41.000Z"
      },
      {
        "duration": 6,
        "start_time": "2024-02-01T07:33:41.111Z"
      },
      {
        "duration": 20,
        "start_time": "2024-02-01T07:33:41.118Z"
      },
      {
        "duration": 27,
        "start_time": "2024-02-01T07:33:41.140Z"
      },
      {
        "duration": 268,
        "start_time": "2024-02-01T07:33:41.169Z"
      },
      {
        "duration": 192,
        "start_time": "2024-02-01T07:33:41.439Z"
      },
      {
        "duration": 6,
        "start_time": "2024-02-01T07:33:41.632Z"
      },
      {
        "duration": 285,
        "start_time": "2024-02-01T07:33:41.651Z"
      },
      {
        "duration": 14,
        "start_time": "2024-02-01T07:33:41.938Z"
      },
      {
        "duration": 198,
        "start_time": "2024-02-01T07:33:41.954Z"
      },
      {
        "duration": 7,
        "start_time": "2024-02-01T07:33:42.153Z"
      },
      {
        "duration": 301,
        "start_time": "2024-02-01T07:33:42.161Z"
      },
      {
        "duration": 153,
        "start_time": "2024-02-01T07:33:42.463Z"
      },
      {
        "duration": 6,
        "start_time": "2024-02-01T07:33:42.618Z"
      },
      {
        "duration": 158,
        "start_time": "2024-02-01T07:33:42.625Z"
      },
      {
        "duration": 5,
        "start_time": "2024-02-01T07:33:42.785Z"
      },
      {
        "duration": 200,
        "start_time": "2024-02-01T07:33:42.792Z"
      },
      {
        "duration": 139,
        "start_time": "2024-02-01T07:33:42.994Z"
      },
      {
        "duration": 17,
        "start_time": "2024-02-01T07:33:43.135Z"
      },
      {
        "duration": 45,
        "start_time": "2024-02-01T07:33:43.154Z"
      },
      {
        "duration": 11,
        "start_time": "2024-02-01T07:33:43.203Z"
      },
      {
        "duration": 20,
        "start_time": "2024-02-01T07:33:43.216Z"
      },
      {
        "duration": 23,
        "start_time": "2024-02-01T07:33:43.238Z"
      },
      {
        "duration": 4,
        "start_time": "2024-02-01T07:33:43.262Z"
      },
      {
        "duration": 12,
        "start_time": "2024-02-01T07:33:43.267Z"
      },
      {
        "duration": 1131,
        "start_time": "2024-02-01T08:50:34.080Z"
      },
      {
        "duration": 75,
        "start_time": "2024-02-01T08:50:35.213Z"
      },
      {
        "duration": 11,
        "start_time": "2024-02-01T08:50:35.289Z"
      },
      {
        "duration": 15,
        "start_time": "2024-02-01T08:50:35.302Z"
      },
      {
        "duration": 29,
        "start_time": "2024-02-01T08:50:35.318Z"
      },
      {
        "duration": 14,
        "start_time": "2024-02-01T08:50:35.348Z"
      },
      {
        "duration": 12,
        "start_time": "2024-02-01T08:50:35.364Z"
      },
      {
        "duration": 10,
        "start_time": "2024-02-01T08:50:35.378Z"
      },
      {
        "duration": 6,
        "start_time": "2024-02-01T08:50:35.389Z"
      },
      {
        "duration": 4,
        "start_time": "2024-02-01T08:50:35.397Z"
      },
      {
        "duration": 5,
        "start_time": "2024-02-01T08:50:35.403Z"
      },
      {
        "duration": 4,
        "start_time": "2024-02-01T08:50:35.409Z"
      },
      {
        "duration": 9,
        "start_time": "2024-02-01T08:50:35.414Z"
      },
      {
        "duration": 24,
        "start_time": "2024-02-01T08:50:35.424Z"
      },
      {
        "duration": 34,
        "start_time": "2024-02-01T08:50:35.450Z"
      },
      {
        "duration": 39,
        "start_time": "2024-02-01T08:50:35.485Z"
      },
      {
        "duration": 22,
        "start_time": "2024-02-01T08:50:35.526Z"
      },
      {
        "duration": 17,
        "start_time": "2024-02-01T08:50:35.550Z"
      },
      {
        "duration": 4,
        "start_time": "2024-02-01T08:50:35.569Z"
      },
      {
        "duration": 25,
        "start_time": "2024-02-01T08:50:35.574Z"
      },
      {
        "duration": 15,
        "start_time": "2024-02-01T08:50:35.600Z"
      },
      {
        "duration": 7,
        "start_time": "2024-02-01T08:50:35.617Z"
      },
      {
        "duration": 24,
        "start_time": "2024-02-01T08:50:35.626Z"
      },
      {
        "duration": 29,
        "start_time": "2024-02-01T08:50:35.652Z"
      },
      {
        "duration": 12,
        "start_time": "2024-02-01T08:50:35.683Z"
      },
      {
        "duration": 144,
        "start_time": "2024-02-01T08:50:35.696Z"
      },
      {
        "duration": 112,
        "start_time": "2024-02-01T08:50:35.842Z"
      },
      {
        "duration": 5,
        "start_time": "2024-02-01T08:50:35.958Z"
      },
      {
        "duration": 9,
        "start_time": "2024-02-01T08:50:35.964Z"
      },
      {
        "duration": 18,
        "start_time": "2024-02-01T08:50:35.975Z"
      },
      {
        "duration": 281,
        "start_time": "2024-02-01T08:50:35.994Z"
      },
      {
        "duration": 207,
        "start_time": "2024-02-01T08:50:36.276Z"
      },
      {
        "duration": 6,
        "start_time": "2024-02-01T08:50:36.484Z"
      },
      {
        "duration": 333,
        "start_time": "2024-02-01T08:50:36.491Z"
      },
      {
        "duration": 6,
        "start_time": "2024-02-01T08:50:36.825Z"
      },
      {
        "duration": 219,
        "start_time": "2024-02-01T08:50:36.833Z"
      },
      {
        "duration": 7,
        "start_time": "2024-02-01T08:50:37.054Z"
      },
      {
        "duration": 315,
        "start_time": "2024-02-01T08:50:37.063Z"
      },
      {
        "duration": 170,
        "start_time": "2024-02-01T08:50:37.379Z"
      },
      {
        "duration": 5,
        "start_time": "2024-02-01T08:50:37.551Z"
      },
      {
        "duration": 151,
        "start_time": "2024-02-01T08:50:37.557Z"
      },
      {
        "duration": 4,
        "start_time": "2024-02-01T08:50:37.709Z"
      },
      {
        "duration": 199,
        "start_time": "2024-02-01T08:50:37.715Z"
      },
      {
        "duration": 138,
        "start_time": "2024-02-01T08:50:37.916Z"
      },
      {
        "duration": 7,
        "start_time": "2024-02-01T08:50:38.055Z"
      },
      {
        "duration": 31,
        "start_time": "2024-02-01T08:50:38.063Z"
      },
      {
        "duration": 18,
        "start_time": "2024-02-01T08:50:38.095Z"
      },
      {
        "duration": 19,
        "start_time": "2024-02-01T08:50:38.115Z"
      },
      {
        "duration": 35,
        "start_time": "2024-02-01T08:50:38.135Z"
      },
      {
        "duration": 4,
        "start_time": "2024-02-01T08:50:38.171Z"
      },
      {
        "duration": 31,
        "start_time": "2024-02-01T08:50:38.176Z"
      },
      {
        "duration": 1088,
        "start_time": "2024-02-01T08:58:21.682Z"
      },
      {
        "duration": 73,
        "start_time": "2024-02-01T08:58:22.772Z"
      },
      {
        "duration": 11,
        "start_time": "2024-02-01T08:58:22.846Z"
      },
      {
        "duration": 8,
        "start_time": "2024-02-01T08:58:22.859Z"
      },
      {
        "duration": 8,
        "start_time": "2024-02-01T08:58:22.869Z"
      },
      {
        "duration": 9,
        "start_time": "2024-02-01T08:58:22.878Z"
      },
      {
        "duration": 10,
        "start_time": "2024-02-01T08:58:22.888Z"
      },
      {
        "duration": 12,
        "start_time": "2024-02-01T08:58:22.899Z"
      },
      {
        "duration": 7,
        "start_time": "2024-02-01T08:58:22.912Z"
      },
      {
        "duration": 11,
        "start_time": "2024-02-01T08:58:22.921Z"
      },
      {
        "duration": 4,
        "start_time": "2024-02-01T08:58:22.951Z"
      },
      {
        "duration": 6,
        "start_time": "2024-02-01T08:58:22.957Z"
      },
      {
        "duration": 9,
        "start_time": "2024-02-01T08:58:22.964Z"
      },
      {
        "duration": 21,
        "start_time": "2024-02-01T08:58:22.975Z"
      },
      {
        "duration": 13,
        "start_time": "2024-02-01T08:58:22.998Z"
      },
      {
        "duration": 9,
        "start_time": "2024-02-01T08:58:23.013Z"
      },
      {
        "duration": 10,
        "start_time": "2024-02-01T08:58:23.023Z"
      },
      {
        "duration": 22,
        "start_time": "2024-02-01T08:58:23.034Z"
      },
      {
        "duration": 5,
        "start_time": "2024-02-01T08:58:23.058Z"
      },
      {
        "duration": 14,
        "start_time": "2024-02-01T08:58:23.064Z"
      },
      {
        "duration": 20,
        "start_time": "2024-02-01T08:58:23.080Z"
      },
      {
        "duration": 6,
        "start_time": "2024-02-01T08:58:23.102Z"
      },
      {
        "duration": 12,
        "start_time": "2024-02-01T08:58:23.110Z"
      },
      {
        "duration": 29,
        "start_time": "2024-02-01T08:58:23.124Z"
      },
      {
        "duration": 10,
        "start_time": "2024-02-01T08:58:23.155Z"
      },
      {
        "duration": 172,
        "start_time": "2024-02-01T08:58:23.166Z"
      },
      {
        "duration": 103,
        "start_time": "2024-02-01T08:58:23.339Z"
      },
      {
        "duration": 9,
        "start_time": "2024-02-01T08:58:23.445Z"
      },
      {
        "duration": 6,
        "start_time": "2024-02-01T08:58:23.456Z"
      },
      {
        "duration": 13,
        "start_time": "2024-02-01T08:58:23.463Z"
      },
      {
        "duration": 294,
        "start_time": "2024-02-01T08:58:23.478Z"
      },
      {
        "duration": 207,
        "start_time": "2024-02-01T08:58:23.773Z"
      },
      {
        "duration": 6,
        "start_time": "2024-02-01T08:58:23.982Z"
      },
      {
        "duration": 271,
        "start_time": "2024-02-01T08:58:23.989Z"
      },
      {
        "duration": 5,
        "start_time": "2024-02-01T08:58:24.262Z"
      },
      {
        "duration": 225,
        "start_time": "2024-02-01T08:58:24.268Z"
      },
      {
        "duration": 13,
        "start_time": "2024-02-01T08:58:24.494Z"
      },
      {
        "duration": 308,
        "start_time": "2024-02-01T08:58:24.509Z"
      },
      {
        "duration": 151,
        "start_time": "2024-02-01T08:58:24.819Z"
      },
      {
        "duration": 5,
        "start_time": "2024-02-01T08:58:24.972Z"
      },
      {
        "duration": 161,
        "start_time": "2024-02-01T08:58:24.978Z"
      },
      {
        "duration": 5,
        "start_time": "2024-02-01T08:58:25.140Z"
      },
      {
        "duration": 206,
        "start_time": "2024-02-01T08:58:25.146Z"
      },
      {
        "duration": 130,
        "start_time": "2024-02-01T08:58:25.353Z"
      },
      {
        "duration": 6,
        "start_time": "2024-02-01T08:58:25.484Z"
      },
      {
        "duration": 29,
        "start_time": "2024-02-01T08:58:25.491Z"
      },
      {
        "duration": 10,
        "start_time": "2024-02-01T08:58:25.522Z"
      },
      {
        "duration": 24,
        "start_time": "2024-02-01T08:58:25.533Z"
      },
      {
        "duration": 60,
        "start_time": "2024-02-01T08:58:25.558Z"
      },
      {
        "duration": 5,
        "start_time": "2024-02-01T08:58:25.620Z"
      },
      {
        "duration": 24,
        "start_time": "2024-02-01T08:58:25.626Z"
      },
      {
        "duration": 1030,
        "start_time": "2024-02-01T08:58:51.697Z"
      },
      {
        "duration": 73,
        "start_time": "2024-02-01T08:58:52.729Z"
      },
      {
        "duration": 12,
        "start_time": "2024-02-01T08:58:52.803Z"
      },
      {
        "duration": 10,
        "start_time": "2024-02-01T08:58:52.817Z"
      },
      {
        "duration": 11,
        "start_time": "2024-02-01T08:58:52.829Z"
      },
      {
        "duration": 17,
        "start_time": "2024-02-01T08:58:52.841Z"
      },
      {
        "duration": 8,
        "start_time": "2024-02-01T08:58:52.859Z"
      },
      {
        "duration": 18,
        "start_time": "2024-02-01T08:58:52.868Z"
      },
      {
        "duration": 6,
        "start_time": "2024-02-01T08:58:52.887Z"
      },
      {
        "duration": 23,
        "start_time": "2024-02-01T08:58:52.896Z"
      },
      {
        "duration": 9,
        "start_time": "2024-02-01T08:58:52.920Z"
      },
      {
        "duration": 5,
        "start_time": "2024-02-01T08:58:52.930Z"
      },
      {
        "duration": 7,
        "start_time": "2024-02-01T08:58:52.936Z"
      },
      {
        "duration": 6,
        "start_time": "2024-02-01T08:58:52.944Z"
      },
      {
        "duration": 21,
        "start_time": "2024-02-01T08:58:52.952Z"
      },
      {
        "duration": 12,
        "start_time": "2024-02-01T08:58:52.974Z"
      },
      {
        "duration": 9,
        "start_time": "2024-02-01T08:58:52.987Z"
      },
      {
        "duration": 15,
        "start_time": "2024-02-01T08:58:52.997Z"
      },
      {
        "duration": 5,
        "start_time": "2024-02-01T08:58:53.014Z"
      },
      {
        "duration": 22,
        "start_time": "2024-02-01T08:58:53.020Z"
      },
      {
        "duration": 12,
        "start_time": "2024-02-01T08:58:53.044Z"
      },
      {
        "duration": 5,
        "start_time": "2024-02-01T08:58:53.057Z"
      },
      {
        "duration": 22,
        "start_time": "2024-02-01T08:58:53.064Z"
      },
      {
        "duration": 13,
        "start_time": "2024-02-01T08:58:53.087Z"
      },
      {
        "duration": 6,
        "start_time": "2024-02-01T08:58:53.102Z"
      },
      {
        "duration": 154,
        "start_time": "2024-02-01T08:58:53.109Z"
      },
      {
        "duration": 113,
        "start_time": "2024-02-01T08:58:53.265Z"
      },
      {
        "duration": 5,
        "start_time": "2024-02-01T08:58:53.381Z"
      },
      {
        "duration": 4,
        "start_time": "2024-02-01T08:58:53.388Z"
      },
      {
        "duration": 9,
        "start_time": "2024-02-01T08:58:53.394Z"
      },
      {
        "duration": 316,
        "start_time": "2024-02-01T08:58:53.404Z"
      },
      {
        "duration": 201,
        "start_time": "2024-02-01T08:58:53.722Z"
      },
      {
        "duration": 5,
        "start_time": "2024-02-01T08:58:53.924Z"
      },
      {
        "duration": 307,
        "start_time": "2024-02-01T08:58:53.931Z"
      },
      {
        "duration": 12,
        "start_time": "2024-02-01T08:58:54.240Z"
      },
      {
        "duration": 202,
        "start_time": "2024-02-01T08:58:54.253Z"
      },
      {
        "duration": 7,
        "start_time": "2024-02-01T08:58:54.457Z"
      },
      {
        "duration": 295,
        "start_time": "2024-02-01T08:58:54.465Z"
      },
      {
        "duration": 154,
        "start_time": "2024-02-01T08:58:54.761Z"
      },
      {
        "duration": 6,
        "start_time": "2024-02-01T08:58:54.917Z"
      },
      {
        "duration": 176,
        "start_time": "2024-02-01T08:58:54.924Z"
      },
      {
        "duration": 4,
        "start_time": "2024-02-01T08:58:55.101Z"
      },
      {
        "duration": 189,
        "start_time": "2024-02-01T08:58:55.107Z"
      },
      {
        "duration": 161,
        "start_time": "2024-02-01T08:58:55.297Z"
      },
      {
        "duration": 6,
        "start_time": "2024-02-01T08:58:55.459Z"
      },
      {
        "duration": 43,
        "start_time": "2024-02-01T08:58:55.467Z"
      },
      {
        "duration": 11,
        "start_time": "2024-02-01T08:58:55.512Z"
      },
      {
        "duration": 29,
        "start_time": "2024-02-01T08:58:55.524Z"
      },
      {
        "duration": 39,
        "start_time": "2024-02-01T08:58:55.555Z"
      },
      {
        "duration": 10,
        "start_time": "2024-02-01T08:58:55.596Z"
      },
      {
        "duration": 31,
        "start_time": "2024-02-01T08:58:55.607Z"
      },
      {
        "duration": 1400,
        "start_time": "2024-02-01T12:29:23.765Z"
      },
      {
        "duration": 199,
        "start_time": "2024-02-01T12:29:25.167Z"
      },
      {
        "duration": 13,
        "start_time": "2024-02-01T12:29:25.368Z"
      },
      {
        "duration": 38,
        "start_time": "2024-02-01T12:29:25.383Z"
      },
      {
        "duration": 20,
        "start_time": "2024-02-01T12:29:25.422Z"
      },
      {
        "duration": 17,
        "start_time": "2024-02-01T12:29:25.444Z"
      },
      {
        "duration": 11,
        "start_time": "2024-02-01T12:29:25.463Z"
      },
      {
        "duration": 26,
        "start_time": "2024-02-01T12:29:25.476Z"
      },
      {
        "duration": 17,
        "start_time": "2024-02-01T12:29:25.504Z"
      },
      {
        "duration": 8,
        "start_time": "2024-02-01T12:29:25.524Z"
      },
      {
        "duration": 6,
        "start_time": "2024-02-01T12:29:25.534Z"
      },
      {
        "duration": 34,
        "start_time": "2024-02-01T12:29:25.542Z"
      },
      {
        "duration": 40,
        "start_time": "2024-02-01T12:29:25.578Z"
      },
      {
        "duration": 9,
        "start_time": "2024-02-01T12:29:25.620Z"
      },
      {
        "duration": 18,
        "start_time": "2024-02-01T12:29:25.631Z"
      },
      {
        "duration": 8,
        "start_time": "2024-02-01T12:29:25.651Z"
      },
      {
        "duration": 12,
        "start_time": "2024-02-01T12:29:25.661Z"
      },
      {
        "duration": 18,
        "start_time": "2024-02-01T12:29:25.674Z"
      },
      {
        "duration": 7,
        "start_time": "2024-02-01T12:29:25.694Z"
      },
      {
        "duration": 21,
        "start_time": "2024-02-01T12:29:25.703Z"
      },
      {
        "duration": 16,
        "start_time": "2024-02-01T12:29:25.726Z"
      },
      {
        "duration": 4,
        "start_time": "2024-02-01T12:29:25.743Z"
      },
      {
        "duration": 35,
        "start_time": "2024-02-01T12:29:25.748Z"
      },
      {
        "duration": 22,
        "start_time": "2024-02-01T12:29:25.785Z"
      },
      {
        "duration": 44,
        "start_time": "2024-02-01T12:29:25.809Z"
      },
      {
        "duration": 195,
        "start_time": "2024-02-01T12:29:25.855Z"
      },
      {
        "duration": 126,
        "start_time": "2024-02-01T12:29:26.051Z"
      },
      {
        "duration": 6,
        "start_time": "2024-02-01T12:29:26.182Z"
      },
      {
        "duration": 85,
        "start_time": "2024-02-01T12:29:26.190Z"
      },
      {
        "duration": 52,
        "start_time": "2024-02-01T12:29:26.277Z"
      },
      {
        "duration": 325,
        "start_time": "2024-02-01T12:29:26.331Z"
      },
      {
        "duration": 231,
        "start_time": "2024-02-01T12:29:26.657Z"
      },
      {
        "duration": 6,
        "start_time": "2024-02-01T12:29:26.890Z"
      },
      {
        "duration": 349,
        "start_time": "2024-02-01T12:29:26.898Z"
      },
      {
        "duration": 5,
        "start_time": "2024-02-01T12:29:27.249Z"
      },
      {
        "duration": 272,
        "start_time": "2024-02-01T12:29:27.255Z"
      },
      {
        "duration": 8,
        "start_time": "2024-02-01T12:29:27.529Z"
      },
      {
        "duration": 342,
        "start_time": "2024-02-01T12:29:27.539Z"
      },
      {
        "duration": 194,
        "start_time": "2024-02-01T12:29:27.883Z"
      },
      {
        "duration": 6,
        "start_time": "2024-02-01T12:29:28.079Z"
      },
      {
        "duration": 181,
        "start_time": "2024-02-01T12:29:28.087Z"
      },
      {
        "duration": 4,
        "start_time": "2024-02-01T12:29:28.272Z"
      },
      {
        "duration": 209,
        "start_time": "2024-02-01T12:29:28.278Z"
      },
      {
        "duration": 136,
        "start_time": "2024-02-01T12:29:28.489Z"
      },
      {
        "duration": 7,
        "start_time": "2024-02-01T12:29:28.626Z"
      },
      {
        "duration": 41,
        "start_time": "2024-02-01T12:29:28.635Z"
      },
      {
        "duration": 11,
        "start_time": "2024-02-01T12:29:28.678Z"
      },
      {
        "duration": 32,
        "start_time": "2024-02-01T12:29:28.690Z"
      },
      {
        "duration": 35,
        "start_time": "2024-02-01T12:29:28.724Z"
      },
      {
        "duration": 4,
        "start_time": "2024-02-01T12:29:28.760Z"
      },
      {
        "duration": 69,
        "start_time": "2024-02-01T12:29:28.766Z"
      },
      {
        "duration": 1477,
        "start_time": "2024-02-02T07:02:34.982Z"
      },
      {
        "duration": 190,
        "start_time": "2024-02-02T07:02:36.461Z"
      },
      {
        "duration": 13,
        "start_time": "2024-02-02T07:02:36.653Z"
      },
      {
        "duration": 15,
        "start_time": "2024-02-02T07:02:36.669Z"
      },
      {
        "duration": 22,
        "start_time": "2024-02-02T07:02:36.686Z"
      },
      {
        "duration": 20,
        "start_time": "2024-02-02T07:02:36.710Z"
      },
      {
        "duration": 13,
        "start_time": "2024-02-02T07:02:36.732Z"
      },
      {
        "duration": 10,
        "start_time": "2024-02-02T07:02:36.747Z"
      },
      {
        "duration": 22,
        "start_time": "2024-02-02T07:02:36.759Z"
      },
      {
        "duration": 16,
        "start_time": "2024-02-02T07:02:36.783Z"
      },
      {
        "duration": 12,
        "start_time": "2024-02-02T07:02:36.801Z"
      },
      {
        "duration": 15,
        "start_time": "2024-02-02T07:02:36.815Z"
      },
      {
        "duration": 23,
        "start_time": "2024-02-02T07:02:36.831Z"
      },
      {
        "duration": 15,
        "start_time": "2024-02-02T07:02:36.856Z"
      },
      {
        "duration": 9,
        "start_time": "2024-02-02T07:02:36.873Z"
      },
      {
        "duration": 12,
        "start_time": "2024-02-02T07:02:36.883Z"
      },
      {
        "duration": 21,
        "start_time": "2024-02-02T07:02:36.897Z"
      },
      {
        "duration": 40,
        "start_time": "2024-02-02T07:02:36.919Z"
      },
      {
        "duration": 6,
        "start_time": "2024-02-02T07:02:36.961Z"
      },
      {
        "duration": 16,
        "start_time": "2024-02-02T07:02:36.969Z"
      },
      {
        "duration": 22,
        "start_time": "2024-02-02T07:02:36.987Z"
      },
      {
        "duration": 6,
        "start_time": "2024-02-02T07:02:37.011Z"
      },
      {
        "duration": 23,
        "start_time": "2024-02-02T07:02:37.018Z"
      },
      {
        "duration": 20,
        "start_time": "2024-02-02T07:02:37.043Z"
      },
      {
        "duration": 15,
        "start_time": "2024-02-02T07:02:37.064Z"
      },
      {
        "duration": 208,
        "start_time": "2024-02-02T07:02:37.080Z"
      },
      {
        "duration": 143,
        "start_time": "2024-02-02T07:02:37.290Z"
      },
      {
        "duration": 7,
        "start_time": "2024-02-02T07:02:37.436Z"
      },
      {
        "duration": 14,
        "start_time": "2024-02-02T07:02:37.444Z"
      },
      {
        "duration": 8,
        "start_time": "2024-02-02T07:02:37.460Z"
      },
      {
        "duration": 329,
        "start_time": "2024-02-02T07:02:37.470Z"
      },
      {
        "duration": 244,
        "start_time": "2024-02-02T07:02:37.801Z"
      },
      {
        "duration": 5,
        "start_time": "2024-02-02T07:02:38.047Z"
      },
      {
        "duration": 381,
        "start_time": "2024-02-02T07:02:38.054Z"
      },
      {
        "duration": 6,
        "start_time": "2024-02-02T07:02:38.436Z"
      },
      {
        "duration": 248,
        "start_time": "2024-02-02T07:02:38.443Z"
      },
      {
        "duration": 9,
        "start_time": "2024-02-02T07:02:38.693Z"
      },
      {
        "duration": 344,
        "start_time": "2024-02-02T07:02:38.704Z"
      },
      {
        "duration": 187,
        "start_time": "2024-02-02T07:02:39.050Z"
      },
      {
        "duration": 7,
        "start_time": "2024-02-02T07:02:39.239Z"
      },
      {
        "duration": 184,
        "start_time": "2024-02-02T07:02:39.247Z"
      },
      {
        "duration": 4,
        "start_time": "2024-02-02T07:02:39.433Z"
      },
      {
        "duration": 222,
        "start_time": "2024-02-02T07:02:39.439Z"
      },
      {
        "duration": 162,
        "start_time": "2024-02-02T07:02:39.663Z"
      },
      {
        "duration": 6,
        "start_time": "2024-02-02T07:02:39.826Z"
      },
      {
        "duration": 40,
        "start_time": "2024-02-02T07:02:39.833Z"
      },
      {
        "duration": 23,
        "start_time": "2024-02-02T07:02:39.874Z"
      },
      {
        "duration": 32,
        "start_time": "2024-02-02T07:02:39.899Z"
      },
      {
        "duration": 39,
        "start_time": "2024-02-02T07:02:39.933Z"
      },
      {
        "duration": 4,
        "start_time": "2024-02-02T07:02:39.973Z"
      },
      {
        "duration": 29,
        "start_time": "2024-02-02T07:02:39.979Z"
      },
      {
        "duration": 997,
        "start_time": "2024-02-02T13:07:33.024Z"
      },
      {
        "duration": 193,
        "start_time": "2024-02-02T13:07:34.023Z"
      },
      {
        "duration": 12,
        "start_time": "2024-02-02T13:07:34.218Z"
      },
      {
        "duration": 127,
        "start_time": "2024-02-02T13:07:34.232Z"
      },
      {
        "duration": 136,
        "start_time": "2024-02-02T13:07:34.362Z"
      },
      {
        "duration": 41,
        "start_time": "2024-02-02T13:07:34.499Z"
      },
      {
        "duration": 54,
        "start_time": "2024-02-02T13:07:34.542Z"
      },
      {
        "duration": 23,
        "start_time": "2024-02-02T13:07:34.597Z"
      },
      {
        "duration": 104,
        "start_time": "2024-02-02T13:07:34.621Z"
      },
      {
        "duration": 113,
        "start_time": "2024-02-02T13:07:34.727Z"
      },
      {
        "duration": 140,
        "start_time": "2024-02-02T13:07:34.841Z"
      },
      {
        "duration": 25,
        "start_time": "2024-02-02T13:07:34.983Z"
      },
      {
        "duration": 88,
        "start_time": "2024-02-02T13:07:35.009Z"
      },
      {
        "duration": 26,
        "start_time": "2024-02-02T13:07:35.100Z"
      },
      {
        "duration": 16,
        "start_time": "2024-02-02T13:07:35.127Z"
      },
      {
        "duration": 12,
        "start_time": "2024-02-02T13:07:35.144Z"
      },
      {
        "duration": 33,
        "start_time": "2024-02-02T13:07:35.157Z"
      },
      {
        "duration": 20,
        "start_time": "2024-02-02T13:07:35.191Z"
      },
      {
        "duration": 5,
        "start_time": "2024-02-02T13:07:35.212Z"
      },
      {
        "duration": 41,
        "start_time": "2024-02-02T13:07:35.218Z"
      },
      {
        "duration": 35,
        "start_time": "2024-02-02T13:07:35.260Z"
      },
      {
        "duration": 24,
        "start_time": "2024-02-02T13:07:35.297Z"
      },
      {
        "duration": 16,
        "start_time": "2024-02-02T13:07:35.323Z"
      },
      {
        "duration": 16,
        "start_time": "2024-02-02T13:07:35.341Z"
      },
      {
        "duration": 15,
        "start_time": "2024-02-02T13:07:35.358Z"
      },
      {
        "duration": 158,
        "start_time": "2024-02-02T13:07:35.374Z"
      },
      {
        "duration": 112,
        "start_time": "2024-02-02T13:07:35.534Z"
      },
      {
        "duration": 21,
        "start_time": "2024-02-02T13:07:35.647Z"
      },
      {
        "duration": 11,
        "start_time": "2024-02-02T13:07:35.669Z"
      },
      {
        "duration": 8,
        "start_time": "2024-02-02T13:07:35.682Z"
      },
      {
        "duration": 323,
        "start_time": "2024-02-02T13:07:35.693Z"
      },
      {
        "duration": 236,
        "start_time": "2024-02-02T13:07:36.018Z"
      },
      {
        "duration": 12,
        "start_time": "2024-02-02T13:07:36.255Z"
      },
      {
        "duration": 318,
        "start_time": "2024-02-02T13:07:36.269Z"
      },
      {
        "duration": 5,
        "start_time": "2024-02-02T13:07:36.589Z"
      },
      {
        "duration": 244,
        "start_time": "2024-02-02T13:07:36.595Z"
      },
      {
        "duration": 7,
        "start_time": "2024-02-02T13:07:36.840Z"
      },
      {
        "duration": 331,
        "start_time": "2024-02-02T13:07:36.849Z"
      },
      {
        "duration": 174,
        "start_time": "2024-02-02T13:07:37.182Z"
      },
      {
        "duration": 11,
        "start_time": "2024-02-02T13:07:37.358Z"
      },
      {
        "duration": 154,
        "start_time": "2024-02-02T13:07:37.373Z"
      },
      {
        "duration": 4,
        "start_time": "2024-02-02T13:07:37.528Z"
      },
      {
        "duration": 191,
        "start_time": "2024-02-02T13:07:37.533Z"
      },
      {
        "duration": 123,
        "start_time": "2024-02-02T13:07:37.726Z"
      },
      {
        "duration": 6,
        "start_time": "2024-02-02T13:07:37.850Z"
      },
      {
        "duration": 26,
        "start_time": "2024-02-02T13:07:37.866Z"
      },
      {
        "duration": 10,
        "start_time": "2024-02-02T13:07:37.894Z"
      },
      {
        "duration": 17,
        "start_time": "2024-02-02T13:07:37.906Z"
      },
      {
        "duration": 46,
        "start_time": "2024-02-02T13:07:37.925Z"
      },
      {
        "duration": 4,
        "start_time": "2024-02-02T13:07:37.972Z"
      },
      {
        "duration": 23,
        "start_time": "2024-02-02T13:07:37.978Z"
      },
      {
        "duration": 1282,
        "start_time": "2024-02-06T06:07:47.963Z"
      },
      {
        "duration": 188,
        "start_time": "2024-02-06T06:07:49.248Z"
      },
      {
        "duration": 12,
        "start_time": "2024-02-06T06:07:49.438Z"
      },
      {
        "duration": 14,
        "start_time": "2024-02-06T06:07:49.452Z"
      },
      {
        "duration": 11,
        "start_time": "2024-02-06T06:07:49.468Z"
      },
      {
        "duration": 16,
        "start_time": "2024-02-06T06:07:49.480Z"
      },
      {
        "duration": 22,
        "start_time": "2024-02-06T06:07:49.497Z"
      },
      {
        "duration": 14,
        "start_time": "2024-02-06T06:07:49.520Z"
      },
      {
        "duration": 13,
        "start_time": "2024-02-06T06:07:49.536Z"
      },
      {
        "duration": 5,
        "start_time": "2024-02-06T06:07:49.552Z"
      },
      {
        "duration": 6,
        "start_time": "2024-02-06T06:07:49.558Z"
      },
      {
        "duration": 15,
        "start_time": "2024-02-06T06:07:49.565Z"
      },
      {
        "duration": 13,
        "start_time": "2024-02-06T06:07:49.582Z"
      },
      {
        "duration": 14,
        "start_time": "2024-02-06T06:07:49.596Z"
      },
      {
        "duration": 6,
        "start_time": "2024-02-06T06:07:49.612Z"
      },
      {
        "duration": 4,
        "start_time": "2024-02-06T06:07:49.620Z"
      },
      {
        "duration": 6,
        "start_time": "2024-02-06T06:07:49.626Z"
      },
      {
        "duration": 19,
        "start_time": "2024-02-06T06:07:49.634Z"
      },
      {
        "duration": 5,
        "start_time": "2024-02-06T06:07:49.654Z"
      },
      {
        "duration": 30,
        "start_time": "2024-02-06T06:07:49.661Z"
      },
      {
        "duration": 13,
        "start_time": "2024-02-06T06:07:49.692Z"
      },
      {
        "duration": 3,
        "start_time": "2024-02-06T06:07:49.706Z"
      },
      {
        "duration": 13,
        "start_time": "2024-02-06T06:07:49.711Z"
      },
      {
        "duration": 15,
        "start_time": "2024-02-06T06:07:49.725Z"
      },
      {
        "duration": 6,
        "start_time": "2024-02-06T06:07:49.741Z"
      },
      {
        "duration": 178,
        "start_time": "2024-02-06T06:07:49.748Z"
      },
      {
        "duration": 120,
        "start_time": "2024-02-06T06:07:49.927Z"
      },
      {
        "duration": 6,
        "start_time": "2024-02-06T06:07:50.050Z"
      },
      {
        "duration": 32,
        "start_time": "2024-02-06T06:07:50.058Z"
      },
      {
        "duration": 21,
        "start_time": "2024-02-06T06:07:50.091Z"
      },
      {
        "duration": 288,
        "start_time": "2024-02-06T06:07:50.114Z"
      },
      {
        "duration": 209,
        "start_time": "2024-02-06T06:07:50.404Z"
      },
      {
        "duration": 5,
        "start_time": "2024-02-06T06:07:50.615Z"
      },
      {
        "duration": 340,
        "start_time": "2024-02-06T06:07:50.622Z"
      },
      {
        "duration": 5,
        "start_time": "2024-02-06T06:07:50.964Z"
      },
      {
        "duration": 238,
        "start_time": "2024-02-06T06:07:50.971Z"
      },
      {
        "duration": 8,
        "start_time": "2024-02-06T06:07:51.210Z"
      },
      {
        "duration": 303,
        "start_time": "2024-02-06T06:07:51.219Z"
      },
      {
        "duration": 164,
        "start_time": "2024-02-06T06:07:51.523Z"
      },
      {
        "duration": 5,
        "start_time": "2024-02-06T06:07:51.689Z"
      },
      {
        "duration": 153,
        "start_time": "2024-02-06T06:07:51.696Z"
      },
      {
        "duration": 4,
        "start_time": "2024-02-06T06:07:51.850Z"
      },
      {
        "duration": 214,
        "start_time": "2024-02-06T06:07:51.856Z"
      },
      {
        "duration": 140,
        "start_time": "2024-02-06T06:07:52.071Z"
      },
      {
        "duration": 6,
        "start_time": "2024-02-06T06:07:52.213Z"
      },
      {
        "duration": 31,
        "start_time": "2024-02-06T06:07:52.220Z"
      },
      {
        "duration": 10,
        "start_time": "2024-02-06T06:07:52.253Z"
      },
      {
        "duration": 31,
        "start_time": "2024-02-06T06:07:52.264Z"
      },
      {
        "duration": 35,
        "start_time": "2024-02-06T06:07:52.297Z"
      },
      {
        "duration": 4,
        "start_time": "2024-02-06T06:07:52.333Z"
      },
      {
        "duration": 13,
        "start_time": "2024-02-06T06:07:52.338Z"
      },
      {
        "duration": 1766,
        "start_time": "2024-02-06T10:44:32.661Z"
      },
      {
        "duration": 74,
        "start_time": "2024-02-06T10:44:34.429Z"
      },
      {
        "duration": 12,
        "start_time": "2024-02-06T10:44:34.504Z"
      },
      {
        "duration": 11,
        "start_time": "2024-02-06T10:44:34.518Z"
      },
      {
        "duration": 16,
        "start_time": "2024-02-06T10:44:34.531Z"
      },
      {
        "duration": 11,
        "start_time": "2024-02-06T10:44:34.549Z"
      },
      {
        "duration": 11,
        "start_time": "2024-02-06T10:44:34.561Z"
      },
      {
        "duration": 13,
        "start_time": "2024-02-06T10:44:34.573Z"
      },
      {
        "duration": 4,
        "start_time": "2024-02-06T10:44:34.588Z"
      },
      {
        "duration": 6,
        "start_time": "2024-02-06T10:44:34.594Z"
      },
      {
        "duration": 7,
        "start_time": "2024-02-06T10:44:34.601Z"
      },
      {
        "duration": 9,
        "start_time": "2024-02-06T10:44:34.609Z"
      },
      {
        "duration": 12,
        "start_time": "2024-02-06T10:44:34.619Z"
      },
      {
        "duration": 4,
        "start_time": "2024-02-06T10:44:34.632Z"
      },
      {
        "duration": 9,
        "start_time": "2024-02-06T10:44:34.637Z"
      },
      {
        "duration": 3,
        "start_time": "2024-02-06T10:44:34.648Z"
      },
      {
        "duration": 5,
        "start_time": "2024-02-06T10:44:34.653Z"
      },
      {
        "duration": 33,
        "start_time": "2024-02-06T10:44:34.659Z"
      },
      {
        "duration": 4,
        "start_time": "2024-02-06T10:44:34.694Z"
      },
      {
        "duration": 36,
        "start_time": "2024-02-06T10:44:34.700Z"
      },
      {
        "duration": 15,
        "start_time": "2024-02-06T10:44:34.738Z"
      },
      {
        "duration": 5,
        "start_time": "2024-02-06T10:44:34.754Z"
      },
      {
        "duration": 14,
        "start_time": "2024-02-06T10:44:34.760Z"
      },
      {
        "duration": 27,
        "start_time": "2024-02-06T10:44:34.776Z"
      },
      {
        "duration": 5,
        "start_time": "2024-02-06T10:44:34.805Z"
      },
      {
        "duration": 152,
        "start_time": "2024-02-06T10:44:34.811Z"
      },
      {
        "duration": 115,
        "start_time": "2024-02-06T10:44:34.964Z"
      },
      {
        "duration": 6,
        "start_time": "2024-02-06T10:44:35.087Z"
      },
      {
        "duration": 23,
        "start_time": "2024-02-06T10:44:35.095Z"
      },
      {
        "duration": 11,
        "start_time": "2024-02-06T10:44:35.119Z"
      },
      {
        "duration": 291,
        "start_time": "2024-02-06T10:44:35.131Z"
      },
      {
        "duration": 213,
        "start_time": "2024-02-06T10:44:35.424Z"
      },
      {
        "duration": 6,
        "start_time": "2024-02-06T10:44:35.638Z"
      },
      {
        "duration": 297,
        "start_time": "2024-02-06T10:44:35.645Z"
      },
      {
        "duration": 5,
        "start_time": "2024-02-06T10:44:35.944Z"
      },
      {
        "duration": 225,
        "start_time": "2024-02-06T10:44:35.950Z"
      },
      {
        "duration": 12,
        "start_time": "2024-02-06T10:44:36.177Z"
      },
      {
        "duration": 308,
        "start_time": "2024-02-06T10:44:36.190Z"
      },
      {
        "duration": 158,
        "start_time": "2024-02-06T10:44:36.500Z"
      },
      {
        "duration": 5,
        "start_time": "2024-02-06T10:44:36.660Z"
      },
      {
        "duration": 161,
        "start_time": "2024-02-06T10:44:36.666Z"
      },
      {
        "duration": 4,
        "start_time": "2024-02-06T10:44:36.828Z"
      },
      {
        "duration": 196,
        "start_time": "2024-02-06T10:44:36.834Z"
      },
      {
        "duration": 130,
        "start_time": "2024-02-06T10:44:37.031Z"
      },
      {
        "duration": 6,
        "start_time": "2024-02-06T10:44:37.163Z"
      },
      {
        "duration": 42,
        "start_time": "2024-02-06T10:44:37.170Z"
      },
      {
        "duration": 11,
        "start_time": "2024-02-06T10:44:37.213Z"
      },
      {
        "duration": 12,
        "start_time": "2024-02-06T10:44:37.225Z"
      },
      {
        "duration": 51,
        "start_time": "2024-02-06T10:44:37.239Z"
      },
      {
        "duration": 4,
        "start_time": "2024-02-06T10:44:37.291Z"
      },
      {
        "duration": 14,
        "start_time": "2024-02-06T10:44:37.296Z"
      }
    ],
    "toc": {
      "base_numbering": 1,
      "nav_menu": {},
      "number_sections": true,
      "sideBar": true,
      "skip_h1_title": true,
      "title_cell": "Table of Contents",
      "title_sidebar": "Contents",
      "toc_cell": false,
      "toc_position": {},
      "toc_section_display": true,
      "toc_window_display": true
    }
  },
  "nbformat_minor": 4,
  "nbformat": 4,
  "cells": [
    {
      "cell_type": "markdown",
      "source": "# Гипотезы для увеличения выручки интернет-магазина",
      "metadata": {}
    },
    {
      "cell_type": "markdown",
      "source": "В нашем распоряжении данные крупного интернет-магазина.\n\nЦель проекта — проверить гипотезы, которые могут помочь увеличить выручку.\n\nДля достижения цели необходимо выполнить следующие задачи:\n- загрузить и предобработать данные;\n- приотезировать гипотезы;\n- проанализировать A/B-тест и принять решение по результатам.",
      "metadata": {}
    },
    {
      "cell_type": "markdown",
      "source": "Импортируем необходимые библиотеки.",
      "metadata": {}
    },
    {
      "cell_type": "code",
      "source": "import pandas as pd # импортируем библиотеку pandas\nimport datetime as dt # импортируем библиотеку datetime\nimport numpy as np # импортируем библиотеку numpy\nimport matplotlib.pyplot as plt # импортируем библиотеку matplotlib\nimport scipy.stats as stats # импортируем библиотеку scipy",
      "metadata": {},
      "outputs": [],
      "execution_count": 1
    },
    {
      "cell_type": "markdown",
      "source": "## Загрузка и предобработка данных",
      "metadata": {}
    },
    {
      "cell_type": "markdown",
      "source": "### Загрузка данных",
      "metadata": {}
    },
    {
      "cell_type": "markdown",
      "source": "Загрузим данные.",
      "metadata": {}
    },
    {
      "cell_type": "code",
      "source": "hpts = pd.read_csv('/datasets/hypothesis.csv') # импортируем данные о гипотезах\norders = pd.read_csv('/datasets/orders.csv') # импортируем данные о заказах\nvisitors = pd.read_csv('/datasets/visitors.csv') # импортируем данные о пользователях",
      "metadata": {},
      "outputs": [],
      "execution_count": 2
    },
    {
      "cell_type": "markdown",
      "source": "Выведем первые 5 строчек датафрейма с гипотезами.",
      "metadata": {}
    },
    {
      "cell_type": "code",
      "source": "hpts.head() # выведем первые 5 строчек таблицы с гипотезами",
      "metadata": {},
      "outputs": [
        {
          "data": {
            "text/html": [
              "<div>\n",
              "<style scoped>\n",
              "    .dataframe tbody tr th:only-of-type {\n",
              "        vertical-align: middle;\n",
              "    }\n",
              "\n",
              "    .dataframe tbody tr th {\n",
              "        vertical-align: top;\n",
              "    }\n",
              "\n",
              "    .dataframe thead th {\n",
              "        text-align: right;\n",
              "    }\n",
              "</style>\n",
              "<table border=\"1\" class=\"dataframe\">\n",
              "  <thead>\n",
              "    <tr style=\"text-align: right;\">\n",
              "      <th></th>\n",
              "      <th>Hypothesis</th>\n",
              "      <th>Reach</th>\n",
              "      <th>Impact</th>\n",
              "      <th>Confidence</th>\n",
              "      <th>Efforts</th>\n",
              "    </tr>\n",
              "  </thead>\n",
              "  <tbody>\n",
              "    <tr>\n",
              "      <th>0</th>\n",
              "      <td>Добавить два новых канала привлечения трафика,...</td>\n",
              "      <td>3</td>\n",
              "      <td>10</td>\n",
              "      <td>8</td>\n",
              "      <td>6</td>\n",
              "    </tr>\n",
              "    <tr>\n",
              "      <th>1</th>\n",
              "      <td>Запустить собственную службу доставки, что сок...</td>\n",
              "      <td>2</td>\n",
              "      <td>5</td>\n",
              "      <td>4</td>\n",
              "      <td>10</td>\n",
              "    </tr>\n",
              "    <tr>\n",
              "      <th>2</th>\n",
              "      <td>Добавить блоки рекомендаций товаров на сайт ин...</td>\n",
              "      <td>8</td>\n",
              "      <td>3</td>\n",
              "      <td>7</td>\n",
              "      <td>3</td>\n",
              "    </tr>\n",
              "    <tr>\n",
              "      <th>3</th>\n",
              "      <td>Изменить структура категорий, что увеличит кон...</td>\n",
              "      <td>8</td>\n",
              "      <td>3</td>\n",
              "      <td>3</td>\n",
              "      <td>8</td>\n",
              "    </tr>\n",
              "    <tr>\n",
              "      <th>4</th>\n",
              "      <td>Изменить цвет фона главной страницы, чтобы уве...</td>\n",
              "      <td>3</td>\n",
              "      <td>1</td>\n",
              "      <td>1</td>\n",
              "      <td>1</td>\n",
              "    </tr>\n",
              "  </tbody>\n",
              "</table>\n",
              "</div>"
            ],
            "text/plain": [
              "                                          Hypothesis  Reach  Impact  \\\n",
              "0  Добавить два новых канала привлечения трафика,...      3      10   \n",
              "1  Запустить собственную службу доставки, что сок...      2       5   \n",
              "2  Добавить блоки рекомендаций товаров на сайт ин...      8       3   \n",
              "3  Изменить структура категорий, что увеличит кон...      8       3   \n",
              "4  Изменить цвет фона главной страницы, чтобы уве...      3       1   \n",
              "\n",
              "   Confidence  Efforts  \n",
              "0           8        6  \n",
              "1           4       10  \n",
              "2           7        3  \n",
              "3           3        8  \n",
              "4           1        1  "
            ]
          },
          "execution_count": 3,
          "metadata": {},
          "output_type": "execute_result"
        }
      ],
      "execution_count": 3
    },
    {
      "cell_type": "markdown",
      "source": "Посмотрим основную информацию о датафрейме с гипотезами.",
      "metadata": {}
    },
    {
      "cell_type": "code",
      "source": "hpts.info() # посмотрим основную информацию датафрейма с гипотезами",
      "metadata": {},
      "outputs": [
        {
          "name": "stdout",
          "output_type": "stream",
          "text": [
            "<class 'pandas.core.frame.DataFrame'>\n",
            "RangeIndex: 9 entries, 0 to 8\n",
            "Data columns (total 5 columns):\n",
            " #   Column      Non-Null Count  Dtype \n",
            "---  ------      --------------  ----- \n",
            " 0   Hypothesis  9 non-null      object\n",
            " 1   Reach       9 non-null      int64 \n",
            " 2   Impact      9 non-null      int64 \n",
            " 3   Confidence  9 non-null      int64 \n",
            " 4   Efforts     9 non-null      int64 \n",
            "dtypes: int64(4), object(1)\n",
            "memory usage: 488.0+ bytes\n"
          ]
        }
      ],
      "execution_count": 4
    },
    {
      "cell_type": "markdown",
      "source": "Выведем первые 5 строчек датафрейма с заказами.",
      "metadata": {}
    },
    {
      "cell_type": "code",
      "source": "orders.head() # выведем первые 5 строчек таблицы с заказами",
      "metadata": {},
      "outputs": [
        {
          "data": {
            "text/html": [
              "<div>\n",
              "<style scoped>\n",
              "    .dataframe tbody tr th:only-of-type {\n",
              "        vertical-align: middle;\n",
              "    }\n",
              "\n",
              "    .dataframe tbody tr th {\n",
              "        vertical-align: top;\n",
              "    }\n",
              "\n",
              "    .dataframe thead th {\n",
              "        text-align: right;\n",
              "    }\n",
              "</style>\n",
              "<table border=\"1\" class=\"dataframe\">\n",
              "  <thead>\n",
              "    <tr style=\"text-align: right;\">\n",
              "      <th></th>\n",
              "      <th>transactionId</th>\n",
              "      <th>visitorId</th>\n",
              "      <th>date</th>\n",
              "      <th>revenue</th>\n",
              "      <th>group</th>\n",
              "    </tr>\n",
              "  </thead>\n",
              "  <tbody>\n",
              "    <tr>\n",
              "      <th>0</th>\n",
              "      <td>3667963787</td>\n",
              "      <td>3312258926</td>\n",
              "      <td>2019-08-15</td>\n",
              "      <td>1650</td>\n",
              "      <td>B</td>\n",
              "    </tr>\n",
              "    <tr>\n",
              "      <th>1</th>\n",
              "      <td>2804400009</td>\n",
              "      <td>3642806036</td>\n",
              "      <td>2019-08-15</td>\n",
              "      <td>730</td>\n",
              "      <td>B</td>\n",
              "    </tr>\n",
              "    <tr>\n",
              "      <th>2</th>\n",
              "      <td>2961555356</td>\n",
              "      <td>4069496402</td>\n",
              "      <td>2019-08-15</td>\n",
              "      <td>400</td>\n",
              "      <td>A</td>\n",
              "    </tr>\n",
              "    <tr>\n",
              "      <th>3</th>\n",
              "      <td>3797467345</td>\n",
              "      <td>1196621759</td>\n",
              "      <td>2019-08-15</td>\n",
              "      <td>9759</td>\n",
              "      <td>B</td>\n",
              "    </tr>\n",
              "    <tr>\n",
              "      <th>4</th>\n",
              "      <td>2282983706</td>\n",
              "      <td>2322279887</td>\n",
              "      <td>2019-08-15</td>\n",
              "      <td>2308</td>\n",
              "      <td>B</td>\n",
              "    </tr>\n",
              "  </tbody>\n",
              "</table>\n",
              "</div>"
            ],
            "text/plain": [
              "   transactionId   visitorId        date  revenue group\n",
              "0     3667963787  3312258926  2019-08-15     1650     B\n",
              "1     2804400009  3642806036  2019-08-15      730     B\n",
              "2     2961555356  4069496402  2019-08-15      400     A\n",
              "3     3797467345  1196621759  2019-08-15     9759     B\n",
              "4     2282983706  2322279887  2019-08-15     2308     B"
            ]
          },
          "execution_count": 5,
          "metadata": {},
          "output_type": "execute_result"
        }
      ],
      "execution_count": 5
    },
    {
      "cell_type": "markdown",
      "source": "Посмотрим основную информацию о датафрейме с заказами.",
      "metadata": {}
    },
    {
      "cell_type": "code",
      "source": "orders.info() # посмотрим основную информацию датафрейма с заказами",
      "metadata": {},
      "outputs": [
        {
          "name": "stdout",
          "output_type": "stream",
          "text": [
            "<class 'pandas.core.frame.DataFrame'>\n",
            "RangeIndex: 1197 entries, 0 to 1196\n",
            "Data columns (total 5 columns):\n",
            " #   Column         Non-Null Count  Dtype \n",
            "---  ------         --------------  ----- \n",
            " 0   transactionId  1197 non-null   int64 \n",
            " 1   visitorId      1197 non-null   int64 \n",
            " 2   date           1197 non-null   object\n",
            " 3   revenue        1197 non-null   int64 \n",
            " 4   group          1197 non-null   object\n",
            "dtypes: int64(3), object(2)\n",
            "memory usage: 46.9+ KB\n"
          ]
        }
      ],
      "execution_count": 6
    },
    {
      "cell_type": "code",
      "source": "visitors.head() # выведем первые 5 строчек таблицы с посетителями",
      "metadata": {},
      "outputs": [
        {
          "data": {
            "text/html": [
              "<div>\n",
              "<style scoped>\n",
              "    .dataframe tbody tr th:only-of-type {\n",
              "        vertical-align: middle;\n",
              "    }\n",
              "\n",
              "    .dataframe tbody tr th {\n",
              "        vertical-align: top;\n",
              "    }\n",
              "\n",
              "    .dataframe thead th {\n",
              "        text-align: right;\n",
              "    }\n",
              "</style>\n",
              "<table border=\"1\" class=\"dataframe\">\n",
              "  <thead>\n",
              "    <tr style=\"text-align: right;\">\n",
              "      <th></th>\n",
              "      <th>date</th>\n",
              "      <th>group</th>\n",
              "      <th>visitors</th>\n",
              "    </tr>\n",
              "  </thead>\n",
              "  <tbody>\n",
              "    <tr>\n",
              "      <th>0</th>\n",
              "      <td>2019-08-01</td>\n",
              "      <td>A</td>\n",
              "      <td>719</td>\n",
              "    </tr>\n",
              "    <tr>\n",
              "      <th>1</th>\n",
              "      <td>2019-08-02</td>\n",
              "      <td>A</td>\n",
              "      <td>619</td>\n",
              "    </tr>\n",
              "    <tr>\n",
              "      <th>2</th>\n",
              "      <td>2019-08-03</td>\n",
              "      <td>A</td>\n",
              "      <td>507</td>\n",
              "    </tr>\n",
              "    <tr>\n",
              "      <th>3</th>\n",
              "      <td>2019-08-04</td>\n",
              "      <td>A</td>\n",
              "      <td>717</td>\n",
              "    </tr>\n",
              "    <tr>\n",
              "      <th>4</th>\n",
              "      <td>2019-08-05</td>\n",
              "      <td>A</td>\n",
              "      <td>756</td>\n",
              "    </tr>\n",
              "  </tbody>\n",
              "</table>\n",
              "</div>"
            ],
            "text/plain": [
              "         date group  visitors\n",
              "0  2019-08-01     A       719\n",
              "1  2019-08-02     A       619\n",
              "2  2019-08-03     A       507\n",
              "3  2019-08-04     A       717\n",
              "4  2019-08-05     A       756"
            ]
          },
          "execution_count": 7,
          "metadata": {},
          "output_type": "execute_result"
        }
      ],
      "execution_count": 7
    },
    {
      "cell_type": "code",
      "source": "visitors.info() # посмотрим основную информацию датафрейма с посетителями",
      "metadata": {},
      "outputs": [
        {
          "name": "stdout",
          "output_type": "stream",
          "text": [
            "<class 'pandas.core.frame.DataFrame'>\n",
            "RangeIndex: 62 entries, 0 to 61\n",
            "Data columns (total 3 columns):\n",
            " #   Column    Non-Null Count  Dtype \n",
            "---  ------    --------------  ----- \n",
            " 0   date      62 non-null     object\n",
            " 1   group     62 non-null     object\n",
            " 2   visitors  62 non-null     int64 \n",
            "dtypes: int64(1), object(2)\n",
            "memory usage: 1.6+ KB\n"
          ]
        }
      ],
      "execution_count": 8
    },
    {
      "cell_type": "markdown",
      "source": "**Вывод**\n\nВ ходе данного шага было выполнено следующее:\n- загрузили данные;\n- изучили основную информацию.\n\nПропусков в данных не наблюдается. Необходимо привести к нужному типу данных столбец `date` в датафреймах `orders` и `visitors`. Названия столбцов в датафрейме `orders` лучше привести к змеиному регистру.",
      "metadata": {}
    },
    {
      "cell_type": "markdown",
      "source": "### Предобработка данных",
      "metadata": {}
    },
    {
      "cell_type": "markdown",
      "source": "Начнём предобработку с таблицы с данными о гипотезах.",
      "metadata": {}
    },
    {
      "cell_type": "markdown",
      "source": "Переименуем названия столбцов (приведём их к нижнему регистру).",
      "metadata": {}
    },
    {
      "cell_type": "code",
      "source": "hpts = hpts.rename(columns={'Hypothesis': 'hypothesis', 'Reach': 'reach', # приведём названия столбцов к нижнему регистру\n                        'Impact': 'impact', 'Confidence': 'confidence', 'Efforts': 'efforts'})",
      "metadata": {},
      "outputs": [],
      "execution_count": 9
    },
    {
      "cell_type": "markdown",
      "source": "В столбце `hypothesis` содержится текстовая информация. Теоретические там могут быть дубликаты. Изучим.",
      "metadata": {}
    },
    {
      "cell_type": "code",
      "source": "hpts['hypothesis'].duplicated().sum() # посмотрим на количество дубликатов в столбце hypothesis",
      "metadata": {},
      "outputs": [
        {
          "data": {
            "text/plain": [
              "0"
            ]
          },
          "execution_count": 10,
          "metadata": {},
          "output_type": "execute_result"
        }
      ],
      "execution_count": 10
    },
    {
      "cell_type": "markdown",
      "source": "Дубликаты отсутствуют. Остальные столбцы нет смысла проверять, так как там содержится числовая информация, которая может повторяться.",
      "metadata": {}
    },
    {
      "cell_type": "markdown",
      "source": "Изучим описание гипотез.",
      "metadata": {}
    },
    {
      "cell_type": "code",
      "source": "hpts['hypothesis'].unique() # выведем описание гипотез",
      "metadata": {},
      "outputs": [
        {
          "data": {
            "text/plain": [
              "array(['Добавить два новых канала привлечения трафика, что позволит привлекать на 30% больше пользователей',\n",
              "       'Запустить собственную службу доставки, что сократит срок доставки заказов',\n",
              "       'Добавить блоки рекомендаций товаров на сайт интернет магазина, чтобы повысить конверсию и средний чек заказа',\n",
              "       'Изменить структура категорий, что увеличит конверсию, т.к. пользователи быстрее найдут нужный товар',\n",
              "       'Изменить цвет фона главной страницы, чтобы увеличить вовлеченность пользователей',\n",
              "       'Добавить страницу отзывов клиентов о магазине, что позволит увеличить количество заказов',\n",
              "       'Показать на главной странице баннеры с актуальными акциями и распродажами, чтобы увеличить конверсию',\n",
              "       'Добавить форму подписки на все основные страницы, чтобы собрать базу клиентов для email-рассылок',\n",
              "       'Запустить акцию, дающую скидку на товар в день рождения'],\n",
              "      dtype=object)"
            ]
          },
          "execution_count": 11,
          "metadata": {},
          "output_type": "execute_result"
        }
      ],
      "execution_count": 11
    },
    {
      "cell_type": "markdown",
      "source": "Имеется опечатка в гипотизе `Изменить структура категорий, что увеличит конверсию, т.к. пользователи быстрее найдут нужный товар` (должно быть `Изменить структурУ..`). Исправим это.",
      "metadata": {}
    },
    {
      "cell_type": "code",
      "source": "hpts['hypothesis'] = hpts['hypothesis'].replace('Изменить структура категорий, что увеличит '\n                                            'конверсию, т.к. пользователи быстрее найдут нужный товар',\n                         'Изменить структуру категорий, что увеличит '\n                                            'конверсию, т.к. пользователи быстрее найдут нужный товар')",
      "metadata": {},
      "outputs": [],
      "execution_count": 12
    },
    {
      "cell_type": "markdown",
      "source": "Теперь перейдём к таблице с заказами.\n\nПриведём данные столбца `date` к нужному типу.",
      "metadata": {}
    },
    {
      "cell_type": "code",
      "source": "orders['date'] = pd.to_datetime(orders['date']) # приведём столбец к формату даты",
      "metadata": {},
      "outputs": [],
      "execution_count": 13
    },
    {
      "cell_type": "markdown",
      "source": "Теперь переименуем наименования столбцов (приведём к змеиному регистру).",
      "metadata": {}
    },
    {
      "cell_type": "code",
      "source": "orders = orders.rename(columns={'transactionId': 'transaction_id', # приведём названия столбцов к змеиному регистру\n                                'visitorId': 'visitor_id'})",
      "metadata": {},
      "outputs": [],
      "execution_count": 14
    },
    {
      "cell_type": "markdown",
      "source": "Посмотрим, есть ли дубликаты.",
      "metadata": {}
    },
    {
      "cell_type": "code",
      "source": "orders.duplicated().sum() # выведем количество дубликатов",
      "metadata": {},
      "outputs": [
        {
          "data": {
            "text/plain": [
              "0"
            ]
          },
          "execution_count": 15,
          "metadata": {},
          "output_type": "execute_result"
        }
      ],
      "execution_count": 15
    },
    {
      "cell_type": "markdown",
      "source": "Дубликаты отсутствуют.",
      "metadata": {}
    },
    {
      "cell_type": "markdown",
      "source": "Теперь перейдём к таблице с пользователями.\n\nПриведём данные столбца `date` к нужному типу.",
      "metadata": {}
    },
    {
      "cell_type": "code",
      "source": "visitors['date'] = pd.to_datetime(visitors['date']) # приведём столбец к формату даты",
      "metadata": {},
      "outputs": [],
      "execution_count": 16
    },
    {
      "cell_type": "markdown",
      "source": "Посмотрим, есть ли дубликаты.",
      "metadata": {}
    },
    {
      "cell_type": "code",
      "source": "visitors.duplicated().sum() # выведем количество дубликатов",
      "metadata": {},
      "outputs": [
        {
          "data": {
            "text/plain": [
              "0"
            ]
          },
          "execution_count": 17,
          "metadata": {},
          "output_type": "execute_result"
        }
      ],
      "execution_count": 17
    },
    {
      "cell_type": "markdown",
      "source": "Дубликаты отсутствуют.",
      "metadata": {}
    },
    {
      "cell_type": "markdown",
      "source": "Теперь посмотрим, есть ли пользователи, которые попали в обе группы.",
      "metadata": {}
    },
    {
      "cell_type": "code",
      "source": "# сгруппируем пользователей по группам\npivot = pd.pivot_table(orders, index = 'visitor_id', columns = 'group', values = 'date', aggfunc = 'count')\n\n# удалим пользователей, которые попали только в одну из групп\npivot_wo_null = pivot.dropna()\n\n# выведем долю пользователей, попавших в обе группы, от общего числа пользователей\nprint(f'Доля пользователей в обеих группах от общего числа пользователей составляет {len(pivot_wo_null) / len(pivot):.1%}')",
      "metadata": {},
      "outputs": [
        {
          "name": "stdout",
          "output_type": "stream",
          "text": [
            "Доля пользователей в обеих группах от общего числа пользователей составляет 5.6%\n"
          ]
        }
      ],
      "execution_count": 18
    },
    {
      "cell_type": "markdown",
      "source": "Процент небольшой, но при этом за каждым отдельным пользователем должна закрепляться одна группа для чистоты эксперимента, поэтому исключим данных юзеров.",
      "metadata": {}
    },
    {
      "cell_type": "code",
      "source": "pivot_wo_null = pivot_wo_null.reset_index()\ndouble_group = pivot_wo_null['visitor_id'] # выделим id этих пользователей\norders = orders.loc[~orders['visitor_id'].isin(double_group)] # исключим их из основного датафрейма",
      "metadata": {},
      "outputs": [],
      "execution_count": 19
    },
    {
      "cell_type": "markdown",
      "source": "**Вывод**\n\nВ ходе данного шага было выполнено следующее:\n- изменён регистр названий столбцов;\n- изменён тип данных столбцов;\n- проведена проверка на дубликаты;\n- исправлена опечатка;\n- удалены данные о пользователях, встречающихся в обеих группах.",
      "metadata": {}
    },
    {
      "cell_type": "markdown",
      "source": "## Приоритизация гипотез.",
      "metadata": {}
    },
    {
      "cell_type": "markdown",
      "source": "Применим фреймворк ICE.",
      "metadata": {}
    },
    {
      "cell_type": "code",
      "source": "hpts['ice'] = round((hpts['impact'] * hpts['confidence']) / hpts['efforts'], 1) # добавим столбец ice\nround(hpts[['hypothesis', 'ice']].sort_values(by='ice', ascending = False), 1) # выведем полученные данные",
      "metadata": {},
      "outputs": [
        {
          "data": {
            "text/html": [
              "<div>\n",
              "<style scoped>\n",
              "    .dataframe tbody tr th:only-of-type {\n",
              "        vertical-align: middle;\n",
              "    }\n",
              "\n",
              "    .dataframe tbody tr th {\n",
              "        vertical-align: top;\n",
              "    }\n",
              "\n",
              "    .dataframe thead th {\n",
              "        text-align: right;\n",
              "    }\n",
              "</style>\n",
              "<table border=\"1\" class=\"dataframe\">\n",
              "  <thead>\n",
              "    <tr style=\"text-align: right;\">\n",
              "      <th></th>\n",
              "      <th>hypothesis</th>\n",
              "      <th>ice</th>\n",
              "    </tr>\n",
              "  </thead>\n",
              "  <tbody>\n",
              "    <tr>\n",
              "      <th>8</th>\n",
              "      <td>Запустить акцию, дающую скидку на товар в день...</td>\n",
              "      <td>16.2</td>\n",
              "    </tr>\n",
              "    <tr>\n",
              "      <th>0</th>\n",
              "      <td>Добавить два новых канала привлечения трафика,...</td>\n",
              "      <td>13.3</td>\n",
              "    </tr>\n",
              "    <tr>\n",
              "      <th>7</th>\n",
              "      <td>Добавить форму подписки на все основные страни...</td>\n",
              "      <td>11.2</td>\n",
              "    </tr>\n",
              "    <tr>\n",
              "      <th>6</th>\n",
              "      <td>Показать на главной странице баннеры с актуаль...</td>\n",
              "      <td>8.0</td>\n",
              "    </tr>\n",
              "    <tr>\n",
              "      <th>2</th>\n",
              "      <td>Добавить блоки рекомендаций товаров на сайт ин...</td>\n",
              "      <td>7.0</td>\n",
              "    </tr>\n",
              "    <tr>\n",
              "      <th>1</th>\n",
              "      <td>Запустить собственную службу доставки, что сок...</td>\n",
              "      <td>2.0</td>\n",
              "    </tr>\n",
              "    <tr>\n",
              "      <th>5</th>\n",
              "      <td>Добавить страницу отзывов клиентов о магазине,...</td>\n",
              "      <td>1.3</td>\n",
              "    </tr>\n",
              "    <tr>\n",
              "      <th>3</th>\n",
              "      <td>Изменить структуру категорий, что увеличит кон...</td>\n",
              "      <td>1.1</td>\n",
              "    </tr>\n",
              "    <tr>\n",
              "      <th>4</th>\n",
              "      <td>Изменить цвет фона главной страницы, чтобы уве...</td>\n",
              "      <td>1.0</td>\n",
              "    </tr>\n",
              "  </tbody>\n",
              "</table>\n",
              "</div>"
            ],
            "text/plain": [
              "                                          hypothesis   ice\n",
              "8  Запустить акцию, дающую скидку на товар в день...  16.2\n",
              "0  Добавить два новых канала привлечения трафика,...  13.3\n",
              "7  Добавить форму подписки на все основные страни...  11.2\n",
              "6  Показать на главной странице баннеры с актуаль...   8.0\n",
              "2  Добавить блоки рекомендаций товаров на сайт ин...   7.0\n",
              "1  Запустить собственную службу доставки, что сок...   2.0\n",
              "5  Добавить страницу отзывов клиентов о магазине,...   1.3\n",
              "3  Изменить структуру категорий, что увеличит кон...   1.1\n",
              "4  Изменить цвет фона главной страницы, чтобы уве...   1.0"
            ]
          },
          "execution_count": 20,
          "metadata": {},
          "output_type": "execute_result"
        }
      ],
      "execution_count": 20
    },
    {
      "cell_type": "code",
      "source": "hpts['ice'] = round((hpts['impact'] * hpts['confidence']) / hpts['efforts'], 1) # добавим столбец ice\nround(hpts[['hypothesis', 'ice']].sort_values(by='ice', ascending = False), 1) # выведем полученные данные",
      "metadata": {},
      "outputs": [
        {
          "data": {
            "text/html": [
              "<div>\n",
              "<style scoped>\n",
              "    .dataframe tbody tr th:only-of-type {\n",
              "        vertical-align: middle;\n",
              "    }\n",
              "\n",
              "    .dataframe tbody tr th {\n",
              "        vertical-align: top;\n",
              "    }\n",
              "\n",
              "    .dataframe thead th {\n",
              "        text-align: right;\n",
              "    }\n",
              "</style>\n",
              "<table border=\"1\" class=\"dataframe\">\n",
              "  <thead>\n",
              "    <tr style=\"text-align: right;\">\n",
              "      <th></th>\n",
              "      <th>hypothesis</th>\n",
              "      <th>ice</th>\n",
              "    </tr>\n",
              "  </thead>\n",
              "  <tbody>\n",
              "    <tr>\n",
              "      <th>8</th>\n",
              "      <td>Запустить акцию, дающую скидку на товар в день...</td>\n",
              "      <td>16.2</td>\n",
              "    </tr>\n",
              "    <tr>\n",
              "      <th>0</th>\n",
              "      <td>Добавить два новых канала привлечения трафика,...</td>\n",
              "      <td>13.3</td>\n",
              "    </tr>\n",
              "    <tr>\n",
              "      <th>7</th>\n",
              "      <td>Добавить форму подписки на все основные страни...</td>\n",
              "      <td>11.2</td>\n",
              "    </tr>\n",
              "    <tr>\n",
              "      <th>6</th>\n",
              "      <td>Показать на главной странице баннеры с актуаль...</td>\n",
              "      <td>8.0</td>\n",
              "    </tr>\n",
              "    <tr>\n",
              "      <th>2</th>\n",
              "      <td>Добавить блоки рекомендаций товаров на сайт ин...</td>\n",
              "      <td>7.0</td>\n",
              "    </tr>\n",
              "    <tr>\n",
              "      <th>1</th>\n",
              "      <td>Запустить собственную службу доставки, что сок...</td>\n",
              "      <td>2.0</td>\n",
              "    </tr>\n",
              "    <tr>\n",
              "      <th>5</th>\n",
              "      <td>Добавить страницу отзывов клиентов о магазине,...</td>\n",
              "      <td>1.3</td>\n",
              "    </tr>\n",
              "    <tr>\n",
              "      <th>3</th>\n",
              "      <td>Изменить структуру категорий, что увеличит кон...</td>\n",
              "      <td>1.1</td>\n",
              "    </tr>\n",
              "    <tr>\n",
              "      <th>4</th>\n",
              "      <td>Изменить цвет фона главной страницы, чтобы уве...</td>\n",
              "      <td>1.0</td>\n",
              "    </tr>\n",
              "  </tbody>\n",
              "</table>\n",
              "</div>"
            ],
            "text/plain": [
              "                                          hypothesis   ice\n",
              "8  Запустить акцию, дающую скидку на товар в день...  16.2\n",
              "0  Добавить два новых канала привлечения трафика,...  13.3\n",
              "7  Добавить форму подписки на все основные страни...  11.2\n",
              "6  Показать на главной странице баннеры с актуаль...   8.0\n",
              "2  Добавить блоки рекомендаций товаров на сайт ин...   7.0\n",
              "1  Запустить собственную службу доставки, что сок...   2.0\n",
              "5  Добавить страницу отзывов клиентов о магазине,...   1.3\n",
              "3  Изменить структуру категорий, что увеличит кон...   1.1\n",
              "4  Изменить цвет фона главной страницы, чтобы уве...   1.0"
            ]
          },
          "execution_count": 21,
          "metadata": {},
          "output_type": "execute_result"
        }
      ],
      "execution_count": 21
    },
    {
      "cell_type": "markdown",
      "source": "Наименование гипотезы отображается не полностью. Расширим количество показываемых символов.",
      "metadata": {}
    },
    {
      "cell_type": "code",
      "source": "pd.options.display.max_colwidth = 150",
      "metadata": {},
      "outputs": [],
      "execution_count": 22
    },
    {
      "cell_type": "markdown",
      "source": "Применим фреймворк RICE.",
      "metadata": {}
    },
    {
      "cell_type": "code",
      "source": "hpts['rice'] = (hpts['reach'] * hpts['impact'] * hpts['confidence']) / hpts['efforts'] # добавим столбец rice\nround(hpts[['hypothesis', 'rice']].sort_values(by='rice', ascending = False), 1) # выведем полученные данные",
      "metadata": {},
      "outputs": [
        {
          "data": {
            "text/html": [
              "<div>\n",
              "<style scoped>\n",
              "    .dataframe tbody tr th:only-of-type {\n",
              "        vertical-align: middle;\n",
              "    }\n",
              "\n",
              "    .dataframe tbody tr th {\n",
              "        vertical-align: top;\n",
              "    }\n",
              "\n",
              "    .dataframe thead th {\n",
              "        text-align: right;\n",
              "    }\n",
              "</style>\n",
              "<table border=\"1\" class=\"dataframe\">\n",
              "  <thead>\n",
              "    <tr style=\"text-align: right;\">\n",
              "      <th></th>\n",
              "      <th>hypothesis</th>\n",
              "      <th>rice</th>\n",
              "    </tr>\n",
              "  </thead>\n",
              "  <tbody>\n",
              "    <tr>\n",
              "      <th>7</th>\n",
              "      <td>Добавить форму подписки на все основные страницы, чтобы собрать базу клиентов для email-рассылок</td>\n",
              "      <td>112.0</td>\n",
              "    </tr>\n",
              "    <tr>\n",
              "      <th>2</th>\n",
              "      <td>Добавить блоки рекомендаций товаров на сайт интернет магазина, чтобы повысить конверсию и средний чек заказа</td>\n",
              "      <td>56.0</td>\n",
              "    </tr>\n",
              "    <tr>\n",
              "      <th>0</th>\n",
              "      <td>Добавить два новых канала привлечения трафика, что позволит привлекать на 30% больше пользователей</td>\n",
              "      <td>40.0</td>\n",
              "    </tr>\n",
              "    <tr>\n",
              "      <th>6</th>\n",
              "      <td>Показать на главной странице баннеры с актуальными акциями и распродажами, чтобы увеличить конверсию</td>\n",
              "      <td>40.0</td>\n",
              "    </tr>\n",
              "    <tr>\n",
              "      <th>8</th>\n",
              "      <td>Запустить акцию, дающую скидку на товар в день рождения</td>\n",
              "      <td>16.2</td>\n",
              "    </tr>\n",
              "    <tr>\n",
              "      <th>3</th>\n",
              "      <td>Изменить структуру категорий, что увеличит конверсию, т.к. пользователи быстрее найдут нужный товар</td>\n",
              "      <td>9.0</td>\n",
              "    </tr>\n",
              "    <tr>\n",
              "      <th>1</th>\n",
              "      <td>Запустить собственную службу доставки, что сократит срок доставки заказов</td>\n",
              "      <td>4.0</td>\n",
              "    </tr>\n",
              "    <tr>\n",
              "      <th>5</th>\n",
              "      <td>Добавить страницу отзывов клиентов о магазине, что позволит увеличить количество заказов</td>\n",
              "      <td>4.0</td>\n",
              "    </tr>\n",
              "    <tr>\n",
              "      <th>4</th>\n",
              "      <td>Изменить цвет фона главной страницы, чтобы увеличить вовлеченность пользователей</td>\n",
              "      <td>3.0</td>\n",
              "    </tr>\n",
              "  </tbody>\n",
              "</table>\n",
              "</div>"
            ],
            "text/plain": [
              "                                                                                                     hypothesis  \\\n",
              "7              Добавить форму подписки на все основные страницы, чтобы собрать базу клиентов для email-рассылок   \n",
              "2  Добавить блоки рекомендаций товаров на сайт интернет магазина, чтобы повысить конверсию и средний чек заказа   \n",
              "0            Добавить два новых канала привлечения трафика, что позволит привлекать на 30% больше пользователей   \n",
              "6          Показать на главной странице баннеры с актуальными акциями и распродажами, чтобы увеличить конверсию   \n",
              "8                                                       Запустить акцию, дающую скидку на товар в день рождения   \n",
              "3           Изменить структуру категорий, что увеличит конверсию, т.к. пользователи быстрее найдут нужный товар   \n",
              "1                                     Запустить собственную службу доставки, что сократит срок доставки заказов   \n",
              "5                      Добавить страницу отзывов клиентов о магазине, что позволит увеличить количество заказов   \n",
              "4                              Изменить цвет фона главной страницы, чтобы увеличить вовлеченность пользователей   \n",
              "\n",
              "    rice  \n",
              "7  112.0  \n",
              "2   56.0  \n",
              "0   40.0  \n",
              "6   40.0  \n",
              "8   16.2  \n",
              "3    9.0  \n",
              "1    4.0  \n",
              "5    4.0  \n",
              "4    3.0  "
            ]
          },
          "execution_count": 23,
          "metadata": {},
          "output_type": "execute_result"
        }
      ],
      "execution_count": 23
    },
    {
      "cell_type": "markdown",
      "source": "Фреймворки отличаются лишь тем, что при расчёте RICE дополнительно учитывается показатель количества пользователей, которых затронет изменение (показатель `reach`), поэтому чем больше данный показатель, тем значительнее будет перевес.\n\nВ данном случае восьмая гипотеза далеко впереди относительно остальных гипотез, при этом при расчёте ICE она была в тройке лидеров. Вероятнее всего она имеет наибольший показатель `reach`. Проверим это, выведя датафрейм целиком.",
      "metadata": {}
    },
    {
      "cell_type": "code",
      "source": "hpts # выведем всю таблицу с гипотезами",
      "metadata": {},
      "outputs": [
        {
          "data": {
            "text/html": [
              "<div>\n",
              "<style scoped>\n",
              "    .dataframe tbody tr th:only-of-type {\n",
              "        vertical-align: middle;\n",
              "    }\n",
              "\n",
              "    .dataframe tbody tr th {\n",
              "        vertical-align: top;\n",
              "    }\n",
              "\n",
              "    .dataframe thead th {\n",
              "        text-align: right;\n",
              "    }\n",
              "</style>\n",
              "<table border=\"1\" class=\"dataframe\">\n",
              "  <thead>\n",
              "    <tr style=\"text-align: right;\">\n",
              "      <th></th>\n",
              "      <th>hypothesis</th>\n",
              "      <th>reach</th>\n",
              "      <th>impact</th>\n",
              "      <th>confidence</th>\n",
              "      <th>efforts</th>\n",
              "      <th>ice</th>\n",
              "      <th>rice</th>\n",
              "    </tr>\n",
              "  </thead>\n",
              "  <tbody>\n",
              "    <tr>\n",
              "      <th>0</th>\n",
              "      <td>Добавить два новых канала привлечения трафика, что позволит привлекать на 30% больше пользователей</td>\n",
              "      <td>3</td>\n",
              "      <td>10</td>\n",
              "      <td>8</td>\n",
              "      <td>6</td>\n",
              "      <td>13.3</td>\n",
              "      <td>40.0</td>\n",
              "    </tr>\n",
              "    <tr>\n",
              "      <th>1</th>\n",
              "      <td>Запустить собственную службу доставки, что сократит срок доставки заказов</td>\n",
              "      <td>2</td>\n",
              "      <td>5</td>\n",
              "      <td>4</td>\n",
              "      <td>10</td>\n",
              "      <td>2.0</td>\n",
              "      <td>4.0</td>\n",
              "    </tr>\n",
              "    <tr>\n",
              "      <th>2</th>\n",
              "      <td>Добавить блоки рекомендаций товаров на сайт интернет магазина, чтобы повысить конверсию и средний чек заказа</td>\n",
              "      <td>8</td>\n",
              "      <td>3</td>\n",
              "      <td>7</td>\n",
              "      <td>3</td>\n",
              "      <td>7.0</td>\n",
              "      <td>56.0</td>\n",
              "    </tr>\n",
              "    <tr>\n",
              "      <th>3</th>\n",
              "      <td>Изменить структуру категорий, что увеличит конверсию, т.к. пользователи быстрее найдут нужный товар</td>\n",
              "      <td>8</td>\n",
              "      <td>3</td>\n",
              "      <td>3</td>\n",
              "      <td>8</td>\n",
              "      <td>1.1</td>\n",
              "      <td>9.0</td>\n",
              "    </tr>\n",
              "    <tr>\n",
              "      <th>4</th>\n",
              "      <td>Изменить цвет фона главной страницы, чтобы увеличить вовлеченность пользователей</td>\n",
              "      <td>3</td>\n",
              "      <td>1</td>\n",
              "      <td>1</td>\n",
              "      <td>1</td>\n",
              "      <td>1.0</td>\n",
              "      <td>3.0</td>\n",
              "    </tr>\n",
              "    <tr>\n",
              "      <th>5</th>\n",
              "      <td>Добавить страницу отзывов клиентов о магазине, что позволит увеличить количество заказов</td>\n",
              "      <td>3</td>\n",
              "      <td>2</td>\n",
              "      <td>2</td>\n",
              "      <td>3</td>\n",
              "      <td>1.3</td>\n",
              "      <td>4.0</td>\n",
              "    </tr>\n",
              "    <tr>\n",
              "      <th>6</th>\n",
              "      <td>Показать на главной странице баннеры с актуальными акциями и распродажами, чтобы увеличить конверсию</td>\n",
              "      <td>5</td>\n",
              "      <td>3</td>\n",
              "      <td>8</td>\n",
              "      <td>3</td>\n",
              "      <td>8.0</td>\n",
              "      <td>40.0</td>\n",
              "    </tr>\n",
              "    <tr>\n",
              "      <th>7</th>\n",
              "      <td>Добавить форму подписки на все основные страницы, чтобы собрать базу клиентов для email-рассылок</td>\n",
              "      <td>10</td>\n",
              "      <td>7</td>\n",
              "      <td>8</td>\n",
              "      <td>5</td>\n",
              "      <td>11.2</td>\n",
              "      <td>112.0</td>\n",
              "    </tr>\n",
              "    <tr>\n",
              "      <th>8</th>\n",
              "      <td>Запустить акцию, дающую скидку на товар в день рождения</td>\n",
              "      <td>1</td>\n",
              "      <td>9</td>\n",
              "      <td>9</td>\n",
              "      <td>5</td>\n",
              "      <td>16.2</td>\n",
              "      <td>16.2</td>\n",
              "    </tr>\n",
              "  </tbody>\n",
              "</table>\n",
              "</div>"
            ],
            "text/plain": [
              "                                                                                                     hypothesis  \\\n",
              "0            Добавить два новых канала привлечения трафика, что позволит привлекать на 30% больше пользователей   \n",
              "1                                     Запустить собственную службу доставки, что сократит срок доставки заказов   \n",
              "2  Добавить блоки рекомендаций товаров на сайт интернет магазина, чтобы повысить конверсию и средний чек заказа   \n",
              "3           Изменить структуру категорий, что увеличит конверсию, т.к. пользователи быстрее найдут нужный товар   \n",
              "4                              Изменить цвет фона главной страницы, чтобы увеличить вовлеченность пользователей   \n",
              "5                      Добавить страницу отзывов клиентов о магазине, что позволит увеличить количество заказов   \n",
              "6          Показать на главной странице баннеры с актуальными акциями и распродажами, чтобы увеличить конверсию   \n",
              "7              Добавить форму подписки на все основные страницы, чтобы собрать базу клиентов для email-рассылок   \n",
              "8                                                       Запустить акцию, дающую скидку на товар в день рождения   \n",
              "\n",
              "   reach  impact  confidence  efforts   ice   rice  \n",
              "0      3      10           8        6  13.3   40.0  \n",
              "1      2       5           4       10   2.0    4.0  \n",
              "2      8       3           7        3   7.0   56.0  \n",
              "3      8       3           3        8   1.1    9.0  \n",
              "4      3       1           1        1   1.0    3.0  \n",
              "5      3       2           2        3   1.3    4.0  \n",
              "6      5       3           8        3   8.0   40.0  \n",
              "7     10       7           8        5  11.2  112.0  \n",
              "8      1       9           9        5  16.2   16.2  "
            ]
          },
          "execution_count": 24,
          "metadata": {},
          "output_type": "execute_result"
        }
      ],
      "execution_count": 24
    },
    {
      "cell_type": "markdown",
      "source": "Действительно, показатель `reach` у восьмой гипотезы имеет наибольшую отметку.\n\nТакже стоит отметить первую гипотезу с хорошими показателями в обоих случаях.",
      "metadata": {}
    },
    {
      "cell_type": "markdown",
      "source": "## Анализ A/B-теста",
      "metadata": {}
    },
    {
      "cell_type": "markdown",
      "source": "Первым делом построим график кумулятивной выручки по группам.\n\nДля начала создадим массив уникальных пар значений дат и групп теста.",
      "metadata": {}
    },
    {
      "cell_type": "code",
      "source": "dates_groups = orders[['date','group']].drop_duplicates() # создаем массив уникальных пар значений дат и групп теста",
      "metadata": {},
      "outputs": [],
      "execution_count": 25
    },
    {
      "cell_type": "markdown",
      "source": "Теперь займёмся агрегацией данных о покупках: максимальная дата, максимальная группа (чтобы столбец `group` не пропал из итогового вывода), уникальные id заказов и пользователей, сумма средних чеков.",
      "metadata": {}
    },
    {
      "cell_type": "code",
      "source": "ord_agg = dates_groups.apply(lambda x: orders[np.logical_and(orders['date'] <= x['date'], orders['group'] == x['group'])]\\\n.agg({'date' : 'max', 'group' : 'max', \n      'transaction_id' : 'nunique', 'visitor_id' : 'nunique', \n      'revenue' : 'sum'}), axis=1).sort_values(by=['date','group'])",
      "metadata": {},
      "outputs": [],
      "execution_count": 26
    },
    {
      "cell_type": "markdown",
      "source": "По аналогии агрегируем данные посетителей.",
      "metadata": {}
    },
    {
      "cell_type": "code",
      "source": "vis_agg = dates_groups.apply(lambda x: \n                                  visitors[np.logical_and(visitors['date'] <= x['date'], \n                                                          visitors['group'] == x['group'])]\\\n                                  .agg({'date' : 'max', 'group' : 'max', 'visitors' : 'sum'}), \n                                  axis=1).sort_values(by=['date','group'])",
      "metadata": {},
      "outputs": [],
      "execution_count": 27
    },
    {
      "cell_type": "markdown",
      "source": "Теперь объединим полученные таблицы.",
      "metadata": {}
    },
    {
      "cell_type": "code",
      "source": "# объединяем данные в одну таблицу\ncummul_data = ord_agg.merge(vis_agg, left_on=['date', 'group'], right_on=['date', 'group'])",
      "metadata": {},
      "outputs": [],
      "execution_count": 28
    },
    {
      "cell_type": "markdown",
      "source": "Присвоим нормальные названия столбцов.",
      "metadata": {}
    },
    {
      "cell_type": "code",
      "source": "# меняем названия столбцов\ncummul_data.columns = ['date', 'group', 'orders', 'buyers', 'revenue', 'visitors']",
      "metadata": {},
      "outputs": [],
      "execution_count": 29
    },
    {
      "cell_type": "markdown",
      "source": "Для каждой группы создадим отдельную таблицу.",
      "metadata": {}
    },
    {
      "cell_type": "code",
      "source": "# датафрейм с аггегированными данными в группе A\ncummul_rer_a = cummul_data[cummul_data['group']=='A'][['date','revenue', 'orders']]\n\n# датафрейм с аггегированными данными в группе B\ncummul_rer_b = cummul_data[cummul_data['group']=='B'][['date','revenue', 'orders']]",
      "metadata": {},
      "outputs": [],
      "execution_count": 30
    },
    {
      "cell_type": "markdown",
      "source": "### Кумулятивная выручка по группам",
      "metadata": {}
    },
    {
      "cell_type": "markdown",
      "source": "Подготовили необходимые данные, теперь займёмся построением графика кумулятивной выручки.",
      "metadata": {}
    },
    {
      "cell_type": "code",
      "source": "# зададим размер графика\nplt.figure(figsize=(10, 7))\n# график кумулятивной выручки группы A\nplt.plot(cummul_rer_a['date'], cummul_rer_a['revenue'], color='red', label='Группа A')\n\n# график кумулятивной выручки группы B\nplt.plot(cummul_rer_b['date'], cummul_rer_b['revenue'], color='blue', label='Группа B')\n\nplt.xlabel('Дата')\nplt.ylabel('Кумулятивная выручка')\nplt.title('Кумулятивная выручка по дням и группам A/B-тестирования')\nplt.legend()\nplt.show()",
      "metadata": {},
      "outputs": [
        {
          "data": {
            "image/png": "[encoded data removed]",
            "text/plain": [
              "<Figure size 720x504 with 1 Axes>"
            ]
          },
          "metadata": {
            "needs_background": "light"
          },
          "output_type": "display_data"
        }
      ],
      "execution_count": 31
    },
    {
      "cell_type": "markdown",
      "source": "**Вывод**\n\nВыручка от группы А растёт равномерно. В середине теста выручка от пользователей группы B резко увеличилась. Это может быть связано либо с появлением более дорогих заказов, либо о росте числа заказов.",
      "metadata": {}
    },
    {
      "cell_type": "markdown",
      "source": "### Кумулятивный средний чек по группам",
      "metadata": {}
    },
    {
      "cell_type": "markdown",
      "source": "Для построения графика кумулятивного среднего чека необходимо разделить кумулятивную выручку на кумулятивное количество заказов.",
      "metadata": {}
    },
    {
      "cell_type": "code",
      "source": "# зададим размер графика\nplt.figure(figsize=(10, 7))\n\n# построим график кумулятивного среднего чека группы А\nplt.plot(cummul_rer_a['date'], cummul_rer_a['revenue'] / cummul_rer_a['orders'], color='red', label='Группа A')\n\n# построим график кумулятивного среднего чека группы B\nplt.plot(cummul_rer_b['date'], cummul_rer_b['revenue'] / cummul_rer_b['orders'], color='blue', label='Группа B')\n\n# добавим подписи осей, название графика и легенду\nplt.xlabel('Дата')\nplt.ylabel('Кумулятивный средний чек')\nplt.title('Кумулятивный средний чек по дням и группам A/B-тестирования')\nplt.legend()\nplt.show()",
      "metadata": {},
      "outputs": [
        {
          "data": {
            "image/png": "[encoded data removed]",
            "text/plain": [
              "<Figure size 720x504 with 1 Axes>"
            ]
          },
          "metadata": {
            "needs_background": "light"
          },
          "output_type": "display_data"
        }
      ],
      "execution_count": 32
    },
    {
      "cell_type": "markdown",
      "source": "**Вывод**\n\nСредний чек группы A поначалу падал, упал меньше до менее чем 5000, затем резко вырос и более половины теста был стабилен на уровне 7000.\n\nВ группе B картина следующая: в первый день теста средний чек был меньше 5000, затем вырос до 7000, и в начале второй половины теста взлетел до более чем 10000, после чего до окончания теста равномерно снижался. Всплеск, вероятнее всего, был связан с аномально крупным заказом.",
      "metadata": {}
    },
    {
      "cell_type": "markdown",
      "source": "### Относительное изменение кумулятивного среднего чека группы B к группе A",
      "metadata": {}
    },
    {
      "cell_type": "markdown",
      "source": "Для начала объединим данные обеих групп в одну таблицу.",
      "metadata": {}
    },
    {
      "cell_type": "code",
      "source": "merged_cummul_rev = cummul_rer_a.merge(cummul_rer_b, left_on='date', right_on='date', how='left', suffixes=['A', 'B'])",
      "metadata": {},
      "outputs": [],
      "execution_count": 33
    },
    {
      "cell_type": "markdown",
      "source": "Добавим горизонтальную ось, проходящую через начало координат.",
      "metadata": {}
    },
    {
      "cell_type": "code",
      "source": "# зададим размер графика\nplt.figure(figsize=(10, 7))\n\n# поcтроим отношение средних чеков\nplt.plot(merged_cummul_rev['date'], (merged_cummul_rev['revenueB']\\\n                                    /merged_cummul_rev['ordersB'])/(merged_cummul_rev['revenueA']\\\n                                                                   /merged_cummul_rev['ordersA'])-1)\n\n# добавим горизонтальную ось\nplt.axhline(y=0, color='black', linestyle='--')\n\n# добавим подписи осей и название графика\nplt.xlabel('Дата')\nplt.ylabel('Отношение среднего чека группы B к группе A')\nplt.title('Относительное изменение кумулятивного среднего чека группы B к группе A')\nplt.show()",
      "metadata": {},
      "outputs": [
        {
          "data": {
            "image/png": "[encoded data removed]",
            "text/plain": [
              "<Figure size 720x504 with 1 Axes>"
            ]
          },
          "metadata": {
            "needs_background": "light"
          },
          "output_type": "display_data"
        }
      ],
      "execution_count": 34
    },
    {
      "cell_type": "markdown",
      "source": "**Вывод**\n\nГрафик нестабилен, на всех участках скачет. Это может быть связано с выбросами (заказами с высокими чеками).",
      "metadata": {}
    },
    {
      "cell_type": "markdown",
      "source": "### Кумулятивное среднее количество заказов на посетителя по группам",
      "metadata": {}
    },
    {
      "cell_type": "markdown",
      "source": "Сперва посчитаем среднее число заказов на одного посетителя, затем разделим данные по группам.",
      "metadata": {}
    },
    {
      "cell_type": "code",
      "source": "# посчитаем среднее число заказов на одного посетителя\ncummul_data['conversion'] = cummul_data['orders'] / cummul_data['visitors']\n\n# разделяем данные по группе A\ncummul_data_a = cummul_data[cummul_data['group']=='A']\n\n# разделяем данные по группе B\ncummul_data_b = cummul_data[cummul_data['group']=='B']",
      "metadata": {},
      "outputs": [],
      "execution_count": 35
    },
    {
      "cell_type": "markdown",
      "source": "Теперь построим график.",
      "metadata": {}
    },
    {
      "cell_type": "code",
      "source": "# зададим размер графика\nplt.figure(figsize=(10, 7))\n\n# построим графики\nplt.plot(cummul_data_a['date'], cummul_data_a['conversion'], color = 'red', label='Группа A')\nplt.plot(cummul_data_b['date'], cummul_data_b['conversion'], color = 'blue', label='Группа B')\n\n# добавим подписи осей, название графика и легенду\nplt.xlabel('Дата')\nplt.ylabel('Среднее количество заказов на одного посетителя')\nplt.title('Кумулятивное среднее количество заказов на посетителя по группам')\nplt.legend()\nplt.show()",
      "metadata": {},
      "outputs": [
        {
          "data": {
            "image/png": "[encoded data removed]",
            "text/plain": [
              "<Figure size 720x504 with 1 Axes>"
            ]
          },
          "metadata": {
            "needs_background": "light"
          },
          "output_type": "display_data"
        }
      ],
      "execution_count": 36
    },
    {
      "cell_type": "markdown",
      "source": "**Вывод**\n\nКривые практически зеркальные. По ним можно сделать вывод, что изменения благоприятно повлияли на среднее количество заказов на одного посетителя группы B.",
      "metadata": {}
    },
    {
      "cell_type": "markdown",
      "source": "### Относительное изменение кумулятивного среднего количества заказов на посетителя группы B к группе A",
      "metadata": {}
    },
    {
      "cell_type": "markdown",
      "source": "Для начала создадим датафрейм, в котором будут объединены таблицы со средним количеством заказом пользователей обеих групп.",
      "metadata": {}
    },
    {
      "cell_type": "code",
      "source": "# объединяем таблицы со средним количеством заказов пользователей обеих групп\nmerged_cummul_conv = cummul_data_a[['date','conversion']]\\\n.merge(cummul_data_b[['date','conversion']], left_on='date', \\\n       right_on='date', how='left', suffixes=['A', 'B'])",
      "metadata": {},
      "outputs": [],
      "execution_count": 37
    },
    {
      "cell_type": "markdown",
      "source": "Теперь построим соответствующий график.",
      "metadata": {}
    },
    {
      "cell_type": "code",
      "source": "# зададим размер графика\nplt.figure(figsize=(10, 7))\n\nplt.plot(merged_cummul_conv['date'], \n         merged_cummul_conv['conversionB'] / merged_cummul_conv['conversionA']-1, \n         label=\"Относительный прирост кумулятивного среднего количества заказов на посетителя группы B относительно группы A\")\n\n# добавим горизонтальную ось\nplt.axhline(y=0, color='black', linestyle='--')\n\n# добавим подписи осей и название графика\nplt.xlabel('Дата')\nplt.ylabel('Отношение среднего кол-ва заказов на посетителя группы B к группе A')\nplt.title('Относительное изменение кумулятивного среднего количества заказов на посетителя группы B к группе A')\nplt.show()",
      "metadata": {},
      "outputs": [
        {
          "data": {
            "image/png": "[encoded data removed]",
            "text/plain": [
              "<Figure size 720x504 with 1 Axes>"
            ]
          },
          "metadata": {
            "needs_background": "light"
          },
          "output_type": "display_data"
        }
      ],
      "execution_count": 38
    },
    {
      "cell_type": "markdown",
      "source": "**Вывод**\n\nБольшую часть теста среднее количество заказов на посетителя наблюдается значительная разница в большую сторону у группы B. Интересно будет посмотреть на то, что будет после очищения данных от выбросов. ",
      "metadata": {}
    },
    {
      "cell_type": "markdown",
      "source": "### Количество заказов по пользователям",
      "metadata": {}
    },
    {
      "cell_type": "markdown",
      "source": "В рамках данного шага необходимо понять, сколько приходится заказов на уникального пользователя.\n\nДля оценки данного параметра нам поможет точечный график. Построим его.",
      "metadata": {}
    },
    {
      "cell_type": "code",
      "source": "# зададим значение для оси x\nx_val = pd.Series(range(0,len(orders.groupby(['visitor_id']).size())))\n\n# зададим размер графика\nplt.figure(figsize=(10, 7))\nplt.scatter(x_val, orders.groupby(['visitor_id']).size())\n\n# добавим подписи осей и название графика\nplt.xlabel('Порядковый номер пользователя')\nplt.ylabel('Количество заказов')\nplt.title('Количество заказов по пользователям')\nplt.show()",
      "metadata": {},
      "outputs": [
        {
          "data": {
            "image/png": "[encoded data removed]",
            "text/plain": [
              "<Figure size 720x504 with 1 Axes>"
            ]
          },
          "metadata": {
            "needs_background": "light"
          },
          "output_type": "display_data"
        }
      ],
      "execution_count": 39
    },
    {
      "cell_type": "markdown",
      "source": "**Вывод**\n\nПользователи в основном совершают по одному заказу, что видно по непрерывной линии в нижней части графика. Реже встречаются юзеры с 2 заказами, с 3 крайне редко. Судя по графику, аномальное количество заказов начинается от 2, но для чистоты выводов необходимо посчитать 95-й и 99-й перцинтили.",
      "metadata": {}
    },
    {
      "cell_type": "markdown",
      "source": "### 95-й и 99-й перцентили количества заказов на пользователя",
      "metadata": {}
    },
    {
      "cell_type": "markdown",
      "source": "По точечному графику можно определить, где проходит граница аномального количества заказов, но лучше это сделать расчётным путём. Посчитаем 95-й и 99-й перцентили.",
      "metadata": {}
    },
    {
      "cell_type": "code",
      "source": "print(np.percentile(orders.groupby(['visitor_id']).size(), [95, 99])) ",
      "metadata": {},
      "outputs": [
        {
          "name": "stdout",
          "output_type": "stream",
          "text": [
            "[1. 2.]\n"
          ]
        }
      ],
      "execution_count": 40
    },
    {
      "cell_type": "markdown",
      "source": "**Вывод**\n\nНе более 5% пользователей делают больше 1 заказf и не больше 1% — более 2.\n\nВ данном случае наиболее логичным вариантом верхней границей количества заказов будет 1 заказ.",
      "metadata": {}
    },
    {
      "cell_type": "markdown",
      "source": "### Стоимость заказов",
      "metadata": {}
    },
    {
      "cell_type": "markdown",
      "source": "Посмотрим точечный график распределения стоимостей заказов.",
      "metadata": {}
    },
    {
      "cell_type": "code",
      "source": "# зададим значение для оси x\nx_val = pd.Series(range(0,len(orders['revenue'])))\n\n# зададим размер графика\nplt.figure(figsize=(10, 7))\nplt.scatter(x_val, orders['revenue'])\n\n# добавим подписи осей и название графика\nplt.xlabel('Порядковый номер заказа')\nplt.ylabel('Сумма заказа')\nplt.title('Стоимость заказов')\nplt.show()",
      "metadata": {},
      "outputs": [
        {
          "data": {
            "image/png": "[encoded data removed]",
            "text/plain": [
              "<Figure size 720x504 with 1 Axes>"
            ]
          },
          "metadata": {
            "needs_background": "light"
          },
          "output_type": "display_data"
        }
      ],
      "execution_count": 41
    },
    {
      "cell_type": "markdown",
      "source": "**Вывод**\n\nПочти все заказы сосредоточены в нижней части графика, до 100 тысяч. Одно значение выбивается из остальных — заказ более чем на 1,2 миллиона, из-за чего почти все значения превратились в линию. Этот заказ и объясняет такие резкие колебания в графиках, построенных ранее. Скорее всего, это заказ пользователя из группы B.\n\nПо данному графику сложно определить верхнюю границу стоимости, с которой начинаются аномальные значения. Для её определения посчитаем 95 и 99 перцентили.",
      "metadata": {}
    },
    {
      "cell_type": "markdown",
      "source": "### 95-й и 99-й перцентили стоимости заказов",
      "metadata": {}
    },
    {
      "cell_type": "markdown",
      "source": "Определим границу, с которой начинаются выбросы, с помощью расчёта 95 и 99 перцентилей.",
      "metadata": {}
    },
    {
      "cell_type": "code",
      "source": "print(np.percentile(orders['revenue'], [95, 99])) ",
      "metadata": {},
      "outputs": [
        {
          "name": "stdout",
          "output_type": "stream",
          "text": [
            "[26785. 53904.]\n"
          ]
        }
      ],
      "execution_count": 42
    },
    {
      "cell_type": "markdown",
      "source": "**Вывод**\n\nНе более 5% заказов имеют стоимость чуть меньше 27 тысяч. Примем это значение за верхнюю границу значений, которыми будем пользоваться для анализа.",
      "metadata": {}
    },
    {
      "cell_type": "markdown",
      "source": "### Cтатистическая значимость различий в среднем количестве заказов на посетителя между группами по «сырым» данным",
      "metadata": {}
    },
    {
      "cell_type": "markdown",
      "source": "Сформируем гипотезы.\n\n**Нулевая**. Различия в среднем количестве заказов между группами отсутствует.\n\n**Альтернативная**. Различия в среднем количестве заказов между группами имеются.\n\nТеперь подготовим данные.\n\nСоздадим таблицы, в которых будет содержаться информация по заказам/посетителям в разбивке по дням и по группам.",
      "metadata": {}
    },
    {
      "cell_type": "code",
      "source": "# создадим таблицу с количеством заказов и суммой заказов в день от пользователей группы A\nord_a_daily = (\n    orders[orders['group'] == 'A'][['date', 'transaction_id', 'visitor_id', 'revenue']]\n    .groupby('date', as_index=False)\n    .agg({'transaction_id': pd.Series.nunique, 'revenue': 'sum'})\n)\nord_a_daily.columns = ['date', 'ord_per_date_a', 'rev_per_date_a']\n\n\nord_a_cummul = ord_a_daily.apply(\n    lambda x: ord_a_daily[ord_a_daily['date'] <= x['date']].agg(\n        {'date': 'max', 'ord_per_date_a': 'sum', 'rev_per_date_a': 'sum'}\n    ),\n    axis=1,\n).sort_values(by=['date'])\nord_a_cummul.columns = [\n    'date',\n    'ord_cummul_a',\n    'rev_cummul_a',\n]\n\n# создадим таблицу с количеством заказов и суммой заказов в день от пользователей группы B\nord_b_daily = (\n    orders[orders['group'] == 'B'][['date', 'transaction_id', 'visitor_id', 'revenue']]\n    .groupby('date', as_index=False)\n    .agg({'transaction_id': pd.Series.nunique, 'revenue': 'sum'})\n)\nord_b_daily.columns = ['date', 'ord_per_date_b', 'rev_per_date_b']\n\nord_b_cummul = ord_b_daily.apply(\n    lambda x: ord_b_daily[ord_b_daily['date'] <= x['date']].agg(\n        {'date': 'max', 'ord_per_date_b': 'sum', 'rev_per_date_b': 'sum'}\n    ),\n    axis=1,\n).sort_values(by=['date'])\nord_b_cummul.columns = [\n    'date',\n    'ord_cummul_b',\n    'rev_cummul_b',\n]\n\n# создадим таблицу с количеством посетителей группы A в день\nvis_a_daily = visitors[visitors['group'] == 'A'][['date', 'visitors']]\nvis_a_daily.columns = ['date', 'vis_per_date_a']\n\nvis_a_cummul = vis_a_daily.apply(\n    lambda x: vis_a_daily[vis_a_daily['date'] <= x['date']].agg(\n        {'date': 'max', 'vis_per_date_a': 'sum'}\n    ),\n    axis=1,\n)\nvis_a_cummul.columns = ['date', 'vis_cummul_a']\n\n# создадим таблицу с количеством посетителей группы B в день\nvis_b_daily = visitors[visitors['group'] == 'B'][['date', 'visitors']]\nvis_b_daily.columns = ['date', 'vis_per_date_b']\n\nvis_b_cummul = vis_b_daily.apply(\n    lambda x: vis_b_daily[vis_b_daily['date'] <= x['date']].agg(\n        {'date': 'max', 'vis_per_date_b': 'sum'}\n    ),\n    axis=1,\n)\nvis_b_cummul.columns = ['date', 'vis_cummul_b']",
      "metadata": {},
      "outputs": [],
      "execution_count": 43
    },
    {
      "cell_type": "markdown",
      "source": "Теперь создадим переменные, в которых будет указано количество заказов для всех пользователей, заказывавших что-то хотя бы 1 раз. Для каждой группы будет своя переменная.",
      "metadata": {}
    },
    {
      "cell_type": "code",
      "source": "# создадим переменную с количеством заказов для каждого пользователя группы A\nord_by_users_a = (\n    orders[orders['group'] == 'A']\n    .groupby('visitor_id', as_index=False)\n    .agg({'transaction_id': pd.Series.nunique})\n)\nord_by_users_a.columns = ['visitor_id', 'orders']\n\n# создадим переменную с количеством заказов для каждого пользователя группы B\nord_by_users_b = (\n    orders[orders['group'] == 'B']\n    .groupby('visitor_id', as_index=False)\n    .agg({'transaction_id': pd.Series.nunique})\n)\nord_by_users_b.columns = ['visitor_id', 'orders']",
      "metadata": {},
      "outputs": [],
      "execution_count": 44
    },
    {
      "cell_type": "markdown",
      "source": "Для проверки критерием Манна-Уитни создадим переменные, в которых юзерам каждой из групп будет соответствовать число совершённых заказов.",
      "metadata": {}
    },
    {
      "cell_type": "code",
      "source": "# создадим переменую для группы A\nsample_a = pd.concat([ord_by_users_a['orders'], \n                      pd.Series(0, index=np.arange(vis_a_daily['vis_per_date_a'].sum() - \n                                                   len(ord_by_users_a['orders'])), name='orders')], axis=0)\n# создадим переменую для группы B\nsample_b = pd.concat([ord_by_users_b['orders'], \n                      pd.Series(0, index=np.arange(vis_b_daily['vis_per_date_b'].sum() - \n                                                   len(ord_by_users_b['orders'])), name='orders')], axis=0)",
      "metadata": {},
      "outputs": [],
      "execution_count": 45
    },
    {
      "cell_type": "markdown",
      "source": "Теперь выведем p-value и разницу среднего количества заказов пользователей группы B относительно среднего количества заказов группы A (сырые данные).",
      "metadata": {}
    },
    {
      "cell_type": "code",
      "source": "print('p-value равен', \"{0:.3f}\".format(stats.mannwhitneyu(sample_a, sample_b)[1]))\n\nprint('Относительные различия в количестве заказов между группами', \n      \"{0:.3f}\".format(sample_b.mean() / sample_a.mean() - 1))",
      "metadata": {},
      "outputs": [
        {
          "name": "stdout",
          "output_type": "stream",
          "text": [
            "p-value равен 0.011\n",
            "Относительные различия в количестве заказов между группами 0.160\n"
          ]
        }
      ],
      "execution_count": 46
    },
    {
      "cell_type": "markdown",
      "source": "**Вывод**\n\nНеобработанные данные показывают, что разница между средним количеством заказов групп A и B есть.\n\np-value меньше 5%, из чего следует, что нулевая гипотеза отвергается.\n\nСреднее количество заказов пользователей группы B на 16% больше среднего количества заказов пользователей группы A.",
      "metadata": {}
    },
    {
      "cell_type": "markdown",
      "source": "### Статистическая значимость различий в среднем чеке заказа между группами по «сырым» данным",
      "metadata": {}
    },
    {
      "cell_type": "markdown",
      "source": "Сформируем гипотезы.\n\n**Нулевая**. Различия в среднем чеке заказа между группами отсутствует.\n\n**Альтернативная**. Различия в среднем чеке заказа между группами имеются.\n\nДанные подготовили в прошлом шаге.\n\nВыведем p-value и относительные различия в среднем чеке между группами.\n\nНулевая гипотеза — статистически значимых различий в среднем числе чеке между группами нет.",
      "metadata": {}
    },
    {
      "cell_type": "code",
      "source": "print('p-value равен', '{0:.3f}'.format(stats.mannwhitneyu(orders[orders['group']=='A']['revenue'], \n                                          orders[orders['group']=='B']['revenue'])[1]))\n\nprint('Относительные различия в среднем чеке между группами (сырые данные)', \n      '{0:.3f}'.format(orders[orders['group']=='B']['revenue'].mean() / orders[orders['group']=='A']['revenue'].mean()-1))",
      "metadata": {},
      "outputs": [
        {
          "name": "stdout",
          "output_type": "stream",
          "text": [
            "p-value равен 0.829\n",
            "Относительные различия в среднем чеке между группами (сырые данные) 0.287\n"
          ]
        }
      ],
      "execution_count": 47
    },
    {
      "cell_type": "markdown",
      "source": "**Вывод**\n\np-value равен почти 83%, что говорит о том, что нулевая гипотеза не отвергается. Средний чек между группами различается почти на 29%. Нет статистически значимого различия по среднему количеству заказов между группами.",
      "metadata": {}
    },
    {
      "cell_type": "markdown",
      "source": "### Cтатистическая значимость различий в среднем количестве заказов на посетителя между группами по «очищенным» данным",
      "metadata": {}
    },
    {
      "cell_type": "markdown",
      "source": "Ранее мы выяснили, что 95-й и 99-й перцентили среднего количества заказов на одного посетителя равны 1 и 2 соответственно.\n\nПосчитаем за аномальных пользователей, совершивших более 1 заказа.",
      "metadata": {}
    },
    {
      "cell_type": "code",
      "source": "# отдельно выведем пользователей, совершивших более 1 заказа\nmany_orders = pd.concat(\n    [\n        ord_by_users_a[ord_by_users_a['orders'] > 1]['visitor_id'],\n        ord_by_users_b[ord_by_users_b['orders'] > 1]['visitor_id'],\n    ],\n    axis=0,\n)\n\n# отдельно выведем пользователей группы A без пользователей с аномальным количеством заказов\nmany_order_a = pd.concat(\n    [\n        ord_by_users_a[\n            np.logical_not(ord_by_users_a['visitor_id'].isin(many_orders))\n        ]['orders'],\n        pd.Series(\n            0,\n            index=np.arange(\n                vis_a_daily['vis_per_date_a'].sum() - len(ord_by_users_a['orders'])\n            ),\n            name='orders',\n        ),\n    ],\n    axis=0,\n)\n\n# отдельно выведем пользователей группы B без пользователей с аномальным количеством заказов\nmany_order_b = pd.concat(\n    [\n        ord_by_users_b[\n            np.logical_not(ord_by_users_b['visitor_id'].isin(many_orders))\n        ]['orders'],\n        pd.Series(\n            0,\n            index=np.arange(\n                vis_b_daily['vis_per_date_b'].sum() - len(ord_by_users_b['orders'])\n            ),\n            name='orders',\n        ),\n    ],\n    axis=0,\n)",
      "metadata": {},
      "outputs": [],
      "execution_count": 48
    },
    {
      "cell_type": "markdown",
      "source": "Теперь выведем p-value и разницу среднего количества заказов пользователей группы B относительно среднего количества заказов пользователей группы A (чистые данные).",
      "metadata": {}
    },
    {
      "cell_type": "code",
      "source": "print('p-value равен', '{0:.3f}'.format(stats.mannwhitneyu(many_order_a, many_order_b)[1]))\nprint('Относительные различия в среднем количестве заказов между группами (чистые данные)', \n      '{0:.3f}'.format(many_order_b.mean() / many_order_a.mean() - 1))",
      "metadata": {},
      "outputs": [
        {
          "name": "stdout",
          "output_type": "stream",
          "text": [
            "p-value равен 0.009\n",
            "Относительные различия в среднем количестве заказов между группами (чистые данные) 0.183\n"
          ]
        }
      ],
      "execution_count": 49
    },
    {
      "cell_type": "markdown",
      "source": "**Вывод**\n\nДанные не сильно поменялись — p-value меньше 1%, разница увеличилась чуть больше чем на 2%. Нулевая гипотеза отвергается в пользу альтернативной.",
      "metadata": {}
    },
    {
      "cell_type": "markdown",
      "source": "### Статистическая значимость различий в среднем чеке заказа между группами по «очищенным» данным",
      "metadata": {}
    },
    {
      "cell_type": "markdown",
      "source": "Ранее мы выяснили, что 95-й и 99-й перцентили среднего чека заказа равны 26785 и 53904 соответственно.\n\nПосчитаем за аномальных пользователей, которые совершили заказы дороже 27000.",
      "metadata": {}
    },
    {
      "cell_type": "code",
      "source": "# отдельно выведем пользователей, которые совершили заказы дороже 27000\nexp_orders = orders[orders['revenue'] > 27000]['visitor_id']",
      "metadata": {},
      "outputs": [],
      "execution_count": 50
    },
    {
      "cell_type": "markdown",
      "source": "Теперь выведем p-value и разницу среднего чека заказов пользователей группы B относительно ссреднего чека заказов пользователей группы A (чистые данные).",
      "metadata": {}
    },
    {
      "cell_type": "code",
      "source": "print('p-value равен', \n    '{0:.3f}'.format(\n        stats.mannwhitneyu(\n            orders[\n                np.logical_and(\n                    orders['group'] == 'A',\n                    np.logical_not(orders['visitor_id'].isin(exp_orders)),\n                )\n            ]['revenue'],\n            orders[\n                np.logical_and(\n                    orders['group'] == 'B',\n                    np.logical_not(orders['visitor_id'].isin(exp_orders)),\n                )\n            ]['revenue'],\n        )[1]\n    )\n)\n\nprint('Относительные различия в среднем чеке между группами (чистые данные)', \n    \"{0:.3f}\".format(\n        orders[\n            np.logical_and(\n                orders['group'] == 'B',\n                np.logical_not(orders['visitor_id'].isin(exp_orders)),\n            )\n        ]['revenue'].mean()\n        / orders[\n            np.logical_and(\n                orders['group'] == 'A',\n                np.logical_not(orders['visitor_id'].isin(exp_orders)),\n            )\n        ]['revenue'].mean()\n        - 1\n    )\n)",
      "metadata": {},
      "outputs": [
        {
          "name": "stdout",
          "output_type": "stream",
          "text": [
            "p-value равен 0.741\n",
            "Относительные различия в среднем чеке между группами (чистые данные) -0.053\n"
          ]
        }
      ],
      "execution_count": 51
    },
    {
      "cell_type": "markdown",
      "source": "**Вывод**\n\nПосле очистки данных p-value стал равен чуть больше 74% — нулевая гипотеза не отвергается.\n\nТакже после чистки разница между сегментами уменьшилась на более чем 30%. Нет статистически значимого различия по среднему чеку заказа между группами.",
      "metadata": {}
    },
    {
      "cell_type": "markdown",
      "source": "### Решение по результатам теста",
      "metadata": {}
    },
    {
      "cell_type": "markdown",
      "source": "**Вывод**\n\nПо результатам A/B теста было выявлено, что статичтическа значимая разница есть по количеству заказов (разница более чем на 18%), но нет по среднему чеку (разница чуть больше 5%). Тест оказался успешным, его можно завершать.\n\nГрафик кумулятивного среднего количества заказов показывает, что большую часть теста пользователи группы B совершали больше заказов, соответственно эта группа является победившей, так как выручка от них больше.",
      "metadata": {}
    }
  ]
}